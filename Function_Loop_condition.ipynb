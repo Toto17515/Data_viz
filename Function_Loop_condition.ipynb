{
  "nbformat": 4,
  "nbformat_minor": 0,
  "metadata": {
    "colab": {
      "name": "Fucntion_Loop_condition.ipynb",
      "provenance": [],
      "collapsed_sections": [
        "Mr43lij5oZy9",
        "EUlRHN7wlu1l",
        "O4QG-Eo_mHmp",
        "1YslT8DKo857",
        "xCAWsVtrqVFM",
        "OWkLf1UGrYmQ"
      ],
      "authorship_tag": "ABX9TyOkNhzoMyz4wF5SOJIcZMC6",
      "include_colab_link": true
    },
    "kernelspec": {
      "name": "python3",
      "display_name": "Python 3"
    }
  },
  "cells": [
    {
      "cell_type": "markdown",
      "metadata": {
        "id": "view-in-github",
        "colab_type": "text"
      },
      "source": [
        "<a href=\"https://colab.research.google.com/github/Toto17515/Data_viz/blob/main/Function_Loop_condition.ipynb\" target=\"_parent\"><img src=\"https://colab.research.google.com/assets/colab-badge.svg\" alt=\"Open In Colab\"/></a>"
      ]
    },
    {
      "cell_type": "markdown",
      "metadata": {
        "id": "_JfJ4d0Mgyle"
      },
      "source": [
        "#Function\r\n",
        "\r\n"
      ]
    },
    {
      "cell_type": "markdown",
      "metadata": {
        "id": "Mr43lij5oZy9"
      },
      "source": [
        "####**สิ่งที่ควรรู้**"
      ]
    },
    {
      "cell_type": "markdown",
      "metadata": {
        "id": "lVUX0raBmTEj"
      },
      "source": [
        "\r\n",
        "backtick ( ` ) ==> กด ~ ค้าง, กด Alt + 96 (กด Alt ค้างแล้ว กด 9 ปล่อย กด 6)\r\n",
        "\r\n",
        "tilde ( ~ )\r\n",
        "\r\n",
        "curly bracket ({ })\r\n",
        "\r\n",
        "square bracket ([ ])"
      ]
    },
    {
      "cell_type": "markdown",
      "metadata": {
        "id": "MT9cEt0ug4SJ"
      },
      "source": [
        "##Function template"
      ]
    },
    {
      "cell_type": "markdown",
      "metadata": {
        "id": "bJ66X3OEg996"
      },
      "source": [
        "ทำหน้าที่รับ intput มาประมวลผลออกมาเป็น output เช่น f(x) = y"
      ]
    },
    {
      "cell_type": "markdown",
      "metadata": {
        "id": "mlG7g9YThQLa"
      },
      "source": [
        "def คือ การกำหนดฟังก์ชัน"
      ]
    },
    {
      "cell_type": "markdown",
      "metadata": {
        "id": "apdRlTOmhy4E"
      },
      "source": [
        "```python\r\n",
        "    def function_name(_input_) :\r\n",
        "      do_someting with _input_to_get_output_\r\n",
        "      return _output_\r\n",
        "```\r\n",
        "\r\n",
        "function มีส่วนทั้งหมด 4 ส่วน\r\n",
        "\r\n",
        "1.   บอก python ว่าเราจะเขียนฟังก์ชันอะไร `def function_name()` (ขาดไม่ได้)\r\n",
        "2.   กำหนดตัวแปรที่จะเป็น input `_Input` (ขาดได้ ไม่ได้สำคัญมาก)\r\n",
        "3.ส่วนประมวลผล `do_sometime_thing_wint_Input_to_get_Output` (ขาดไม่ได้)\r\n",
        "4. ส่วนของ output `return_Output` (ขาดไม่ได้)\r\n",
        "\r\n",
        "\r\n",
        "\r\n",
        "เราใช้เว้นวรรค(indent) เพื่อบอกขอบเขตของโปรแกรม"
      ]
    },
    {
      "cell_type": "markdown",
      "metadata": {
        "id": "zatnG-w0jk9b"
      },
      "source": [
        "**ตัวอย่างการเขียน**"
      ]
    },
    {
      "cell_type": "markdown",
      "metadata": {
        "id": "EUlRHN7wlu1l"
      },
      "source": [
        "####EX.1"
      ]
    },
    {
      "cell_type": "markdown",
      "metadata": {
        "id": "tlTI3GBfqKv4"
      },
      "source": [
        "normal function"
      ]
    },
    {
      "cell_type": "code",
      "metadata": {
        "id": "ESr-xMNVltzb"
      },
      "source": [
        "def p_name(name,surname,ID):\r\n",
        "  st = f'ชื่อ {name} นามสกุล {surname} รหัส {ID}'\r\n",
        "  return st"
      ],
      "execution_count": 8,
      "outputs": []
    },
    {
      "cell_type": "code",
      "metadata": {
        "colab": {
          "base_uri": "https://localhost:8080/",
          "height": 35
        },
        "id": "bdDm5DmBl__y",
        "outputId": "2aa08c8f-b989-4d9c-ffb9-6436dc56c1df"
      },
      "source": [
        "p_name('ธิติวุฒิ','ชูเสน','613020552-6')"
      ],
      "execution_count": 9,
      "outputs": [
        {
          "output_type": "execute_result",
          "data": {
            "application/vnd.google.colaboratory.intrinsic+json": {
              "type": "string"
            },
            "text/plain": [
              "'ชื่อ ธิติวุฒิ นามสกุล ชูเสน รหัส 613020552-6'"
            ]
          },
          "metadata": {
            "tags": []
          },
          "execution_count": 9
        }
      ]
    },
    {
      "cell_type": "markdown",
      "metadata": {
        "id": "O4QG-Eo_mHmp"
      },
      "source": [
        "####EX.2"
      ]
    },
    {
      "cell_type": "markdown",
      "metadata": {
        "id": "Im9_2UbCp96F"
      },
      "source": [
        "สามารถบอกชื่อของ Input ได้"
      ]
    },
    {
      "cell_type": "code",
      "metadata": {
        "id": "NquRh1ZTjpQr"
      },
      "source": [
        "def print_name(surname,ID,name):\r\n",
        "  st = f'ชื่อ {name} นามสกุล {surname} รหัส {ID}'\r\n",
        "  return st"
      ],
      "execution_count": 3,
      "outputs": []
    },
    {
      "cell_type": "code",
      "metadata": {
        "colab": {
          "base_uri": "https://localhost:8080/",
          "height": 35
        },
        "id": "Hi9XgUlClmke",
        "outputId": "bdd2d171-17f1-48a8-cbb7-b2b435dd0dec"
      },
      "source": [
        "print_name('ชูเสน','ธิติวุฒิ','613020552-6')"
      ],
      "execution_count": 6,
      "outputs": [
        {
          "output_type": "execute_result",
          "data": {
            "application/vnd.google.colaboratory.intrinsic+json": {
              "type": "string"
            },
            "text/plain": [
              "'ชื่อ 613020552-6 นามสกุล ชูเสน รหัส ธิติวุฒิ'"
            ]
          },
          "metadata": {
            "tags": []
          },
          "execution_count": 6
        }
      ]
    },
    {
      "cell_type": "code",
      "metadata": {
        "colab": {
          "base_uri": "https://localhost:8080/",
          "height": 35
        },
        "id": "oILdJSYPkvNy",
        "outputId": "2857ecdc-8013-4821-c8f0-8d22b044a922"
      },
      "source": [
        "print_name(surname = 'ชูเสน',name = 'ธิติวุฒิ',ID = '613020552-6')"
      ],
      "execution_count": 5,
      "outputs": [
        {
          "output_type": "execute_result",
          "data": {
            "application/vnd.google.colaboratory.intrinsic+json": {
              "type": "string"
            },
            "text/plain": [
              "'ชื่อ ธิติวุฒิ นามสกุล ชูเสน รหัส 613020552-6'"
            ]
          },
          "metadata": {
            "tags": []
          },
          "execution_count": 5
        }
      ]
    },
    {
      "cell_type": "markdown",
      "metadata": {
        "id": "1YslT8DKo857"
      },
      "source": [
        "####EX.3"
      ]
    },
    {
      "cell_type": "markdown",
      "metadata": {
        "id": "33zTZyJyp1oO"
      },
      "source": [
        "ฟังก์ชั่นไม่จำเป็นต้องมี Output"
      ]
    },
    {
      "cell_type": "code",
      "metadata": {
        "id": "y5slVkT3o-Bz"
      },
      "source": [
        "def print_name2(surname,ID,name):\r\n",
        "  st = f'ชื่อ {name} นามสกุล {surname} รหัส {ID}'\r\n",
        "  print(st)"
      ],
      "execution_count": 11,
      "outputs": []
    },
    {
      "cell_type": "code",
      "metadata": {
        "colab": {
          "base_uri": "https://localhost:8080/"
        },
        "id": "FrlgBjYWpHWi",
        "outputId": "6ca0ddf9-fdfa-435c-e634-7d817a977e7c"
      },
      "source": [
        "print_name2(surname = 'ชูเสน',name = 'ธิติวุฒิ',ID = '613020552-6')"
      ],
      "execution_count": 12,
      "outputs": [
        {
          "output_type": "stream",
          "text": [
            "ชื่อ ธิติวุฒิ นามสกุล ชูเสน รหัส 613020552-6\n"
          ],
          "name": "stdout"
        }
      ]
    },
    {
      "cell_type": "markdown",
      "metadata": {
        "id": "xCAWsVtrqVFM"
      },
      "source": [
        "####EX.4"
      ]
    },
    {
      "cell_type": "markdown",
      "metadata": {
        "id": "kbgRdMG6qYqH"
      },
      "source": [
        "ฟังก์ชั่นไม่จำเป็นต้องมี Input"
      ]
    },
    {
      "cell_type": "code",
      "metadata": {
        "id": "nm_K1PYapxqc"
      },
      "source": [
        "def Pi():\r\n",
        "  return 3.14159265359"
      ],
      "execution_count": 13,
      "outputs": []
    },
    {
      "cell_type": "code",
      "metadata": {
        "colab": {
          "base_uri": "https://localhost:8080/"
        },
        "id": "WoTKupHkq9Zl",
        "outputId": "391a632c-90b5-4355-cac1-8f665196b058"
      },
      "source": [
        "Pi()*(2**2) #หาพื้นที่ของวงกลม เมื่อค่า r = 2"
      ],
      "execution_count": 16,
      "outputs": [
        {
          "output_type": "execute_result",
          "data": {
            "text/plain": [
              "12.56637061436"
            ]
          },
          "metadata": {
            "tags": []
          },
          "execution_count": 16
        }
      ]
    },
    {
      "cell_type": "markdown",
      "metadata": {
        "id": "OWkLf1UGrYmQ"
      },
      "source": [
        "####EX.5"
      ]
    },
    {
      "cell_type": "markdown",
      "metadata": {
        "id": "codAc_vurafp"
      },
      "source": [
        "เราสามารถกำหนดค่า default ให้กับฟังก์ชั่นได้\r\n",
        "\r\n",
        "input  ของ function ใน python มีสองแบบ input ที่จำเป็นต้องใส่ กับ input ที่ไม่จำเป็นต้องใส่ (default) ต้องเรียง input ที่จำเป็นต้องใส่ขึ้นก่อน ถ้าใส่ input ในฟังก์ชั่นที่ไม่จำเป็นต้องใส่จะ run ไม่ได้"
      ]
    },
    {
      "cell_type": "code",
      "metadata": {
        "id": "xgbinAuhrExc"
      },
      "source": [
        "def Print_2line_default(name,surname,ID,grade = 'F'):\r\n",
        "  st = f'ชื่อ {name} นามสกุล {surname} รหัส {ID}'\r\n",
        "  print(st)\r\n",
        "  st2 = f'เกรดวิชา Data Viz >>> {grade}'\r\n",
        "  print(st2)"
      ],
      "execution_count": 23,
      "outputs": []
    },
    {
      "cell_type": "code",
      "metadata": {
        "colab": {
          "base_uri": "https://localhost:8080/"
        },
        "id": "2fXEBRXZsue-",
        "outputId": "c7ce46ac-edec-4ea7-ff67-1fef738424f0"
      },
      "source": [
        "Print_2line_default('ธิติวุฒิ','ชูเสน','613020552-6')"
      ],
      "execution_count": 24,
      "outputs": [
        {
          "output_type": "stream",
          "text": [
            "ชื่อ ธิติวุฒิ นามสกุล ชูเสน รหัส 613020552-6\n",
            "เกรดวิชา Data Viz >>> F\n"
          ],
          "name": "stdout"
        }
      ]
    },
    {
      "cell_type": "code",
      "metadata": {
        "colab": {
          "base_uri": "https://localhost:8080/"
        },
        "id": "SzYBj0CJs6GZ",
        "outputId": "0352fbd6-8ab0-4409-aeab-64d5816e8360"
      },
      "source": [
        "Print_2line_default('ธิติวุฒิ','ชูเสน','613020552-6','A')"
      ],
      "execution_count": 25,
      "outputs": [
        {
          "output_type": "stream",
          "text": [
            "ชื่อ ธิติวุฒิ นามสกุล ชูเสน รหัส 613020552-6\n",
            "เกรดวิชา Data Viz >>> A\n"
          ],
          "name": "stdout"
        }
      ]
    },
    {
      "cell_type": "markdown",
      "metadata": {
        "id": "82Xggegw0rw5"
      },
      "source": [
        "##Loop"
      ]
    },
    {
      "cell_type": "markdown",
      "metadata": {
        "id": "_Kut44Mz0yrM"
      },
      "source": [
        "การวนซ้ำ ใช้ for เป็นคำที่ใช้บอก python ว่าเรากำลังเขียน loop โดย for จะวนดึงสมาชิกจาก listA มาทำ process do_something เป็นคำสั่งวนซ้ำที่ใช้ควบคุมการทำงานซ้ำๆ ในจำนวนรอบที่แน่นอน "
      ]
    },
    {
      "cell_type": "code",
      "metadata": {
        "colab": {
          "base_uri": "https://localhost:8080/"
        },
        "id": "MqZDhsO20u6D",
        "outputId": "64e07584-4c59-428b-f5eb-a9c871d79215"
      },
      "source": [
        "for i in [1,2,3]:\r\n",
        "  o = i**2\r\n",
        "  print(f'This member = {i} after process = {o}')"
      ],
      "execution_count": 29,
      "outputs": [
        {
          "output_type": "stream",
          "text": [
            "This member = 1 after process = 1\n",
            "This member = 2 after process = 4\n",
            "This member = 3 after process = 9\n"
          ],
          "name": "stdout"
        }
      ]
    },
    {
      "cell_type": "code",
      "metadata": {
        "id": "U-_klaAh1UkZ"
      },
      "source": [
        ""
      ],
      "execution_count": null,
      "outputs": []
    }
  ]
}