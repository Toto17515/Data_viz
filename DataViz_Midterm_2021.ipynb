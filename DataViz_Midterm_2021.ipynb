{
  "nbformat": 4,
  "nbformat_minor": 0,
  "metadata": {
    "colab": {
      "name": "DataViz_Midterm_2021.ipynb",
      "provenance": [],
      "collapsed_sections": [
        "TqKSAXu1tuxr",
        "gfeu7iGL7Piq",
        "2WR7b1wdIvY9"
      ],
      "include_colab_link": true
    },
    "kernelspec": {
      "name": "python3",
      "display_name": "Python 3"
    }
  },
  "cells": [
    {
      "cell_type": "markdown",
      "metadata": {
        "id": "view-in-github",
        "colab_type": "text"
      },
      "source": [
        "<a href=\"https://colab.research.google.com/github/Toto17515/Data_viz/blob/main/DataViz_Midterm_2021.ipynb\" target=\"_parent\"><img src=\"https://colab.research.google.com/assets/colab-badge.svg\" alt=\"Open In Colab\"/></a>"
      ]
    },
    {
      "cell_type": "markdown",
      "metadata": {
        "id": "TqKSAXu1tuxr"
      },
      "source": [
        "#Import"
      ]
    },
    {
      "cell_type": "markdown",
      "metadata": {
        "id": "r1gNAmZ8xpWe"
      },
      "source": [
        "Import Library"
      ]
    },
    {
      "cell_type": "code",
      "metadata": {
        "id": "-mcba7hmttb3"
      },
      "source": [
        "import pandas as pd"
      ],
      "execution_count": null,
      "outputs": []
    },
    {
      "cell_type": "markdown",
      "metadata": {
        "id": "4c6WUJycx2Wo"
      },
      "source": [
        "Import Data"
      ]
    },
    {
      "cell_type": "code",
      "metadata": {
        "colab": {
          "base_uri": "https://localhost:8080/"
        },
        "id": "680qDeGXt1Z8",
        "outputId": "9e6157df-7d4d-42ab-c32c-e2e02f677392"
      },
      "source": [
        "from google.colab import drive\r\n",
        "drive.mount('/content/drive')"
      ],
      "execution_count": null,
      "outputs": [
        {
          "output_type": "stream",
          "text": [
            "Drive already mounted at /content/drive; to attempt to forcibly remount, call drive.mount(\"/content/drive\", force_remount=True).\n"
          ],
          "name": "stdout"
        }
      ]
    },
    {
      "cell_type": "code",
      "metadata": {
        "colab": {
          "base_uri": "https://localhost:8080/"
        },
        "id": "P4I7q5QJyB-u",
        "outputId": "cf5a8f0c-1464-444c-8a22-6d4c9122f020"
      },
      "source": [
        "#นำเข้าข้อมูลคะแนนในชั้นเรียน\r\n",
        "classroom = pd.read_excel('/content/drive/MyDrive/Data_Viz/Midterm Basic python/Project1-StuList-1-63-ตัดเกรด_renamed.xlsx',sheet_name='Grade',skiprows=1)\r\n",
        "classroom.head()"
      ],
      "execution_count": null,
      "outputs": [
        {
          "output_type": "execute_result",
          "data": {
            "text/html": [
              "<div>\n",
              "<style scoped>\n",
              "    .dataframe tbody tr th:only-of-type {\n",
              "        vertical-align: middle;\n",
              "    }\n",
              "\n",
              "    .dataframe tbody tr th {\n",
              "        vertical-align: top;\n",
              "    }\n",
              "\n",
              "    .dataframe thead th {\n",
              "        text-align: right;\n",
              "    }\n",
              "</style>\n",
              "<table border=\"1\" class=\"dataframe\">\n",
              "  <thead>\n",
              "    <tr style=\"text-align: right;\">\n",
              "      <th></th>\n",
              "      <th>Unnamed: 0</th>\n",
              "      <th>Unnamed: 1</th>\n",
              "      <th>Unnamed: 2</th>\n",
              "      <th>Unnamed: 3</th>\n",
              "      <th>ส่งไฟล์Gantt</th>\n",
              "      <th>โปรแกรมอ้างอิง</th>\n",
              "      <th>เสนอ Gantt</th>\n",
              "      <th>Progress</th>\n",
              "      <th>Total 5%</th>\n",
              "      <th>0.05</th>\n",
              "      <th>เต็ม 70</th>\n",
              "      <th>เก็บ 30%</th>\n",
              "      <th>กรรมการคนที่ 1</th>\n",
              "      <th>กรรมการคนที่ 2</th>\n",
              "      <th>เต็ม 140</th>\n",
              "      <th>เก็บ 60%</th>\n",
              "      <th>1</th>\n",
              "      <th>1.1</th>\n",
              "      <th>Unnamed: 18</th>\n",
              "      <th>Unnamed: 19</th>\n",
              "      <th>Unnamed: 20</th>\n",
              "      <th>Unnamed: 21</th>\n",
              "      <th>Unnamed: 22</th>\n",
              "      <th>Unnamed: 23</th>\n",
              "      <th>Unnamed: 24</th>\n",
              "    </tr>\n",
              "  </thead>\n",
              "  <tbody>\n",
              "    <tr>\n",
              "      <th>0</th>\n",
              "      <td>1</td>\n",
              "      <td>603020450-3</td>\n",
              "      <td>cozy-tangerine-ladybird</td>\n",
              "      <td>SC-STAT</td>\n",
              "      <td>1</td>\n",
              "      <td>1</td>\n",
              "      <td>1</td>\n",
              "      <td>1</td>\n",
              "      <td>5</td>\n",
              "      <td>5</td>\n",
              "      <td>NaN</td>\n",
              "      <td>0</td>\n",
              "      <td>NaN</td>\n",
              "      <td>NaN</td>\n",
              "      <td>NaN</td>\n",
              "      <td>NaN</td>\n",
              "      <td>10.000</td>\n",
              "      <td>10.0</td>\n",
              "      <td>F</td>\n",
              "      <td>NaN</td>\n",
              "      <td>เกรด</td>\n",
              "      <td>คะแนน</td>\n",
              "      <td>NaN</td>\n",
              "      <td>จำนวน</td>\n",
              "      <td>ร้อยละ</td>\n",
              "    </tr>\n",
              "    <tr>\n",
              "      <th>1</th>\n",
              "      <td>2</td>\n",
              "      <td>603020451-1</td>\n",
              "      <td>leaky-rust-chameleon</td>\n",
              "      <td>SC-STAT</td>\n",
              "      <td>0.5</td>\n",
              "      <td>1</td>\n",
              "      <td>1</td>\n",
              "      <td>1</td>\n",
              "      <td>4.375</td>\n",
              "      <td>5</td>\n",
              "      <td>NaN</td>\n",
              "      <td>0</td>\n",
              "      <td>NaN</td>\n",
              "      <td>NaN</td>\n",
              "      <td>NaN</td>\n",
              "      <td>NaN</td>\n",
              "      <td>9.375</td>\n",
              "      <td>9.0</td>\n",
              "      <td>F</td>\n",
              "      <td>NaN</td>\n",
              "      <td>A</td>\n",
              "      <td>80</td>\n",
              "      <td>-100.0</td>\n",
              "      <td>0</td>\n",
              "      <td>0</td>\n",
              "    </tr>\n",
              "    <tr>\n",
              "      <th>2</th>\n",
              "      <td>3</td>\n",
              "      <td>603020452-9</td>\n",
              "      <td>nerdy-plum-abyssinian</td>\n",
              "      <td>SC-STAT</td>\n",
              "      <td>1</td>\n",
              "      <td>1</td>\n",
              "      <td>1</td>\n",
              "      <td>1</td>\n",
              "      <td>5</td>\n",
              "      <td>5</td>\n",
              "      <td>NaN</td>\n",
              "      <td>0</td>\n",
              "      <td>NaN</td>\n",
              "      <td>NaN</td>\n",
              "      <td>NaN</td>\n",
              "      <td>NaN</td>\n",
              "      <td>10.000</td>\n",
              "      <td>10.0</td>\n",
              "      <td>F</td>\n",
              "      <td>NaN</td>\n",
              "      <td>B+</td>\n",
              "      <td>75</td>\n",
              "      <td>-79.0</td>\n",
              "      <td>0</td>\n",
              "      <td>0</td>\n",
              "    </tr>\n",
              "    <tr>\n",
              "      <th>3</th>\n",
              "      <td>4</td>\n",
              "      <td>603020453-7</td>\n",
              "      <td>scaly-pumpkin-monkey</td>\n",
              "      <td>SC-STAT</td>\n",
              "      <td>1</td>\n",
              "      <td>1</td>\n",
              "      <td>1</td>\n",
              "      <td>1</td>\n",
              "      <td>5</td>\n",
              "      <td>5</td>\n",
              "      <td>NaN</td>\n",
              "      <td>0</td>\n",
              "      <td>NaN</td>\n",
              "      <td>NaN</td>\n",
              "      <td>NaN</td>\n",
              "      <td>NaN</td>\n",
              "      <td>10.000</td>\n",
              "      <td>10.0</td>\n",
              "      <td>F</td>\n",
              "      <td>NaN</td>\n",
              "      <td>B</td>\n",
              "      <td>70</td>\n",
              "      <td>-74.0</td>\n",
              "      <td>0</td>\n",
              "      <td>0</td>\n",
              "    </tr>\n",
              "    <tr>\n",
              "      <th>4</th>\n",
              "      <td>5</td>\n",
              "      <td>603020458-7</td>\n",
              "      <td>นางสาวปานชีวา แสนกล้า</td>\n",
              "      <td>SC-STAT</td>\n",
              "      <td>QC</td>\n",
              "      <td>QC</td>\n",
              "      <td>QC</td>\n",
              "      <td>QC</td>\n",
              "      <td>QC</td>\n",
              "      <td>QC</td>\n",
              "      <td>QC</td>\n",
              "      <td>QC</td>\n",
              "      <td>QC</td>\n",
              "      <td>QC</td>\n",
              "      <td>QC</td>\n",
              "      <td>QC</td>\n",
              "      <td>NaN</td>\n",
              "      <td>NaN</td>\n",
              "      <td>NaN</td>\n",
              "      <td>NaN</td>\n",
              "      <td>C+</td>\n",
              "      <td>65</td>\n",
              "      <td>-69.0</td>\n",
              "      <td>0</td>\n",
              "      <td>0</td>\n",
              "    </tr>\n",
              "  </tbody>\n",
              "</table>\n",
              "</div>"
            ],
            "text/plain": [
              "   Unnamed: 0   Unnamed: 1  ... Unnamed: 23 Unnamed: 24\n",
              "0           1  603020450-3  ...       จำนวน      ร้อยละ\n",
              "1           2  603020451-1  ...           0           0\n",
              "2           3  603020452-9  ...           0           0\n",
              "3           4  603020453-7  ...           0           0\n",
              "4           5  603020458-7  ...           0           0\n",
              "\n",
              "[5 rows x 25 columns]"
            ]
          },
          "metadata": {
            "tags": []
          },
          "execution_count": 8
        }
      ]
    },
    {
      "cell_type": "code",
      "metadata": {
        "id": "4aW4aj7oyxgV"
      },
      "source": [
        "#นำเข้าข้อมูลคะแนนอาจารย์ที่ปรึกษา ดร.ธิปไตย\r\n",
        "Advisor1 = pd.read_excel('/content/drive/MyDrive/Data_Viz/Midterm Basic python/คะแนนอาจารย์ที่ปรึกษา_renamed.xlsx',sheet_name='ดร.ธิปไตย',skiprows=1)\r\n",
        "#นำเข้าข้อมูลคะแนนอาจารย์ที่ปรึกษา รศ.ธิดาเดียว\r\n",
        "Advisor2 = pd.read_excel('/content/drive/MyDrive/Data_Viz/Midterm Basic python/คะแนนอาจารย์ที่ปรึกษา_renamed.xlsx',sheet_name='รศ.ธิดาเดียว',skiprows=1)\r\n",
        "#นำเข้าข้อมูลคะแนนอาจารย์ที่ปรึกษา ผศ.สุกัญญา\r\n",
        "Advisor3 = pd.read_excel('/content/drive/MyDrive/Data_Viz/Midterm Basic python/คะแนนอาจารย์ที่ปรึกษา_renamed.xlsx',sheet_name='ผศ.สุกัญญา',skiprows=1)\r\n",
        "#นำเข้าข้อมูลคะแนนอาจารย์ที่ปรึกษา ดร.ธนพงศ์\r\n",
        "Advisor4 = pd.read_excel('/content/drive/MyDrive/Data_Viz/Midterm Basic python/คะแนนอาจารย์ที่ปรึกษา_renamed.xlsx',sheet_name='ดร.ธนพงศ์',skiprows=1)\r\n",
        "#นำเข้าข้อมูลคะแนนอาจารย์ที่ปรึกษา ผศ.วุฒิชัย\r\n",
        "Advisor5 = pd.read_excel('/content/drive/MyDrive/Data_Viz/Midterm Basic python/คะแนนอาจารย์ที่ปรึกษา_renamed.xlsx',sheet_name='ผศ.วุฒิชัย',skiprows=1)\r\n",
        "#นำเข้าข้อมูลคะแนนอาจารย์ที่ปรึกษา รศ.สุพรรณี\r\n",
        "Advisor6 = pd.read_excel('/content/drive/MyDrive/Data_Viz/Midterm Basic python/คะแนนอาจารย์ที่ปรึกษา_renamed.xlsx',sheet_name='รศ.สุพรรณี',skiprows=1)\r\n",
        "#นำเข้าข้อมูลคะแนนอาจารย์ที่ปรึกษา อ.ยุภาพร\r\n",
        "Advisor7 = pd.read_excel('/content/drive/MyDrive/Data_Viz/Midterm Basic python/คะแนนอาจารย์ที่ปรึกษา_renamed.xlsx',sheet_name='อ.ยุภาพร',skiprows=1)\r\n",
        "#นำเข้าข้อมูลคะแนนอาจารย์ที่ปรึกษา ดร.พลากร\r\n",
        "Advisor8 = pd.read_excel('/content/drive/MyDrive/Data_Viz/Midterm Basic python/คะแนนอาจารย์ที่ปรึกษา_renamed.xlsx',sheet_name='ดร.พลากร',skiprows=1)\r\n",
        "#นำเข้าข้อมูลคะแนนอาจารย์ที่ปรึกษา รศ.วิชุดา\r\n",
        "Advisor9 = pd.read_excel('/content/drive/MyDrive/Data_Viz/Midterm Basic python/คะแนนอาจารย์ที่ปรึกษา_renamed.xlsx',sheet_name='รศ.วิชุดา',skiprows=1)\r\n",
        "#นำเข้าข้อมูลคะแนนอาจารย์ที่ปรึกษา ดร.วรรณพร\r\n",
        "Advisor10 = pd.read_excel('/content/drive/MyDrive/Data_Viz/Midterm Basic python/คะแนนอาจารย์ที่ปรึกษา_renamed.xlsx',sheet_name='ดร.วรรณพร',skiprows=1)\r\n",
        "#นำเข้าข้อมูลคะแนนอาจารย์ที่ปรึกษา อ.ธรรณญพร\r\n",
        "Advisor11 = pd.read_excel('/content/drive/MyDrive/Data_Viz/Midterm Basic python/คะแนนอาจารย์ที่ปรึกษา_renamed.xlsx',sheet_name='อ.ธรรณญพร',skiprows=1)\r\n",
        "#นำเข้าข้อมูลคะแนนอาจารย์ที่ปรึกษา ดร.อุทุมพร\r\n",
        "Advisor12 = pd.read_excel('/content/drive/MyDrive/Data_Viz/Midterm Basic python/คะแนนอาจารย์ที่ปรึกษา_renamed.xlsx',sheet_name='ดร.อุทุมพร',skiprows=1)"
      ],
      "execution_count": null,
      "outputs": []
    },
    {
      "cell_type": "code",
      "metadata": {
        "id": "HM9KzfPiJLUA"
      },
      "source": [
        "#นำเข้าข้อมูลนำเสนอปากเปล่าจากกรรมการ วันจันทร์ที่ 7 ธันวาคม 2563\r\n",
        "present_Day1 = pd.read_excel('/content/drive/MyDrive/Data_Viz/Midterm Basic python/คะแนนสอบปากเปล่าของกรรมการสอบ_renamed.xlsx',sheet_name='วันจันทร์ที่ 7 ธันวาคม 2563',skiprows=1)\r\n",
        "#นำเข้าข้อมูลนำเสนอปากเปล่าจากกรรมการ วันอังคารที่ 8 ธันวาคม 2563\r\n",
        "present_Day2 = pd.read_excel('/content/drive/MyDrive/Data_Viz/Midterm Basic python/คะแนนสอบปากเปล่าของกรรมการสอบ_renamed.xlsx',sheet_name='วันอังคารที่ 8 ธันวาคม 2563',skiprows=1)\r\n",
        "#นำเข้าข้อมูลนำเสนอปากเปล่าจากกรรมการ วันพุธที่ 9 ธันวาคม 2563\r\n",
        "present_Day3 = pd.read_excel('/content/drive/MyDrive/Data_Viz/Midterm Basic python/คะแนนสอบปากเปล่าของกรรมการสอบ_renamed.xlsx',sheet_name='วันพุธที่ 9 ธันวาคม 2563',skiprows=1)"
      ],
      "execution_count": null,
      "outputs": []
    },
    {
      "cell_type": "markdown",
      "metadata": {
        "id": "rYTBXHady_zd"
      },
      "source": [
        "#Data Cleansing"
      ]
    },
    {
      "cell_type": "markdown",
      "metadata": {
        "id": "T0EQrt_t2PM7"
      },
      "source": [
        "##ข้อมูลชุดที่ 1"
      ]
    },
    {
      "cell_type": "code",
      "metadata": {
        "colab": {
          "base_uri": "https://localhost:8080/",
          "height": 384
        },
        "id": "lXR5dcRnzOtA",
        "outputId": "1c84bb76-8c54-4a01-a803-f110cb2ce06c"
      },
      "source": [
        "classroom.head() #เรียกดูข้อมูล"
      ],
      "execution_count": null,
      "outputs": [
        {
          "output_type": "execute_result",
          "data": {
            "text/html": [
              "<div>\n",
              "<style scoped>\n",
              "    .dataframe tbody tr th:only-of-type {\n",
              "        vertical-align: middle;\n",
              "    }\n",
              "\n",
              "    .dataframe tbody tr th {\n",
              "        vertical-align: top;\n",
              "    }\n",
              "\n",
              "    .dataframe thead th {\n",
              "        text-align: right;\n",
              "    }\n",
              "</style>\n",
              "<table border=\"1\" class=\"dataframe\">\n",
              "  <thead>\n",
              "    <tr style=\"text-align: right;\">\n",
              "      <th></th>\n",
              "      <th>Unnamed: 0</th>\n",
              "      <th>Unnamed: 1</th>\n",
              "      <th>Unnamed: 2</th>\n",
              "      <th>Unnamed: 3</th>\n",
              "      <th>ส่งไฟล์Gantt</th>\n",
              "      <th>โปรแกรมอ้างอิง</th>\n",
              "      <th>เสนอ Gantt</th>\n",
              "      <th>Progress</th>\n",
              "      <th>Total 5%</th>\n",
              "      <th>0.05</th>\n",
              "      <th>เต็ม 70</th>\n",
              "      <th>เก็บ 30%</th>\n",
              "      <th>กรรมการคนที่ 1</th>\n",
              "      <th>กรรมการคนที่ 2</th>\n",
              "      <th>เต็ม 140</th>\n",
              "      <th>เก็บ 60%</th>\n",
              "      <th>1</th>\n",
              "      <th>1.1</th>\n",
              "      <th>Unnamed: 18</th>\n",
              "      <th>Unnamed: 19</th>\n",
              "      <th>Unnamed: 20</th>\n",
              "      <th>Unnamed: 21</th>\n",
              "      <th>Unnamed: 22</th>\n",
              "      <th>Unnamed: 23</th>\n",
              "      <th>Unnamed: 24</th>\n",
              "    </tr>\n",
              "  </thead>\n",
              "  <tbody>\n",
              "    <tr>\n",
              "      <th>0</th>\n",
              "      <td>1</td>\n",
              "      <td>603020450-3</td>\n",
              "      <td>cozy-tangerine-ladybird</td>\n",
              "      <td>SC-STAT</td>\n",
              "      <td>1</td>\n",
              "      <td>1</td>\n",
              "      <td>1</td>\n",
              "      <td>1</td>\n",
              "      <td>5</td>\n",
              "      <td>5</td>\n",
              "      <td>NaN</td>\n",
              "      <td>0</td>\n",
              "      <td>NaN</td>\n",
              "      <td>NaN</td>\n",
              "      <td>NaN</td>\n",
              "      <td>NaN</td>\n",
              "      <td>10.000</td>\n",
              "      <td>10.0</td>\n",
              "      <td>F</td>\n",
              "      <td>NaN</td>\n",
              "      <td>เกรด</td>\n",
              "      <td>คะแนน</td>\n",
              "      <td>NaN</td>\n",
              "      <td>จำนวน</td>\n",
              "      <td>ร้อยละ</td>\n",
              "    </tr>\n",
              "    <tr>\n",
              "      <th>1</th>\n",
              "      <td>2</td>\n",
              "      <td>603020451-1</td>\n",
              "      <td>leaky-rust-chameleon</td>\n",
              "      <td>SC-STAT</td>\n",
              "      <td>0.5</td>\n",
              "      <td>1</td>\n",
              "      <td>1</td>\n",
              "      <td>1</td>\n",
              "      <td>4.375</td>\n",
              "      <td>5</td>\n",
              "      <td>NaN</td>\n",
              "      <td>0</td>\n",
              "      <td>NaN</td>\n",
              "      <td>NaN</td>\n",
              "      <td>NaN</td>\n",
              "      <td>NaN</td>\n",
              "      <td>9.375</td>\n",
              "      <td>9.0</td>\n",
              "      <td>F</td>\n",
              "      <td>NaN</td>\n",
              "      <td>A</td>\n",
              "      <td>80</td>\n",
              "      <td>-100.0</td>\n",
              "      <td>0</td>\n",
              "      <td>0</td>\n",
              "    </tr>\n",
              "    <tr>\n",
              "      <th>2</th>\n",
              "      <td>3</td>\n",
              "      <td>603020452-9</td>\n",
              "      <td>nerdy-plum-abyssinian</td>\n",
              "      <td>SC-STAT</td>\n",
              "      <td>1</td>\n",
              "      <td>1</td>\n",
              "      <td>1</td>\n",
              "      <td>1</td>\n",
              "      <td>5</td>\n",
              "      <td>5</td>\n",
              "      <td>NaN</td>\n",
              "      <td>0</td>\n",
              "      <td>NaN</td>\n",
              "      <td>NaN</td>\n",
              "      <td>NaN</td>\n",
              "      <td>NaN</td>\n",
              "      <td>10.000</td>\n",
              "      <td>10.0</td>\n",
              "      <td>F</td>\n",
              "      <td>NaN</td>\n",
              "      <td>B+</td>\n",
              "      <td>75</td>\n",
              "      <td>-79.0</td>\n",
              "      <td>0</td>\n",
              "      <td>0</td>\n",
              "    </tr>\n",
              "    <tr>\n",
              "      <th>3</th>\n",
              "      <td>4</td>\n",
              "      <td>603020453-7</td>\n",
              "      <td>scaly-pumpkin-monkey</td>\n",
              "      <td>SC-STAT</td>\n",
              "      <td>1</td>\n",
              "      <td>1</td>\n",
              "      <td>1</td>\n",
              "      <td>1</td>\n",
              "      <td>5</td>\n",
              "      <td>5</td>\n",
              "      <td>NaN</td>\n",
              "      <td>0</td>\n",
              "      <td>NaN</td>\n",
              "      <td>NaN</td>\n",
              "      <td>NaN</td>\n",
              "      <td>NaN</td>\n",
              "      <td>10.000</td>\n",
              "      <td>10.0</td>\n",
              "      <td>F</td>\n",
              "      <td>NaN</td>\n",
              "      <td>B</td>\n",
              "      <td>70</td>\n",
              "      <td>-74.0</td>\n",
              "      <td>0</td>\n",
              "      <td>0</td>\n",
              "    </tr>\n",
              "    <tr>\n",
              "      <th>4</th>\n",
              "      <td>5</td>\n",
              "      <td>603020458-7</td>\n",
              "      <td>นางสาวปานชีวา แสนกล้า</td>\n",
              "      <td>SC-STAT</td>\n",
              "      <td>QC</td>\n",
              "      <td>QC</td>\n",
              "      <td>QC</td>\n",
              "      <td>QC</td>\n",
              "      <td>QC</td>\n",
              "      <td>QC</td>\n",
              "      <td>QC</td>\n",
              "      <td>QC</td>\n",
              "      <td>QC</td>\n",
              "      <td>QC</td>\n",
              "      <td>QC</td>\n",
              "      <td>QC</td>\n",
              "      <td>NaN</td>\n",
              "      <td>NaN</td>\n",
              "      <td>NaN</td>\n",
              "      <td>NaN</td>\n",
              "      <td>C+</td>\n",
              "      <td>65</td>\n",
              "      <td>-69.0</td>\n",
              "      <td>0</td>\n",
              "      <td>0</td>\n",
              "    </tr>\n",
              "  </tbody>\n",
              "</table>\n",
              "</div>"
            ],
            "text/plain": [
              "   Unnamed: 0   Unnamed: 1  ... Unnamed: 23 Unnamed: 24\n",
              "0           1  603020450-3  ...       จำนวน      ร้อยละ\n",
              "1           2  603020451-1  ...           0           0\n",
              "2           3  603020452-9  ...           0           0\n",
              "3           4  603020453-7  ...           0           0\n",
              "4           5  603020458-7  ...           0           0\n",
              "\n",
              "[5 rows x 25 columns]"
            ]
          },
          "metadata": {
            "tags": []
          },
          "execution_count": 11
        }
      ]
    },
    {
      "cell_type": "code",
      "metadata": {
        "colab": {
          "base_uri": "https://localhost:8080/",
          "height": 710
        },
        "id": "aTWioNJb4LOq",
        "outputId": "38ffe67b-483b-4d18-d39f-919883ba39f7"
      },
      "source": [
        "#ข้อมูลของนักศึกษา ที่เป็น QC\r\n",
        "None_QC = list()\r\n",
        "for each_row in classroom.iterrows():\r\n",
        "  if each_row[1][\"ส่งไฟล์Gantt\"] != 'QC':\r\n",
        "    None_QC.append(True)\r\n",
        "  else:\r\n",
        "    None_QC.append(False)\r\n",
        "classroom_None_QC = classroom[None_QC]\r\n",
        "classroom_None_QC"
      ],
      "execution_count": null,
      "outputs": [
        {
          "output_type": "execute_result",
          "data": {
            "text/html": [
              "<div>\n",
              "<style scoped>\n",
              "    .dataframe tbody tr th:only-of-type {\n",
              "        vertical-align: middle;\n",
              "    }\n",
              "\n",
              "    .dataframe tbody tr th {\n",
              "        vertical-align: top;\n",
              "    }\n",
              "\n",
              "    .dataframe thead th {\n",
              "        text-align: right;\n",
              "    }\n",
              "</style>\n",
              "<table border=\"1\" class=\"dataframe\">\n",
              "  <thead>\n",
              "    <tr style=\"text-align: right;\">\n",
              "      <th></th>\n",
              "      <th>Unnamed: 0</th>\n",
              "      <th>Unnamed: 1</th>\n",
              "      <th>Unnamed: 2</th>\n",
              "      <th>Unnamed: 3</th>\n",
              "      <th>ส่งไฟล์Gantt</th>\n",
              "      <th>โปรแกรมอ้างอิง</th>\n",
              "      <th>เสนอ Gantt</th>\n",
              "      <th>Progress</th>\n",
              "      <th>Total 5%</th>\n",
              "      <th>0.05</th>\n",
              "      <th>เต็ม 70</th>\n",
              "      <th>เก็บ 30%</th>\n",
              "      <th>กรรมการคนที่ 1</th>\n",
              "      <th>กรรมการคนที่ 2</th>\n",
              "      <th>เต็ม 140</th>\n",
              "      <th>เก็บ 60%</th>\n",
              "      <th>1</th>\n",
              "      <th>1.1</th>\n",
              "      <th>Unnamed: 18</th>\n",
              "      <th>Unnamed: 19</th>\n",
              "      <th>Unnamed: 20</th>\n",
              "      <th>Unnamed: 21</th>\n",
              "      <th>Unnamed: 22</th>\n",
              "      <th>Unnamed: 23</th>\n",
              "      <th>Unnamed: 24</th>\n",
              "    </tr>\n",
              "  </thead>\n",
              "  <tbody>\n",
              "    <tr>\n",
              "      <th>0</th>\n",
              "      <td>1</td>\n",
              "      <td>603020450-3</td>\n",
              "      <td>cozy-tangerine-ladybird</td>\n",
              "      <td>SC-STAT</td>\n",
              "      <td>1</td>\n",
              "      <td>1</td>\n",
              "      <td>1</td>\n",
              "      <td>1</td>\n",
              "      <td>5</td>\n",
              "      <td>5</td>\n",
              "      <td>NaN</td>\n",
              "      <td>0</td>\n",
              "      <td>NaN</td>\n",
              "      <td>NaN</td>\n",
              "      <td>NaN</td>\n",
              "      <td>NaN</td>\n",
              "      <td>10.000</td>\n",
              "      <td>10.0</td>\n",
              "      <td>F</td>\n",
              "      <td>NaN</td>\n",
              "      <td>เกรด</td>\n",
              "      <td>คะแนน</td>\n",
              "      <td>NaN</td>\n",
              "      <td>จำนวน</td>\n",
              "      <td>ร้อยละ</td>\n",
              "    </tr>\n",
              "    <tr>\n",
              "      <th>1</th>\n",
              "      <td>2</td>\n",
              "      <td>603020451-1</td>\n",
              "      <td>leaky-rust-chameleon</td>\n",
              "      <td>SC-STAT</td>\n",
              "      <td>0.5</td>\n",
              "      <td>1</td>\n",
              "      <td>1</td>\n",
              "      <td>1</td>\n",
              "      <td>4.375</td>\n",
              "      <td>5</td>\n",
              "      <td>NaN</td>\n",
              "      <td>0</td>\n",
              "      <td>NaN</td>\n",
              "      <td>NaN</td>\n",
              "      <td>NaN</td>\n",
              "      <td>NaN</td>\n",
              "      <td>9.375</td>\n",
              "      <td>9.0</td>\n",
              "      <td>F</td>\n",
              "      <td>NaN</td>\n",
              "      <td>A</td>\n",
              "      <td>80</td>\n",
              "      <td>-100.0</td>\n",
              "      <td>0</td>\n",
              "      <td>0</td>\n",
              "    </tr>\n",
              "    <tr>\n",
              "      <th>2</th>\n",
              "      <td>3</td>\n",
              "      <td>603020452-9</td>\n",
              "      <td>nerdy-plum-abyssinian</td>\n",
              "      <td>SC-STAT</td>\n",
              "      <td>1</td>\n",
              "      <td>1</td>\n",
              "      <td>1</td>\n",
              "      <td>1</td>\n",
              "      <td>5</td>\n",
              "      <td>5</td>\n",
              "      <td>NaN</td>\n",
              "      <td>0</td>\n",
              "      <td>NaN</td>\n",
              "      <td>NaN</td>\n",
              "      <td>NaN</td>\n",
              "      <td>NaN</td>\n",
              "      <td>10.000</td>\n",
              "      <td>10.0</td>\n",
              "      <td>F</td>\n",
              "      <td>NaN</td>\n",
              "      <td>B+</td>\n",
              "      <td>75</td>\n",
              "      <td>-79.0</td>\n",
              "      <td>0</td>\n",
              "      <td>0</td>\n",
              "    </tr>\n",
              "    <tr>\n",
              "      <th>3</th>\n",
              "      <td>4</td>\n",
              "      <td>603020453-7</td>\n",
              "      <td>scaly-pumpkin-monkey</td>\n",
              "      <td>SC-STAT</td>\n",
              "      <td>1</td>\n",
              "      <td>1</td>\n",
              "      <td>1</td>\n",
              "      <td>1</td>\n",
              "      <td>5</td>\n",
              "      <td>5</td>\n",
              "      <td>NaN</td>\n",
              "      <td>0</td>\n",
              "      <td>NaN</td>\n",
              "      <td>NaN</td>\n",
              "      <td>NaN</td>\n",
              "      <td>NaN</td>\n",
              "      <td>10.000</td>\n",
              "      <td>10.0</td>\n",
              "      <td>F</td>\n",
              "      <td>NaN</td>\n",
              "      <td>B</td>\n",
              "      <td>70</td>\n",
              "      <td>-74.0</td>\n",
              "      <td>0</td>\n",
              "      <td>0</td>\n",
              "    </tr>\n",
              "    <tr>\n",
              "      <th>5</th>\n",
              "      <td>6</td>\n",
              "      <td>603020460-0</td>\n",
              "      <td>gloppy-persimmon-flamingo</td>\n",
              "      <td>SC-STAT</td>\n",
              "      <td>1</td>\n",
              "      <td>0.5</td>\n",
              "      <td>1</td>\n",
              "      <td>1</td>\n",
              "      <td>4.375</td>\n",
              "      <td>4</td>\n",
              "      <td>NaN</td>\n",
              "      <td>0</td>\n",
              "      <td>NaN</td>\n",
              "      <td>NaN</td>\n",
              "      <td>NaN</td>\n",
              "      <td>NaN</td>\n",
              "      <td>8.375</td>\n",
              "      <td>8.0</td>\n",
              "      <td>F</td>\n",
              "      <td>NaN</td>\n",
              "      <td>C</td>\n",
              "      <td>60</td>\n",
              "      <td>-64.0</td>\n",
              "      <td>0</td>\n",
              "      <td>0</td>\n",
              "    </tr>\n",
              "    <tr>\n",
              "      <th>...</th>\n",
              "      <td>...</td>\n",
              "      <td>...</td>\n",
              "      <td>...</td>\n",
              "      <td>...</td>\n",
              "      <td>...</td>\n",
              "      <td>...</td>\n",
              "      <td>...</td>\n",
              "      <td>...</td>\n",
              "      <td>...</td>\n",
              "      <td>...</td>\n",
              "      <td>...</td>\n",
              "      <td>...</td>\n",
              "      <td>...</td>\n",
              "      <td>...</td>\n",
              "      <td>...</td>\n",
              "      <td>...</td>\n",
              "      <td>...</td>\n",
              "      <td>...</td>\n",
              "      <td>...</td>\n",
              "      <td>...</td>\n",
              "      <td>...</td>\n",
              "      <td>...</td>\n",
              "      <td>...</td>\n",
              "      <td>...</td>\n",
              "      <td>...</td>\n",
              "    </tr>\n",
              "    <tr>\n",
              "      <th>83</th>\n",
              "      <td>84</td>\n",
              "      <td>603021885-3</td>\n",
              "      <td>randy-mauve-ibis</td>\n",
              "      <td>SC-SI</td>\n",
              "      <td>1</td>\n",
              "      <td>0</td>\n",
              "      <td>1</td>\n",
              "      <td>1</td>\n",
              "      <td>3.75</td>\n",
              "      <td>4</td>\n",
              "      <td>NaN</td>\n",
              "      <td>0</td>\n",
              "      <td>NaN</td>\n",
              "      <td>NaN</td>\n",
              "      <td>NaN</td>\n",
              "      <td>NaN</td>\n",
              "      <td>7.750</td>\n",
              "      <td>8.0</td>\n",
              "      <td>F</td>\n",
              "      <td>NaN</td>\n",
              "      <td>NaN</td>\n",
              "      <td>NaN</td>\n",
              "      <td>NaN</td>\n",
              "      <td>NaN</td>\n",
              "      <td>NaN</td>\n",
              "    </tr>\n",
              "    <tr>\n",
              "      <th>84</th>\n",
              "      <td>85</td>\n",
              "      <td>603021886-1</td>\n",
              "      <td>messy-white-toucan</td>\n",
              "      <td>SC-SI</td>\n",
              "      <td>1</td>\n",
              "      <td>0</td>\n",
              "      <td>1</td>\n",
              "      <td>1</td>\n",
              "      <td>3.75</td>\n",
              "      <td>5</td>\n",
              "      <td>NaN</td>\n",
              "      <td>0</td>\n",
              "      <td>NaN</td>\n",
              "      <td>NaN</td>\n",
              "      <td>NaN</td>\n",
              "      <td>NaN</td>\n",
              "      <td>8.750</td>\n",
              "      <td>9.0</td>\n",
              "      <td>F</td>\n",
              "      <td>NaN</td>\n",
              "      <td>NaN</td>\n",
              "      <td>NaN</td>\n",
              "      <td>NaN</td>\n",
              "      <td>NaN</td>\n",
              "      <td>NaN</td>\n",
              "    </tr>\n",
              "    <tr>\n",
              "      <th>85</th>\n",
              "      <td>86</td>\n",
              "      <td>603021888-7</td>\n",
              "      <td>gummy-olivine-ibis</td>\n",
              "      <td>SC-SI</td>\n",
              "      <td>1</td>\n",
              "      <td>1</td>\n",
              "      <td>1</td>\n",
              "      <td>1</td>\n",
              "      <td>5</td>\n",
              "      <td>5</td>\n",
              "      <td>NaN</td>\n",
              "      <td>0</td>\n",
              "      <td>NaN</td>\n",
              "      <td>NaN</td>\n",
              "      <td>NaN</td>\n",
              "      <td>NaN</td>\n",
              "      <td>10.000</td>\n",
              "      <td>10.0</td>\n",
              "      <td>F</td>\n",
              "      <td>NaN</td>\n",
              "      <td>NaN</td>\n",
              "      <td>NaN</td>\n",
              "      <td>NaN</td>\n",
              "      <td>NaN</td>\n",
              "      <td>NaN</td>\n",
              "    </tr>\n",
              "    <tr>\n",
              "      <th>86</th>\n",
              "      <td>87</td>\n",
              "      <td>603021889-5</td>\n",
              "      <td>skanky-amaranth-ostrich</td>\n",
              "      <td>SC-SI</td>\n",
              "      <td>1</td>\n",
              "      <td>0</td>\n",
              "      <td>1</td>\n",
              "      <td>1</td>\n",
              "      <td>3.75</td>\n",
              "      <td>5</td>\n",
              "      <td>NaN</td>\n",
              "      <td>0</td>\n",
              "      <td>NaN</td>\n",
              "      <td>NaN</td>\n",
              "      <td>NaN</td>\n",
              "      <td>NaN</td>\n",
              "      <td>8.750</td>\n",
              "      <td>9.0</td>\n",
              "      <td>F</td>\n",
              "      <td>NaN</td>\n",
              "      <td>NaN</td>\n",
              "      <td>NaN</td>\n",
              "      <td>NaN</td>\n",
              "      <td>NaN</td>\n",
              "      <td>NaN</td>\n",
              "    </tr>\n",
              "    <tr>\n",
              "      <th>87</th>\n",
              "      <td>88</td>\n",
              "      <td>NaN</td>\n",
              "      <td>frumpy-gamboge-emu</td>\n",
              "      <td>SC-SI</td>\n",
              "      <td>1</td>\n",
              "      <td>0</td>\n",
              "      <td>0.5</td>\n",
              "      <td>1</td>\n",
              "      <td>3.125</td>\n",
              "      <td>4</td>\n",
              "      <td>NaN</td>\n",
              "      <td>0</td>\n",
              "      <td>NaN</td>\n",
              "      <td>NaN</td>\n",
              "      <td>NaN</td>\n",
              "      <td>NaN</td>\n",
              "      <td>7.125</td>\n",
              "      <td>7.0</td>\n",
              "      <td>F</td>\n",
              "      <td>NaN</td>\n",
              "      <td>NaN</td>\n",
              "      <td>NaN</td>\n",
              "      <td>NaN</td>\n",
              "      <td>NaN</td>\n",
              "      <td>NaN</td>\n",
              "    </tr>\n",
              "  </tbody>\n",
              "</table>\n",
              "<p>80 rows × 25 columns</p>\n",
              "</div>"
            ],
            "text/plain": [
              "    Unnamed: 0   Unnamed: 1  ... Unnamed: 23 Unnamed: 24\n",
              "0            1  603020450-3  ...       จำนวน      ร้อยละ\n",
              "1            2  603020451-1  ...           0           0\n",
              "2            3  603020452-9  ...           0           0\n",
              "3            4  603020453-7  ...           0           0\n",
              "5            6  603020460-0  ...           0           0\n",
              "..         ...          ...  ...         ...         ...\n",
              "83          84  603021885-3  ...         NaN         NaN\n",
              "84          85  603021886-1  ...         NaN         NaN\n",
              "85          86  603021888-7  ...         NaN         NaN\n",
              "86          87  603021889-5  ...         NaN         NaN\n",
              "87          88          NaN  ...         NaN         NaN\n",
              "\n",
              "[80 rows x 25 columns]"
            ]
          },
          "metadata": {
            "tags": []
          },
          "execution_count": 12
        }
      ]
    },
    {
      "cell_type": "code",
      "metadata": {
        "colab": {
          "base_uri": "https://localhost:8080/",
          "height": 406
        },
        "id": "gmRfPHwI0FUK",
        "outputId": "ab8f5380-fcb8-45d7-d1fc-5cba8d703218"
      },
      "source": [
        "Scores1 = classroom_None_QC[['Unnamed: 2',1]]#เลือกเฉพาะข้อมูลที่สนใจ \r\n",
        "Scores1"
      ],
      "execution_count": null,
      "outputs": [
        {
          "output_type": "execute_result",
          "data": {
            "text/html": [
              "<div>\n",
              "<style scoped>\n",
              "    .dataframe tbody tr th:only-of-type {\n",
              "        vertical-align: middle;\n",
              "    }\n",
              "\n",
              "    .dataframe tbody tr th {\n",
              "        vertical-align: top;\n",
              "    }\n",
              "\n",
              "    .dataframe thead th {\n",
              "        text-align: right;\n",
              "    }\n",
              "</style>\n",
              "<table border=\"1\" class=\"dataframe\">\n",
              "  <thead>\n",
              "    <tr style=\"text-align: right;\">\n",
              "      <th></th>\n",
              "      <th>Unnamed: 2</th>\n",
              "      <th>1</th>\n",
              "    </tr>\n",
              "  </thead>\n",
              "  <tbody>\n",
              "    <tr>\n",
              "      <th>0</th>\n",
              "      <td>cozy-tangerine-ladybird</td>\n",
              "      <td>10.000</td>\n",
              "    </tr>\n",
              "    <tr>\n",
              "      <th>1</th>\n",
              "      <td>leaky-rust-chameleon</td>\n",
              "      <td>9.375</td>\n",
              "    </tr>\n",
              "    <tr>\n",
              "      <th>2</th>\n",
              "      <td>nerdy-plum-abyssinian</td>\n",
              "      <td>10.000</td>\n",
              "    </tr>\n",
              "    <tr>\n",
              "      <th>3</th>\n",
              "      <td>scaly-pumpkin-monkey</td>\n",
              "      <td>10.000</td>\n",
              "    </tr>\n",
              "    <tr>\n",
              "      <th>5</th>\n",
              "      <td>gloppy-persimmon-flamingo</td>\n",
              "      <td>8.375</td>\n",
              "    </tr>\n",
              "    <tr>\n",
              "      <th>...</th>\n",
              "      <td>...</td>\n",
              "      <td>...</td>\n",
              "    </tr>\n",
              "    <tr>\n",
              "      <th>83</th>\n",
              "      <td>randy-mauve-ibis</td>\n",
              "      <td>7.750</td>\n",
              "    </tr>\n",
              "    <tr>\n",
              "      <th>84</th>\n",
              "      <td>messy-white-toucan</td>\n",
              "      <td>8.750</td>\n",
              "    </tr>\n",
              "    <tr>\n",
              "      <th>85</th>\n",
              "      <td>gummy-olivine-ibis</td>\n",
              "      <td>10.000</td>\n",
              "    </tr>\n",
              "    <tr>\n",
              "      <th>86</th>\n",
              "      <td>skanky-amaranth-ostrich</td>\n",
              "      <td>8.750</td>\n",
              "    </tr>\n",
              "    <tr>\n",
              "      <th>87</th>\n",
              "      <td>frumpy-gamboge-emu</td>\n",
              "      <td>7.125</td>\n",
              "    </tr>\n",
              "  </tbody>\n",
              "</table>\n",
              "<p>80 rows × 2 columns</p>\n",
              "</div>"
            ],
            "text/plain": [
              "                   Unnamed: 2       1\n",
              "0     cozy-tangerine-ladybird  10.000\n",
              "1        leaky-rust-chameleon   9.375\n",
              "2       nerdy-plum-abyssinian  10.000\n",
              "3        scaly-pumpkin-monkey  10.000\n",
              "5   gloppy-persimmon-flamingo   8.375\n",
              "..                        ...     ...\n",
              "83           randy-mauve-ibis   7.750\n",
              "84         messy-white-toucan   8.750\n",
              "85         gummy-olivine-ibis  10.000\n",
              "86    skanky-amaranth-ostrich   8.750\n",
              "87         frumpy-gamboge-emu   7.125\n",
              "\n",
              "[80 rows x 2 columns]"
            ]
          },
          "metadata": {
            "tags": []
          },
          "execution_count": 13
        }
      ]
    },
    {
      "cell_type": "code",
      "metadata": {
        "colab": {
          "base_uri": "https://localhost:8080/",
          "height": 406
        },
        "id": "g4BytLWx0jTu",
        "outputId": "decddd36-9743-49eb-80c0-c5a85998837e"
      },
      "source": [
        "Scores_Classroom = Scores1.rename(columns={'Unnamed: 2': 'Name',1:'Classroom'})  #เปลี่ยนชื่อ Column\r\n",
        "Scores_Classroom"
      ],
      "execution_count": null,
      "outputs": [
        {
          "output_type": "execute_result",
          "data": {
            "text/html": [
              "<div>\n",
              "<style scoped>\n",
              "    .dataframe tbody tr th:only-of-type {\n",
              "        vertical-align: middle;\n",
              "    }\n",
              "\n",
              "    .dataframe tbody tr th {\n",
              "        vertical-align: top;\n",
              "    }\n",
              "\n",
              "    .dataframe thead th {\n",
              "        text-align: right;\n",
              "    }\n",
              "</style>\n",
              "<table border=\"1\" class=\"dataframe\">\n",
              "  <thead>\n",
              "    <tr style=\"text-align: right;\">\n",
              "      <th></th>\n",
              "      <th>Name</th>\n",
              "      <th>Classroom</th>\n",
              "    </tr>\n",
              "  </thead>\n",
              "  <tbody>\n",
              "    <tr>\n",
              "      <th>0</th>\n",
              "      <td>cozy-tangerine-ladybird</td>\n",
              "      <td>10.000</td>\n",
              "    </tr>\n",
              "    <tr>\n",
              "      <th>1</th>\n",
              "      <td>leaky-rust-chameleon</td>\n",
              "      <td>9.375</td>\n",
              "    </tr>\n",
              "    <tr>\n",
              "      <th>2</th>\n",
              "      <td>nerdy-plum-abyssinian</td>\n",
              "      <td>10.000</td>\n",
              "    </tr>\n",
              "    <tr>\n",
              "      <th>3</th>\n",
              "      <td>scaly-pumpkin-monkey</td>\n",
              "      <td>10.000</td>\n",
              "    </tr>\n",
              "    <tr>\n",
              "      <th>5</th>\n",
              "      <td>gloppy-persimmon-flamingo</td>\n",
              "      <td>8.375</td>\n",
              "    </tr>\n",
              "    <tr>\n",
              "      <th>...</th>\n",
              "      <td>...</td>\n",
              "      <td>...</td>\n",
              "    </tr>\n",
              "    <tr>\n",
              "      <th>83</th>\n",
              "      <td>randy-mauve-ibis</td>\n",
              "      <td>7.750</td>\n",
              "    </tr>\n",
              "    <tr>\n",
              "      <th>84</th>\n",
              "      <td>messy-white-toucan</td>\n",
              "      <td>8.750</td>\n",
              "    </tr>\n",
              "    <tr>\n",
              "      <th>85</th>\n",
              "      <td>gummy-olivine-ibis</td>\n",
              "      <td>10.000</td>\n",
              "    </tr>\n",
              "    <tr>\n",
              "      <th>86</th>\n",
              "      <td>skanky-amaranth-ostrich</td>\n",
              "      <td>8.750</td>\n",
              "    </tr>\n",
              "    <tr>\n",
              "      <th>87</th>\n",
              "      <td>frumpy-gamboge-emu</td>\n",
              "      <td>7.125</td>\n",
              "    </tr>\n",
              "  </tbody>\n",
              "</table>\n",
              "<p>80 rows × 2 columns</p>\n",
              "</div>"
            ],
            "text/plain": [
              "                         Name  Classroom\n",
              "0     cozy-tangerine-ladybird     10.000\n",
              "1        leaky-rust-chameleon      9.375\n",
              "2       nerdy-plum-abyssinian     10.000\n",
              "3        scaly-pumpkin-monkey     10.000\n",
              "5   gloppy-persimmon-flamingo      8.375\n",
              "..                        ...        ...\n",
              "83           randy-mauve-ibis      7.750\n",
              "84         messy-white-toucan      8.750\n",
              "85         gummy-olivine-ibis     10.000\n",
              "86    skanky-amaranth-ostrich      8.750\n",
              "87         frumpy-gamboge-emu      7.125\n",
              "\n",
              "[80 rows x 2 columns]"
            ]
          },
          "metadata": {
            "tags": []
          },
          "execution_count": 14
        }
      ]
    },
    {
      "cell_type": "code",
      "metadata": {
        "colab": {
          "base_uri": "https://localhost:8080/"
        },
        "id": "y3TUqiNp1aSf",
        "outputId": "423a4154-2cf3-4cb9-b740-6bf175f11fa7"
      },
      "source": [
        "Scores_Classroom.isnull().sum() #ไม่พบ Missing Value"
      ],
      "execution_count": null,
      "outputs": [
        {
          "output_type": "execute_result",
          "data": {
            "text/plain": [
              "Name         0\n",
              "Classroom    0\n",
              "dtype: int64"
            ]
          },
          "metadata": {
            "tags": []
          },
          "execution_count": 15
        }
      ]
    },
    {
      "cell_type": "markdown",
      "metadata": {
        "id": "gfeu7iGL7Piq"
      },
      "source": [
        "##ข้อมูลชุดที่ 2"
      ]
    },
    {
      "cell_type": "code",
      "metadata": {
        "colab": {
          "base_uri": "https://localhost:8080/"
        },
        "id": "-T7A0-c4CNhm",
        "outputId": "c8a6edfa-2d35-4cc3-c731-b0051b463119"
      },
      "source": [
        "#เรียกดูข้อมูล\r\n",
        "Advisor1.head()"
      ],
      "execution_count": null,
      "outputs": [
        {
          "output_type": "execute_result",
          "data": {
            "text/html": [
              "<div>\n",
              "<style scoped>\n",
              "    .dataframe tbody tr th:only-of-type {\n",
              "        vertical-align: middle;\n",
              "    }\n",
              "\n",
              "    .dataframe tbody tr th {\n",
              "        vertical-align: top;\n",
              "    }\n",
              "\n",
              "    .dataframe thead th {\n",
              "        text-align: right;\n",
              "    }\n",
              "</style>\n",
              "<table border=\"1\" class=\"dataframe\">\n",
              "  <thead>\n",
              "    <tr style=\"text-align: right;\">\n",
              "      <th></th>\n",
              "      <th>Unnamed: 0</th>\n",
              "      <th>1. ความกระตือรือร้น ความมุ่งมั่น ความขยันหมั่นเพียร ความตั้งใจในการทำงาน และความรับผิดชอบ</th>\n",
              "      <th>2. ความสม่ำเสมอในการเข้าพบอาจารย์ที่ปรึกษา และมาพบตรงตามวัน/เวลาที่นัดหมาย</th>\n",
              "      <th>3. ความสามารถในการอธิบายหรือการนำเสนอต่อหน้าอาจารย์ที่ปรึกษา</th>\n",
              "      <th>4. การทำงานเป็นทีม (กรณีที่ทำเป็นคู่)</th>\n",
              "      <th>5. ความใส่ใจในการจัดพิมพ์เอกสาร เช่น ความถูกต้อง การแก้ไขตามที่ให้ข้อเสนอแนะไปแล้ว</th>\n",
              "      <th>6. สามารถควบคุมโครงงานให้ดำเนินการเป็นไปตามแผน</th>\n",
              "      <th>7. ความคิดสร้างสรรค์ ความสามารถวางแผนในการทำงาน การแก้ปัญหาในระหว่างการทำงาน</th>\n",
              "      <th>ความสมบูรณ์ของเล่ม (8.1 การค้นคว้าข้อมูล หรือแสวงหาความรู้เพิ่มเติม)</th>\n",
              "      <th>ความสมบูรณ์ของเล่ม (8.2 ความสามารถในการคิด วิเคราะห์ หรือสังเคราะห์งาน )</th>\n",
              "      <th>ความสมบูรณ์ของเล่ม (8.3 ความสวยงาม ประณีต และความเหมาะสมของรายงาน)</th>\n",
              "      <th>รวม</th>\n",
              "      <th>Unnamed: 12</th>\n",
              "    </tr>\n",
              "  </thead>\n",
              "  <tbody>\n",
              "    <tr>\n",
              "      <th>0</th>\n",
              "      <td>NaN</td>\n",
              "      <td>5</td>\n",
              "      <td>5</td>\n",
              "      <td>10</td>\n",
              "      <td>5</td>\n",
              "      <td>10</td>\n",
              "      <td>10</td>\n",
              "      <td>10</td>\n",
              "      <td>5</td>\n",
              "      <td>5</td>\n",
              "      <td>5</td>\n",
              "      <td>70</td>\n",
              "      <td>NaN</td>\n",
              "    </tr>\n",
              "    <tr>\n",
              "      <th>1</th>\n",
              "      <td>leaky-rust-chameleon</td>\n",
              "      <td>5</td>\n",
              "      <td>5</td>\n",
              "      <td>9</td>\n",
              "      <td>5</td>\n",
              "      <td>9</td>\n",
              "      <td>10</td>\n",
              "      <td>10</td>\n",
              "      <td>5</td>\n",
              "      <td>5</td>\n",
              "      <td>5</td>\n",
              "      <td>68</td>\n",
              "      <td>1.การศึกษาแนวทางการประกันภัยพืชผลสำหรับมันสำปะ...</td>\n",
              "    </tr>\n",
              "    <tr>\n",
              "      <th>2</th>\n",
              "      <td>greasy-ruby-bombay</td>\n",
              "      <td>4</td>\n",
              "      <td>5</td>\n",
              "      <td>7</td>\n",
              "      <td>5</td>\n",
              "      <td>8</td>\n",
              "      <td>10</td>\n",
              "      <td>9</td>\n",
              "      <td>4</td>\n",
              "      <td>5</td>\n",
              "      <td>4</td>\n",
              "      <td>61</td>\n",
              "      <td>NaN</td>\n",
              "    </tr>\n",
              "    <tr>\n",
              "      <th>3</th>\n",
              "      <td>wiggy-silver-drever</td>\n",
              "      <td>5</td>\n",
              "      <td>5</td>\n",
              "      <td>8</td>\n",
              "      <td>5</td>\n",
              "      <td>9</td>\n",
              "      <td>10</td>\n",
              "      <td>10</td>\n",
              "      <td>5</td>\n",
              "      <td>5</td>\n",
              "      <td>5</td>\n",
              "      <td>67</td>\n",
              "      <td>2.การศึกษาการทำประกันภัยพืชผลจากภัยแล้งโดยใช้ค...</td>\n",
              "    </tr>\n",
              "    <tr>\n",
              "      <th>4</th>\n",
              "      <td>stinky-red-chow</td>\n",
              "      <td>5</td>\n",
              "      <td>5</td>\n",
              "      <td>8</td>\n",
              "      <td>5</td>\n",
              "      <td>9</td>\n",
              "      <td>10</td>\n",
              "      <td>10</td>\n",
              "      <td>5</td>\n",
              "      <td>5</td>\n",
              "      <td>5</td>\n",
              "      <td>67</td>\n",
              "      <td>NaN</td>\n",
              "    </tr>\n",
              "  </tbody>\n",
              "</table>\n",
              "</div>"
            ],
            "text/plain": [
              "             Unnamed: 0  ...                                        Unnamed: 12\n",
              "0                   NaN  ...                                                NaN\n",
              "1  leaky-rust-chameleon  ...  1.การศึกษาแนวทางการประกันภัยพืชผลสำหรับมันสำปะ...\n",
              "2    greasy-ruby-bombay  ...                                                NaN\n",
              "3   wiggy-silver-drever  ...  2.การศึกษาการทำประกันภัยพืชผลจากภัยแล้งโดยใช้ค...\n",
              "4       stinky-red-chow  ...                                                NaN\n",
              "\n",
              "[5 rows x 13 columns]"
            ]
          },
          "metadata": {
            "tags": []
          },
          "execution_count": 16
        }
      ]
    },
    {
      "cell_type": "code",
      "metadata": {
        "id": "utrOVw8WClVB"
      },
      "source": [
        "#ทำการตัดแถวแรก\r\n",
        "Advisor1.drop(index= 0, inplace= True)\r\n",
        "Advisor2.drop(index= 0, inplace= True)\r\n",
        "Advisor3.drop(index= 0, inplace= True)\r\n",
        "Advisor4.drop(index= 0, inplace= True)\r\n",
        "Advisor5.drop(index= 0, inplace= True)\r\n",
        "Advisor6.drop(index= 0, inplace= True)\r\n",
        "Advisor7.drop(index= 0, inplace= True)\r\n",
        "Advisor8.drop(index= 0, inplace= True)\r\n",
        "Advisor9.drop(index= 0, inplace= True)\r\n",
        "Advisor10.drop(index= 0, inplace= True)\r\n",
        "Advisor11.drop(index= 0, inplace= True)\r\n",
        "Advisor12.drop(index= 0, inplace= True)"
      ],
      "execution_count": null,
      "outputs": []
    },
    {
      "cell_type": "code",
      "metadata": {
        "id": "opO_9iWX7MXW"
      },
      "source": [
        "#ทำการเลือกเฉพาะ Column ที่สนใจ\r\n",
        "Advisor_1 = Advisor1[['Unnamed: 0','รวม']]\r\n",
        "Advisor_2 = Advisor2[['Unnamed: 0','รวม']]\r\n",
        "Advisor_3 = Advisor3[['Unnamed: 0','รวม']]\r\n",
        "Advisor_4 = Advisor4[['Unnamed: 0','รวม']]\r\n",
        "Advisor_5 = Advisor5[['Unnamed: 0','รวม']]\r\n",
        "Advisor_6 = Advisor6[['Unnamed: 0','รวม']]\r\n",
        "Advisor_7 = Advisor7[['Unnamed: 0','รวม']]\r\n",
        "Advisor_8 = Advisor8[['Unnamed: 0','รวม']]\r\n",
        "Advisor_9 = Advisor9[['Unnamed: 0','รวม']]\r\n",
        "Advisor_10 = Advisor10[['Unnamed: 0','รวม']]\r\n",
        "Advisor_11 = Advisor11[['Unnamed: 0','รวม']]\r\n",
        "Advisor_12 = Advisor12[['Unnamed: 0','รวม']]"
      ],
      "execution_count": null,
      "outputs": []
    },
    {
      "cell_type": "code",
      "metadata": {
        "colab": {
          "base_uri": "https://localhost:8080/"
        },
        "id": "17IXKtCJ-Crr",
        "outputId": "f5045ab7-4303-4102-bf92-03c4f2e66b8c"
      },
      "source": [
        "#เรียกดูข้อมูล\r\n",
        "Advisor_1.head()"
      ],
      "execution_count": null,
      "outputs": [
        {
          "output_type": "execute_result",
          "data": {
            "text/html": [
              "<div>\n",
              "<style scoped>\n",
              "    .dataframe tbody tr th:only-of-type {\n",
              "        vertical-align: middle;\n",
              "    }\n",
              "\n",
              "    .dataframe tbody tr th {\n",
              "        vertical-align: top;\n",
              "    }\n",
              "\n",
              "    .dataframe thead th {\n",
              "        text-align: right;\n",
              "    }\n",
              "</style>\n",
              "<table border=\"1\" class=\"dataframe\">\n",
              "  <thead>\n",
              "    <tr style=\"text-align: right;\">\n",
              "      <th></th>\n",
              "      <th>Unnamed: 0</th>\n",
              "      <th>รวม</th>\n",
              "    </tr>\n",
              "  </thead>\n",
              "  <tbody>\n",
              "    <tr>\n",
              "      <th>1</th>\n",
              "      <td>leaky-rust-chameleon</td>\n",
              "      <td>68</td>\n",
              "    </tr>\n",
              "    <tr>\n",
              "      <th>2</th>\n",
              "      <td>greasy-ruby-bombay</td>\n",
              "      <td>61</td>\n",
              "    </tr>\n",
              "    <tr>\n",
              "      <th>3</th>\n",
              "      <td>wiggy-silver-drever</td>\n",
              "      <td>67</td>\n",
              "    </tr>\n",
              "    <tr>\n",
              "      <th>4</th>\n",
              "      <td>stinky-red-chow</td>\n",
              "      <td>67</td>\n",
              "    </tr>\n",
              "    <tr>\n",
              "      <th>5</th>\n",
              "      <td>bumpy-indigo-dolphin</td>\n",
              "      <td>67</td>\n",
              "    </tr>\n",
              "  </tbody>\n",
              "</table>\n",
              "</div>"
            ],
            "text/plain": [
              "             Unnamed: 0  รวม\n",
              "1  leaky-rust-chameleon   68\n",
              "2    greasy-ruby-bombay   61\n",
              "3   wiggy-silver-drever   67\n",
              "4       stinky-red-chow   67\n",
              "5  bumpy-indigo-dolphin   67"
            ]
          },
          "metadata": {
            "tags": []
          },
          "execution_count": 19
        }
      ]
    },
    {
      "cell_type": "code",
      "metadata": {
        "colab": {
          "base_uri": "https://localhost:8080/"
        },
        "id": "DVirZCRUDas3",
        "outputId": "0b7a1ef7-a02e-4fab-b776-3eb2f2708ed1"
      },
      "source": [
        "#หาค่า Missing Value\r\n",
        "Advisor_1.isnull().sum() #ไม่พบ missing Value"
      ],
      "execution_count": null,
      "outputs": [
        {
          "output_type": "execute_result",
          "data": {
            "text/plain": [
              "Unnamed: 0    0\n",
              "รวม           0\n",
              "dtype: int64"
            ]
          },
          "metadata": {
            "tags": []
          },
          "execution_count": 20
        }
      ]
    },
    {
      "cell_type": "code",
      "metadata": {
        "colab": {
          "base_uri": "https://localhost:8080/"
        },
        "id": "X_C1Ys9nEHah",
        "outputId": "e7cd11a2-30cc-4ce3-c600-4c1363e39008"
      },
      "source": [
        "#หาค่า Missing Value\r\n",
        "Advisor_2.isnull().sum() #ไม่พบ missing Value"
      ],
      "execution_count": null,
      "outputs": [
        {
          "output_type": "execute_result",
          "data": {
            "text/plain": [
              "Unnamed: 0    0\n",
              "รวม           0\n",
              "dtype: int64"
            ]
          },
          "metadata": {
            "tags": []
          },
          "execution_count": 21
        }
      ]
    },
    {
      "cell_type": "code",
      "metadata": {
        "colab": {
          "base_uri": "https://localhost:8080/"
        },
        "id": "lU8DD7bmEOMt",
        "outputId": "5e340268-85a8-4ea0-9bed-f274f8aff75b"
      },
      "source": [
        "#หาค่า Missing Value\r\n",
        "Advisor_3.isnull().sum() #ไม่พบ missing Value"
      ],
      "execution_count": null,
      "outputs": [
        {
          "output_type": "execute_result",
          "data": {
            "text/plain": [
              "Unnamed: 0    0\n",
              "รวม           0\n",
              "dtype: int64"
            ]
          },
          "metadata": {
            "tags": []
          },
          "execution_count": 22
        }
      ]
    },
    {
      "cell_type": "code",
      "metadata": {
        "colab": {
          "base_uri": "https://localhost:8080/"
        },
        "id": "CJ_Edr5_EPP1",
        "outputId": "d9d1d927-b2c8-4c23-8385-30731de3d958"
      },
      "source": [
        "#หาค่า Missing Value\r\n",
        "Advisor_4.isnull().sum() #ไม่พบ missing Value"
      ],
      "execution_count": null,
      "outputs": [
        {
          "output_type": "execute_result",
          "data": {
            "text/plain": [
              "Unnamed: 0    0\n",
              "รวม           0\n",
              "dtype: int64"
            ]
          },
          "metadata": {
            "tags": []
          },
          "execution_count": 23
        }
      ]
    },
    {
      "cell_type": "code",
      "metadata": {
        "colab": {
          "base_uri": "https://localhost:8080/"
        },
        "id": "wbARUTZaEUo5",
        "outputId": "82a70f5c-b729-4106-c68b-94ae35ebffac"
      },
      "source": [
        "#หาค่า Missing Value\r\n",
        "Advisor_5.isnull().sum() #ไม่พบ missing Value"
      ],
      "execution_count": null,
      "outputs": [
        {
          "output_type": "execute_result",
          "data": {
            "text/plain": [
              "Unnamed: 0    0\n",
              "รวม           0\n",
              "dtype: int64"
            ]
          },
          "metadata": {
            "tags": []
          },
          "execution_count": 24
        }
      ]
    },
    {
      "cell_type": "code",
      "metadata": {
        "colab": {
          "base_uri": "https://localhost:8080/"
        },
        "id": "D6CxisS6EUhT",
        "outputId": "6eb1f5e6-0976-4153-a09a-4a8dc9e6405c"
      },
      "source": [
        "#หาค่า Missing Value\r\n",
        "Advisor_6.isnull().sum() #ไม่พบ missing Value"
      ],
      "execution_count": null,
      "outputs": [
        {
          "output_type": "execute_result",
          "data": {
            "text/plain": [
              "Unnamed: 0    0\n",
              "รวม           0\n",
              "dtype: int64"
            ]
          },
          "metadata": {
            "tags": []
          },
          "execution_count": 25
        }
      ]
    },
    {
      "cell_type": "code",
      "metadata": {
        "colab": {
          "base_uri": "https://localhost:8080/"
        },
        "id": "j43UnflUEUYW",
        "outputId": "10dcd538-6382-4526-9b73-8b127e9465d6"
      },
      "source": [
        "#หาค่า Missing Value\r\n",
        "Advisor_7.isnull().sum() #ไม่พบ missing Value"
      ],
      "execution_count": null,
      "outputs": [
        {
          "output_type": "execute_result",
          "data": {
            "text/plain": [
              "Unnamed: 0    0\n",
              "รวม           0\n",
              "dtype: int64"
            ]
          },
          "metadata": {
            "tags": []
          },
          "execution_count": 26
        }
      ]
    },
    {
      "cell_type": "code",
      "metadata": {
        "colab": {
          "base_uri": "https://localhost:8080/"
        },
        "id": "jD4DWyiuEUTP",
        "outputId": "bf19ed43-80ac-43e1-f84d-c3af997d9f1b"
      },
      "source": [
        "#หาค่า Missing Value\r\n",
        "Advisor_8.isnull().sum() #ไม่พบ missing Value"
      ],
      "execution_count": null,
      "outputs": [
        {
          "output_type": "execute_result",
          "data": {
            "text/plain": [
              "Unnamed: 0    0\n",
              "รวม           0\n",
              "dtype: int64"
            ]
          },
          "metadata": {
            "tags": []
          },
          "execution_count": 27
        }
      ]
    },
    {
      "cell_type": "code",
      "metadata": {
        "colab": {
          "base_uri": "https://localhost:8080/"
        },
        "id": "2czb_-lSEUKu",
        "outputId": "c8c52e56-e746-4de1-cf30-3a0b33046566"
      },
      "source": [
        "#หาค่า Missing Value\r\n",
        "Advisor_9.isnull().sum() #ไม่พบ missing Value"
      ],
      "execution_count": null,
      "outputs": [
        {
          "output_type": "execute_result",
          "data": {
            "text/plain": [
              "Unnamed: 0    0\n",
              "รวม           0\n",
              "dtype: int64"
            ]
          },
          "metadata": {
            "tags": []
          },
          "execution_count": 28
        }
      ]
    },
    {
      "cell_type": "code",
      "metadata": {
        "colab": {
          "base_uri": "https://localhost:8080/"
        },
        "id": "z2N1OUIwEUC5",
        "outputId": "e2925422-193d-4f86-b54e-14d4a4650685"
      },
      "source": [
        "#หาค่า Missing Value\r\n",
        "Advisor_10.isnull().sum() #ไม่พบ missing Value"
      ],
      "execution_count": null,
      "outputs": [
        {
          "output_type": "execute_result",
          "data": {
            "text/plain": [
              "Unnamed: 0    0\n",
              "รวม           0\n",
              "dtype: int64"
            ]
          },
          "metadata": {
            "tags": []
          },
          "execution_count": 29
        }
      ]
    },
    {
      "cell_type": "code",
      "metadata": {
        "colab": {
          "base_uri": "https://localhost:8080/"
        },
        "id": "M89mUOWPET3J",
        "outputId": "8a4b2a21-c15a-4511-f02f-93c025095048"
      },
      "source": [
        "#หาค่า Missing Value\r\n",
        "Advisor_11.isnull().sum() #ไม่พบ missing Value"
      ],
      "execution_count": null,
      "outputs": [
        {
          "output_type": "execute_result",
          "data": {
            "text/plain": [
              "Unnamed: 0    0\n",
              "รวม           0\n",
              "dtype: int64"
            ]
          },
          "metadata": {
            "tags": []
          },
          "execution_count": 30
        }
      ]
    },
    {
      "cell_type": "code",
      "metadata": {
        "colab": {
          "base_uri": "https://localhost:8080/"
        },
        "id": "hzfVVJfFETqs",
        "outputId": "18ada8b6-d92e-4023-a0b6-b0a339d0dbae"
      },
      "source": [
        "#หาค่า Missing Value\r\n",
        "Advisor_12.isnull().sum() #พบ missing Value"
      ],
      "execution_count": null,
      "outputs": [
        {
          "output_type": "execute_result",
          "data": {
            "text/plain": [
              "Unnamed: 0    2\n",
              "รวม           2\n",
              "dtype: int64"
            ]
          },
          "metadata": {
            "tags": []
          },
          "execution_count": 31
        }
      ]
    },
    {
      "cell_type": "markdown",
      "metadata": {
        "id": "JNSDRa6mE2kP"
      },
      "source": [
        "แก้ missing value ของ Advisor_12"
      ]
    },
    {
      "cell_type": "code",
      "metadata": {
        "colab": {
          "base_uri": "https://localhost:8080/"
        },
        "id": "-M9zsVJ7EiTx",
        "outputId": "309103fa-5c31-4a64-9f9e-d689a1ae2fda"
      },
      "source": [
        "#เรียกดูข้อมูล\r\n",
        "Advisor_12"
      ],
      "execution_count": null,
      "outputs": [
        {
          "output_type": "execute_result",
          "data": {
            "text/html": [
              "<div>\n",
              "<style scoped>\n",
              "    .dataframe tbody tr th:only-of-type {\n",
              "        vertical-align: middle;\n",
              "    }\n",
              "\n",
              "    .dataframe tbody tr th {\n",
              "        vertical-align: top;\n",
              "    }\n",
              "\n",
              "    .dataframe thead th {\n",
              "        text-align: right;\n",
              "    }\n",
              "</style>\n",
              "<table border=\"1\" class=\"dataframe\">\n",
              "  <thead>\n",
              "    <tr style=\"text-align: right;\">\n",
              "      <th></th>\n",
              "      <th>Unnamed: 0</th>\n",
              "      <th>รวม</th>\n",
              "    </tr>\n",
              "  </thead>\n",
              "  <tbody>\n",
              "    <tr>\n",
              "      <th>1</th>\n",
              "      <td>chummy-azure-walrus</td>\n",
              "      <td>68.0</td>\n",
              "    </tr>\n",
              "    <tr>\n",
              "      <th>2</th>\n",
              "      <td>breezy-pear-macaw</td>\n",
              "      <td>69.0</td>\n",
              "    </tr>\n",
              "    <tr>\n",
              "      <th>3</th>\n",
              "      <td>cozy-tangerine-ladybird</td>\n",
              "      <td>62.0</td>\n",
              "    </tr>\n",
              "    <tr>\n",
              "      <th>4</th>\n",
              "      <td>scaly-pumpkin-monkey</td>\n",
              "      <td>62.0</td>\n",
              "    </tr>\n",
              "    <tr>\n",
              "      <th>5</th>\n",
              "      <td>scanty-razzmatazz-rabbit</td>\n",
              "      <td>65.0</td>\n",
              "    </tr>\n",
              "    <tr>\n",
              "      <th>6</th>\n",
              "      <td>grumpy-flax-bonobo</td>\n",
              "      <td>65.0</td>\n",
              "    </tr>\n",
              "    <tr>\n",
              "      <th>7</th>\n",
              "      <td>NaN</td>\n",
              "      <td>NaN</td>\n",
              "    </tr>\n",
              "    <tr>\n",
              "      <th>8</th>\n",
              "      <td>NaN</td>\n",
              "      <td>NaN</td>\n",
              "    </tr>\n",
              "  </tbody>\n",
              "</table>\n",
              "</div>"
            ],
            "text/plain": [
              "                 Unnamed: 0   รวม\n",
              "1       chummy-azure-walrus  68.0\n",
              "2         breezy-pear-macaw  69.0\n",
              "3   cozy-tangerine-ladybird  62.0\n",
              "4      scaly-pumpkin-monkey  62.0\n",
              "5  scanty-razzmatazz-rabbit  65.0\n",
              "6        grumpy-flax-bonobo  65.0\n",
              "7                       NaN   NaN\n",
              "8                       NaN   NaN"
            ]
          },
          "metadata": {
            "tags": []
          },
          "execution_count": 32
        }
      ]
    },
    {
      "cell_type": "code",
      "metadata": {
        "colab": {
          "base_uri": "https://localhost:8080/"
        },
        "id": "L3pSXSNqE7Ix",
        "outputId": "c42b46f7-6cb0-4d27-832d-5b22869bb185"
      },
      "source": [
        "#ไม่มีรายชื่อนักศึกษา ทำการตัดแถวที่เป็นค่าว่างออก\r\n",
        "Advisor_12.dropna(inplace= True)\r\n",
        "Advisor_12"
      ],
      "execution_count": null,
      "outputs": [
        {
          "output_type": "stream",
          "text": [
            "/usr/local/lib/python3.6/dist-packages/ipykernel_launcher.py:2: SettingWithCopyWarning: \n",
            "A value is trying to be set on a copy of a slice from a DataFrame\n",
            "\n",
            "See the caveats in the documentation: https://pandas.pydata.org/pandas-docs/stable/user_guide/indexing.html#returning-a-view-versus-a-copy\n",
            "  \n"
          ],
          "name": "stderr"
        },
        {
          "output_type": "execute_result",
          "data": {
            "text/html": [
              "<div>\n",
              "<style scoped>\n",
              "    .dataframe tbody tr th:only-of-type {\n",
              "        vertical-align: middle;\n",
              "    }\n",
              "\n",
              "    .dataframe tbody tr th {\n",
              "        vertical-align: top;\n",
              "    }\n",
              "\n",
              "    .dataframe thead th {\n",
              "        text-align: right;\n",
              "    }\n",
              "</style>\n",
              "<table border=\"1\" class=\"dataframe\">\n",
              "  <thead>\n",
              "    <tr style=\"text-align: right;\">\n",
              "      <th></th>\n",
              "      <th>Unnamed: 0</th>\n",
              "      <th>รวม</th>\n",
              "    </tr>\n",
              "  </thead>\n",
              "  <tbody>\n",
              "    <tr>\n",
              "      <th>1</th>\n",
              "      <td>chummy-azure-walrus</td>\n",
              "      <td>68.0</td>\n",
              "    </tr>\n",
              "    <tr>\n",
              "      <th>2</th>\n",
              "      <td>breezy-pear-macaw</td>\n",
              "      <td>69.0</td>\n",
              "    </tr>\n",
              "    <tr>\n",
              "      <th>3</th>\n",
              "      <td>cozy-tangerine-ladybird</td>\n",
              "      <td>62.0</td>\n",
              "    </tr>\n",
              "    <tr>\n",
              "      <th>4</th>\n",
              "      <td>scaly-pumpkin-monkey</td>\n",
              "      <td>62.0</td>\n",
              "    </tr>\n",
              "    <tr>\n",
              "      <th>5</th>\n",
              "      <td>scanty-razzmatazz-rabbit</td>\n",
              "      <td>65.0</td>\n",
              "    </tr>\n",
              "    <tr>\n",
              "      <th>6</th>\n",
              "      <td>grumpy-flax-bonobo</td>\n",
              "      <td>65.0</td>\n",
              "    </tr>\n",
              "  </tbody>\n",
              "</table>\n",
              "</div>"
            ],
            "text/plain": [
              "                 Unnamed: 0   รวม\n",
              "1       chummy-azure-walrus  68.0\n",
              "2         breezy-pear-macaw  69.0\n",
              "3   cozy-tangerine-ladybird  62.0\n",
              "4      scaly-pumpkin-monkey  62.0\n",
              "5  scanty-razzmatazz-rabbit  65.0\n",
              "6        grumpy-flax-bonobo  65.0"
            ]
          },
          "metadata": {
            "tags": []
          },
          "execution_count": 33
        }
      ]
    },
    {
      "cell_type": "code",
      "metadata": {
        "colab": {
          "base_uri": "https://localhost:8080/"
        },
        "id": "ogm_bEI9FV0f",
        "outputId": "c16d83a6-7858-48ec-cffa-e90753f78537"
      },
      "source": [
        "#ทำการรวมไฟล์\r\n",
        "ScoresAdvisor = pd.concat([Advisor_1,Advisor_2,Advisor_3,Advisor_4,Advisor_5,Advisor_6,Advisor_7,Advisor_8,Advisor_9,Advisor_10,Advisor_11,Advisor_12])\r\n",
        "ScoresAdvisor "
      ],
      "execution_count": null,
      "outputs": [
        {
          "output_type": "execute_result",
          "data": {
            "text/html": [
              "<div>\n",
              "<style scoped>\n",
              "    .dataframe tbody tr th:only-of-type {\n",
              "        vertical-align: middle;\n",
              "    }\n",
              "\n",
              "    .dataframe tbody tr th {\n",
              "        vertical-align: top;\n",
              "    }\n",
              "\n",
              "    .dataframe thead th {\n",
              "        text-align: right;\n",
              "    }\n",
              "</style>\n",
              "<table border=\"1\" class=\"dataframe\">\n",
              "  <thead>\n",
              "    <tr style=\"text-align: right;\">\n",
              "      <th></th>\n",
              "      <th>Unnamed: 0</th>\n",
              "      <th>รวม</th>\n",
              "    </tr>\n",
              "  </thead>\n",
              "  <tbody>\n",
              "    <tr>\n",
              "      <th>1</th>\n",
              "      <td>leaky-rust-chameleon</td>\n",
              "      <td>68.0</td>\n",
              "    </tr>\n",
              "    <tr>\n",
              "      <th>2</th>\n",
              "      <td>greasy-ruby-bombay</td>\n",
              "      <td>61.0</td>\n",
              "    </tr>\n",
              "    <tr>\n",
              "      <th>3</th>\n",
              "      <td>wiggy-silver-drever</td>\n",
              "      <td>67.0</td>\n",
              "    </tr>\n",
              "    <tr>\n",
              "      <th>4</th>\n",
              "      <td>stinky-red-chow</td>\n",
              "      <td>67.0</td>\n",
              "    </tr>\n",
              "    <tr>\n",
              "      <th>5</th>\n",
              "      <td>bumpy-indigo-dolphin</td>\n",
              "      <td>67.0</td>\n",
              "    </tr>\n",
              "    <tr>\n",
              "      <th>...</th>\n",
              "      <td>...</td>\n",
              "      <td>...</td>\n",
              "    </tr>\n",
              "    <tr>\n",
              "      <th>2</th>\n",
              "      <td>breezy-pear-macaw</td>\n",
              "      <td>69.0</td>\n",
              "    </tr>\n",
              "    <tr>\n",
              "      <th>3</th>\n",
              "      <td>cozy-tangerine-ladybird</td>\n",
              "      <td>62.0</td>\n",
              "    </tr>\n",
              "    <tr>\n",
              "      <th>4</th>\n",
              "      <td>scaly-pumpkin-monkey</td>\n",
              "      <td>62.0</td>\n",
              "    </tr>\n",
              "    <tr>\n",
              "      <th>5</th>\n",
              "      <td>scanty-razzmatazz-rabbit</td>\n",
              "      <td>65.0</td>\n",
              "    </tr>\n",
              "    <tr>\n",
              "      <th>6</th>\n",
              "      <td>grumpy-flax-bonobo</td>\n",
              "      <td>65.0</td>\n",
              "    </tr>\n",
              "  </tbody>\n",
              "</table>\n",
              "<p>80 rows × 2 columns</p>\n",
              "</div>"
            ],
            "text/plain": [
              "                  Unnamed: 0   รวม\n",
              "1       leaky-rust-chameleon  68.0\n",
              "2         greasy-ruby-bombay  61.0\n",
              "3        wiggy-silver-drever  67.0\n",
              "4            stinky-red-chow  67.0\n",
              "5       bumpy-indigo-dolphin  67.0\n",
              "..                       ...   ...\n",
              "2          breezy-pear-macaw  69.0\n",
              "3    cozy-tangerine-ladybird  62.0\n",
              "4       scaly-pumpkin-monkey  62.0\n",
              "5   scanty-razzmatazz-rabbit  65.0\n",
              "6         grumpy-flax-bonobo  65.0\n",
              "\n",
              "[80 rows x 2 columns]"
            ]
          },
          "metadata": {
            "tags": []
          },
          "execution_count": 34
        }
      ]
    },
    {
      "cell_type": "code",
      "metadata": {
        "colab": {
          "base_uri": "https://localhost:8080/"
        },
        "id": "h8CVY8B1ICkc",
        "outputId": "e3c58e13-f100-4a47-dc4b-98a45c2ddfd8"
      },
      "source": [
        "#ทำการเปลี่ยนชื่อ column\r\n",
        "Scores_Advisor  = ScoresAdvisor .rename(columns={'Unnamed: 0': 'Name','รวม':'Advisor'})  #เปลี่ยนชื่อ Column\r\n",
        "Scores_Advisor  "
      ],
      "execution_count": null,
      "outputs": [
        {
          "output_type": "execute_result",
          "data": {
            "text/html": [
              "<div>\n",
              "<style scoped>\n",
              "    .dataframe tbody tr th:only-of-type {\n",
              "        vertical-align: middle;\n",
              "    }\n",
              "\n",
              "    .dataframe tbody tr th {\n",
              "        vertical-align: top;\n",
              "    }\n",
              "\n",
              "    .dataframe thead th {\n",
              "        text-align: right;\n",
              "    }\n",
              "</style>\n",
              "<table border=\"1\" class=\"dataframe\">\n",
              "  <thead>\n",
              "    <tr style=\"text-align: right;\">\n",
              "      <th></th>\n",
              "      <th>Name</th>\n",
              "      <th>Advisor</th>\n",
              "    </tr>\n",
              "  </thead>\n",
              "  <tbody>\n",
              "    <tr>\n",
              "      <th>1</th>\n",
              "      <td>leaky-rust-chameleon</td>\n",
              "      <td>68.0</td>\n",
              "    </tr>\n",
              "    <tr>\n",
              "      <th>2</th>\n",
              "      <td>greasy-ruby-bombay</td>\n",
              "      <td>61.0</td>\n",
              "    </tr>\n",
              "    <tr>\n",
              "      <th>3</th>\n",
              "      <td>wiggy-silver-drever</td>\n",
              "      <td>67.0</td>\n",
              "    </tr>\n",
              "    <tr>\n",
              "      <th>4</th>\n",
              "      <td>stinky-red-chow</td>\n",
              "      <td>67.0</td>\n",
              "    </tr>\n",
              "    <tr>\n",
              "      <th>5</th>\n",
              "      <td>bumpy-indigo-dolphin</td>\n",
              "      <td>67.0</td>\n",
              "    </tr>\n",
              "    <tr>\n",
              "      <th>...</th>\n",
              "      <td>...</td>\n",
              "      <td>...</td>\n",
              "    </tr>\n",
              "    <tr>\n",
              "      <th>2</th>\n",
              "      <td>breezy-pear-macaw</td>\n",
              "      <td>69.0</td>\n",
              "    </tr>\n",
              "    <tr>\n",
              "      <th>3</th>\n",
              "      <td>cozy-tangerine-ladybird</td>\n",
              "      <td>62.0</td>\n",
              "    </tr>\n",
              "    <tr>\n",
              "      <th>4</th>\n",
              "      <td>scaly-pumpkin-monkey</td>\n",
              "      <td>62.0</td>\n",
              "    </tr>\n",
              "    <tr>\n",
              "      <th>5</th>\n",
              "      <td>scanty-razzmatazz-rabbit</td>\n",
              "      <td>65.0</td>\n",
              "    </tr>\n",
              "    <tr>\n",
              "      <th>6</th>\n",
              "      <td>grumpy-flax-bonobo</td>\n",
              "      <td>65.0</td>\n",
              "    </tr>\n",
              "  </tbody>\n",
              "</table>\n",
              "<p>80 rows × 2 columns</p>\n",
              "</div>"
            ],
            "text/plain": [
              "                        Name  Advisor\n",
              "1       leaky-rust-chameleon     68.0\n",
              "2         greasy-ruby-bombay     61.0\n",
              "3        wiggy-silver-drever     67.0\n",
              "4            stinky-red-chow     67.0\n",
              "5       bumpy-indigo-dolphin     67.0\n",
              "..                       ...      ...\n",
              "2          breezy-pear-macaw     69.0\n",
              "3    cozy-tangerine-ladybird     62.0\n",
              "4       scaly-pumpkin-monkey     62.0\n",
              "5   scanty-razzmatazz-rabbit     65.0\n",
              "6         grumpy-flax-bonobo     65.0\n",
              "\n",
              "[80 rows x 2 columns]"
            ]
          },
          "metadata": {
            "tags": []
          },
          "execution_count": 35
        }
      ]
    },
    {
      "cell_type": "markdown",
      "metadata": {
        "id": "2WR7b1wdIvY9"
      },
      "source": [
        "##ข้อมูลชุดที่ 3"
      ]
    },
    {
      "cell_type": "code",
      "metadata": {
        "colab": {
          "base_uri": "https://localhost:8080/"
        },
        "id": "gZpR3LT7IrEx",
        "outputId": "880f91bf-b0af-4f72-f656-04329ba117dd"
      },
      "source": [
        "#เรียกดูข้อมูล\r\n",
        "present_Day1.head()"
      ],
      "execution_count": null,
      "outputs": [
        {
          "output_type": "execute_result",
          "data": {
            "text/html": [
              "<div>\n",
              "<style scoped>\n",
              "    .dataframe tbody tr th:only-of-type {\n",
              "        vertical-align: middle;\n",
              "    }\n",
              "\n",
              "    .dataframe tbody tr th {\n",
              "        vertical-align: top;\n",
              "    }\n",
              "\n",
              "    .dataframe thead th {\n",
              "        text-align: right;\n",
              "    }\n",
              "</style>\n",
              "<table border=\"1\" class=\"dataframe\">\n",
              "  <thead>\n",
              "    <tr style=\"text-align: right;\">\n",
              "      <th></th>\n",
              "      <th>ห้องสอบ</th>\n",
              "      <th>เวลา</th>\n",
              "      <th>ชื่อเรื่อง</th>\n",
              "      <th>นักศึกษา</th>\n",
              "      <th>อาจารย์</th>\n",
              "      <th>กรรมการสอบ</th>\n",
              "      <th>ความชัดเจนของโจทย์การวิจัย</th>\n",
              "      <th>ความครอบคลุมของทฤษฎีและ วรรณกรรมที่เกี่ยวข้อง</th>\n",
              "      <th>ความถูกต้องของระเบียบวิธีวิจัย</th>\n",
              "      <th>สื่อการนำเสนอ</th>\n",
              "      <th>ความสามารถในการนำเสนอและตอบคำถาม</th>\n",
              "      <th>ความถูกต้องของเนื้อหาในเล่มรายงาน</th>\n",
              "      <th>รวม</th>\n",
              "    </tr>\n",
              "  </thead>\n",
              "  <tbody>\n",
              "    <tr>\n",
              "      <th>0</th>\n",
              "      <td>NaN</td>\n",
              "      <td>NaN</td>\n",
              "      <td>NaN</td>\n",
              "      <td>NaN</td>\n",
              "      <td>ที่ปรึกษา</td>\n",
              "      <td>NaN</td>\n",
              "      <td>10</td>\n",
              "      <td>10</td>\n",
              "      <td>10</td>\n",
              "      <td>10</td>\n",
              "      <td>20</td>\n",
              "      <td>10</td>\n",
              "      <td>70</td>\n",
              "    </tr>\n",
              "    <tr>\n",
              "      <th>1</th>\n",
              "      <td>SC 6501</td>\n",
              "      <td>08:00 – 10.00 น.</td>\n",
              "      <td>1.การศึกษาแนวทางการประกันภัยพืชผลสำหรับมันสำปะ...</td>\n",
              "      <td>leaky-rust-chameleon</td>\n",
              "      <td>ดร.ธิปไตย</td>\n",
              "      <td>ผศ.วุฒิชัย</td>\n",
              "      <td>8</td>\n",
              "      <td>8</td>\n",
              "      <td>7</td>\n",
              "      <td>8</td>\n",
              "      <td>15</td>\n",
              "      <td>6</td>\n",
              "      <td>52</td>\n",
              "    </tr>\n",
              "    <tr>\n",
              "      <th>2</th>\n",
              "      <td>NaN</td>\n",
              "      <td>NaN</td>\n",
              "      <td>NaN</td>\n",
              "      <td>greasy-ruby-bombay</td>\n",
              "      <td>NaN</td>\n",
              "      <td>NaN</td>\n",
              "      <td>8</td>\n",
              "      <td>8</td>\n",
              "      <td>7</td>\n",
              "      <td>8</td>\n",
              "      <td>13</td>\n",
              "      <td>6</td>\n",
              "      <td>50</td>\n",
              "    </tr>\n",
              "    <tr>\n",
              "      <th>3</th>\n",
              "      <td>NaN</td>\n",
              "      <td>NaN</td>\n",
              "      <td>NaN</td>\n",
              "      <td>leaky-rust-chameleon</td>\n",
              "      <td>NaN</td>\n",
              "      <td>อ.ยุภาพร</td>\n",
              "      <td>9</td>\n",
              "      <td>8</td>\n",
              "      <td>8</td>\n",
              "      <td>9</td>\n",
              "      <td>18</td>\n",
              "      <td>8</td>\n",
              "      <td>60</td>\n",
              "    </tr>\n",
              "    <tr>\n",
              "      <th>4</th>\n",
              "      <td>NaN</td>\n",
              "      <td>NaN</td>\n",
              "      <td>NaN</td>\n",
              "      <td>greasy-ruby-bombay</td>\n",
              "      <td>NaN</td>\n",
              "      <td>NaN</td>\n",
              "      <td>9</td>\n",
              "      <td>8</td>\n",
              "      <td>8</td>\n",
              "      <td>9</td>\n",
              "      <td>16</td>\n",
              "      <td>8</td>\n",
              "      <td>58</td>\n",
              "    </tr>\n",
              "  </tbody>\n",
              "</table>\n",
              "</div>"
            ],
            "text/plain": [
              "   ห้องสอบ              เวลา  ... ความถูกต้องของเนื้อหาในเล่มรายงาน รวม\n",
              "0      NaN               NaN  ...                                10  70\n",
              "1  SC 6501  08:00 – 10.00 น.  ...                                 6  52\n",
              "2      NaN               NaN  ...                                 6  50\n",
              "3      NaN               NaN  ...                                 8  60\n",
              "4      NaN               NaN  ...                                 8  58\n",
              "\n",
              "[5 rows x 13 columns]"
            ]
          },
          "metadata": {
            "tags": []
          },
          "execution_count": 36
        }
      ]
    },
    {
      "cell_type": "code",
      "metadata": {
        "id": "ZmWglMN0LMX0"
      },
      "source": [
        "#ทำการตัดแถวแรก \r\n",
        "present_Day1.drop(index= 0, inplace= True)\r\n",
        "present_Day2.drop(index= 0, inplace= True)\r\n",
        "present_Day3.drop(index= 0, inplace= True)"
      ],
      "execution_count": null,
      "outputs": []
    },
    {
      "cell_type": "code",
      "metadata": {
        "colab": {
          "base_uri": "https://localhost:8080/"
        },
        "id": "vWQ9QrTDNetO",
        "outputId": "c5a3ba30-84c3-4a9f-ebae-f32377c8fdf9"
      },
      "source": [
        "#เรียกดูข้อมูล\r\n",
        "present_Day1.head()"
      ],
      "execution_count": null,
      "outputs": [
        {
          "output_type": "execute_result",
          "data": {
            "text/html": [
              "<div>\n",
              "<style scoped>\n",
              "    .dataframe tbody tr th:only-of-type {\n",
              "        vertical-align: middle;\n",
              "    }\n",
              "\n",
              "    .dataframe tbody tr th {\n",
              "        vertical-align: top;\n",
              "    }\n",
              "\n",
              "    .dataframe thead th {\n",
              "        text-align: right;\n",
              "    }\n",
              "</style>\n",
              "<table border=\"1\" class=\"dataframe\">\n",
              "  <thead>\n",
              "    <tr style=\"text-align: right;\">\n",
              "      <th></th>\n",
              "      <th>ห้องสอบ</th>\n",
              "      <th>เวลา</th>\n",
              "      <th>ชื่อเรื่อง</th>\n",
              "      <th>นักศึกษา</th>\n",
              "      <th>อาจารย์</th>\n",
              "      <th>กรรมการสอบ</th>\n",
              "      <th>ความชัดเจนของโจทย์การวิจัย</th>\n",
              "      <th>ความครอบคลุมของทฤษฎีและ วรรณกรรมที่เกี่ยวข้อง</th>\n",
              "      <th>ความถูกต้องของระเบียบวิธีวิจัย</th>\n",
              "      <th>สื่อการนำเสนอ</th>\n",
              "      <th>ความสามารถในการนำเสนอและตอบคำถาม</th>\n",
              "      <th>ความถูกต้องของเนื้อหาในเล่มรายงาน</th>\n",
              "      <th>รวม</th>\n",
              "    </tr>\n",
              "  </thead>\n",
              "  <tbody>\n",
              "    <tr>\n",
              "      <th>1</th>\n",
              "      <td>SC 6501</td>\n",
              "      <td>08:00 – 10.00 น.</td>\n",
              "      <td>1.การศึกษาแนวทางการประกันภัยพืชผลสำหรับมันสำปะ...</td>\n",
              "      <td>leaky-rust-chameleon</td>\n",
              "      <td>ดร.ธิปไตย</td>\n",
              "      <td>ผศ.วุฒิชัย</td>\n",
              "      <td>8</td>\n",
              "      <td>8</td>\n",
              "      <td>7</td>\n",
              "      <td>8</td>\n",
              "      <td>15</td>\n",
              "      <td>6</td>\n",
              "      <td>52</td>\n",
              "    </tr>\n",
              "    <tr>\n",
              "      <th>2</th>\n",
              "      <td>NaN</td>\n",
              "      <td>NaN</td>\n",
              "      <td>NaN</td>\n",
              "      <td>greasy-ruby-bombay</td>\n",
              "      <td>NaN</td>\n",
              "      <td>NaN</td>\n",
              "      <td>8</td>\n",
              "      <td>8</td>\n",
              "      <td>7</td>\n",
              "      <td>8</td>\n",
              "      <td>13</td>\n",
              "      <td>6</td>\n",
              "      <td>50</td>\n",
              "    </tr>\n",
              "    <tr>\n",
              "      <th>3</th>\n",
              "      <td>NaN</td>\n",
              "      <td>NaN</td>\n",
              "      <td>NaN</td>\n",
              "      <td>leaky-rust-chameleon</td>\n",
              "      <td>NaN</td>\n",
              "      <td>อ.ยุภาพร</td>\n",
              "      <td>9</td>\n",
              "      <td>8</td>\n",
              "      <td>8</td>\n",
              "      <td>9</td>\n",
              "      <td>18</td>\n",
              "      <td>8</td>\n",
              "      <td>60</td>\n",
              "    </tr>\n",
              "    <tr>\n",
              "      <th>4</th>\n",
              "      <td>NaN</td>\n",
              "      <td>NaN</td>\n",
              "      <td>NaN</td>\n",
              "      <td>greasy-ruby-bombay</td>\n",
              "      <td>NaN</td>\n",
              "      <td>NaN</td>\n",
              "      <td>9</td>\n",
              "      <td>8</td>\n",
              "      <td>8</td>\n",
              "      <td>9</td>\n",
              "      <td>16</td>\n",
              "      <td>8</td>\n",
              "      <td>58</td>\n",
              "    </tr>\n",
              "    <tr>\n",
              "      <th>5</th>\n",
              "      <td>NaN</td>\n",
              "      <td>10:00 – 12.00 น.</td>\n",
              "      <td>2.การศึกษาการทำประกันภัยพืชผลจากภัยแล้งโดยใช้ค...</td>\n",
              "      <td>wiggy-silver-drever</td>\n",
              "      <td>ดร.ธิปไตย</td>\n",
              "      <td>ผศ.วุฒิชัย</td>\n",
              "      <td>8</td>\n",
              "      <td>8</td>\n",
              "      <td>7</td>\n",
              "      <td>8</td>\n",
              "      <td>14</td>\n",
              "      <td>7</td>\n",
              "      <td>52</td>\n",
              "    </tr>\n",
              "  </tbody>\n",
              "</table>\n",
              "</div>"
            ],
            "text/plain": [
              "   ห้องสอบ              เวลา  ... ความถูกต้องของเนื้อหาในเล่มรายงาน รวม\n",
              "1  SC 6501  08:00 – 10.00 น.  ...                                 6  52\n",
              "2      NaN               NaN  ...                                 6  50\n",
              "3      NaN               NaN  ...                                 8  60\n",
              "4      NaN               NaN  ...                                 8  58\n",
              "5      NaN  10:00 – 12.00 น.  ...                                 7  52\n",
              "\n",
              "[5 rows x 13 columns]"
            ]
          },
          "metadata": {
            "tags": []
          },
          "execution_count": 38
        }
      ]
    },
    {
      "cell_type": "code",
      "metadata": {
        "id": "y90IaKbwM36q"
      },
      "source": [
        "#แก้ missing value ของ กรรมการสอบ\r\n",
        "present_Day_1 = present_Day1.fillna(method='ffill')\r\n",
        "present_Day_2 = present_Day2.fillna(method='ffill')\r\n",
        "present_Day_3 = present_Day3.fillna(method='ffill')"
      ],
      "execution_count": null,
      "outputs": []
    },
    {
      "cell_type": "code",
      "metadata": {
        "colab": {
          "base_uri": "https://localhost:8080/"
        },
        "id": "DvpIIZmALkv0",
        "outputId": "dcca1b70-0d9a-4798-bcfc-e1975fe57286"
      },
      "source": [
        "#เรียกดูข้อมูล\r\n",
        "present_Day_1.head()"
      ],
      "execution_count": null,
      "outputs": [
        {
          "output_type": "execute_result",
          "data": {
            "text/html": [
              "<div>\n",
              "<style scoped>\n",
              "    .dataframe tbody tr th:only-of-type {\n",
              "        vertical-align: middle;\n",
              "    }\n",
              "\n",
              "    .dataframe tbody tr th {\n",
              "        vertical-align: top;\n",
              "    }\n",
              "\n",
              "    .dataframe thead th {\n",
              "        text-align: right;\n",
              "    }\n",
              "</style>\n",
              "<table border=\"1\" class=\"dataframe\">\n",
              "  <thead>\n",
              "    <tr style=\"text-align: right;\">\n",
              "      <th></th>\n",
              "      <th>ห้องสอบ</th>\n",
              "      <th>เวลา</th>\n",
              "      <th>ชื่อเรื่อง</th>\n",
              "      <th>นักศึกษา</th>\n",
              "      <th>อาจารย์</th>\n",
              "      <th>กรรมการสอบ</th>\n",
              "      <th>ความชัดเจนของโจทย์การวิจัย</th>\n",
              "      <th>ความครอบคลุมของทฤษฎีและ วรรณกรรมที่เกี่ยวข้อง</th>\n",
              "      <th>ความถูกต้องของระเบียบวิธีวิจัย</th>\n",
              "      <th>สื่อการนำเสนอ</th>\n",
              "      <th>ความสามารถในการนำเสนอและตอบคำถาม</th>\n",
              "      <th>ความถูกต้องของเนื้อหาในเล่มรายงาน</th>\n",
              "      <th>รวม</th>\n",
              "    </tr>\n",
              "  </thead>\n",
              "  <tbody>\n",
              "    <tr>\n",
              "      <th>1</th>\n",
              "      <td>SC 6501</td>\n",
              "      <td>08:00 – 10.00 น.</td>\n",
              "      <td>1.การศึกษาแนวทางการประกันภัยพืชผลสำหรับมันสำปะ...</td>\n",
              "      <td>leaky-rust-chameleon</td>\n",
              "      <td>ดร.ธิปไตย</td>\n",
              "      <td>ผศ.วุฒิชัย</td>\n",
              "      <td>8</td>\n",
              "      <td>8</td>\n",
              "      <td>7</td>\n",
              "      <td>8</td>\n",
              "      <td>15</td>\n",
              "      <td>6</td>\n",
              "      <td>52</td>\n",
              "    </tr>\n",
              "    <tr>\n",
              "      <th>2</th>\n",
              "      <td>SC 6501</td>\n",
              "      <td>08:00 – 10.00 น.</td>\n",
              "      <td>1.การศึกษาแนวทางการประกันภัยพืชผลสำหรับมันสำปะ...</td>\n",
              "      <td>greasy-ruby-bombay</td>\n",
              "      <td>ดร.ธิปไตย</td>\n",
              "      <td>ผศ.วุฒิชัย</td>\n",
              "      <td>8</td>\n",
              "      <td>8</td>\n",
              "      <td>7</td>\n",
              "      <td>8</td>\n",
              "      <td>13</td>\n",
              "      <td>6</td>\n",
              "      <td>50</td>\n",
              "    </tr>\n",
              "    <tr>\n",
              "      <th>3</th>\n",
              "      <td>SC 6501</td>\n",
              "      <td>08:00 – 10.00 น.</td>\n",
              "      <td>1.การศึกษาแนวทางการประกันภัยพืชผลสำหรับมันสำปะ...</td>\n",
              "      <td>leaky-rust-chameleon</td>\n",
              "      <td>ดร.ธิปไตย</td>\n",
              "      <td>อ.ยุภาพร</td>\n",
              "      <td>9</td>\n",
              "      <td>8</td>\n",
              "      <td>8</td>\n",
              "      <td>9</td>\n",
              "      <td>18</td>\n",
              "      <td>8</td>\n",
              "      <td>60</td>\n",
              "    </tr>\n",
              "    <tr>\n",
              "      <th>4</th>\n",
              "      <td>SC 6501</td>\n",
              "      <td>08:00 – 10.00 น.</td>\n",
              "      <td>1.การศึกษาแนวทางการประกันภัยพืชผลสำหรับมันสำปะ...</td>\n",
              "      <td>greasy-ruby-bombay</td>\n",
              "      <td>ดร.ธิปไตย</td>\n",
              "      <td>อ.ยุภาพร</td>\n",
              "      <td>9</td>\n",
              "      <td>8</td>\n",
              "      <td>8</td>\n",
              "      <td>9</td>\n",
              "      <td>16</td>\n",
              "      <td>8</td>\n",
              "      <td>58</td>\n",
              "    </tr>\n",
              "    <tr>\n",
              "      <th>5</th>\n",
              "      <td>SC 6501</td>\n",
              "      <td>10:00 – 12.00 น.</td>\n",
              "      <td>2.การศึกษาการทำประกันภัยพืชผลจากภัยแล้งโดยใช้ค...</td>\n",
              "      <td>wiggy-silver-drever</td>\n",
              "      <td>ดร.ธิปไตย</td>\n",
              "      <td>ผศ.วุฒิชัย</td>\n",
              "      <td>8</td>\n",
              "      <td>8</td>\n",
              "      <td>7</td>\n",
              "      <td>8</td>\n",
              "      <td>14</td>\n",
              "      <td>7</td>\n",
              "      <td>52</td>\n",
              "    </tr>\n",
              "  </tbody>\n",
              "</table>\n",
              "</div>"
            ],
            "text/plain": [
              "   ห้องสอบ              เวลา  ... ความถูกต้องของเนื้อหาในเล่มรายงาน รวม\n",
              "1  SC 6501  08:00 – 10.00 น.  ...                                 6  52\n",
              "2  SC 6501  08:00 – 10.00 น.  ...                                 6  50\n",
              "3  SC 6501  08:00 – 10.00 น.  ...                                 8  60\n",
              "4  SC 6501  08:00 – 10.00 น.  ...                                 8  58\n",
              "5  SC 6501  10:00 – 12.00 น.  ...                                 7  52\n",
              "\n",
              "[5 rows x 13 columns]"
            ]
          },
          "metadata": {
            "tags": []
          },
          "execution_count": 40
        }
      ]
    },
    {
      "cell_type": "code",
      "metadata": {
        "id": "7zXHhHyNL8hQ"
      },
      "source": [
        "#เลือกเฉพาะ Column ที่สนใจ\r\n",
        "presentDay1 = present_Day_1[['นักศึกษา','กรรมการสอบ','รวม']]\r\n",
        "presentDay2 = present_Day_2[['นักศึกษา','กรรมการสอบ','รวม']]\r\n",
        "presentDay3 = present_Day_3[['นักศึกษา','กรรมการสอบ','รวม']]"
      ],
      "execution_count": null,
      "outputs": []
    },
    {
      "cell_type": "code",
      "metadata": {
        "colab": {
          "base_uri": "https://localhost:8080/"
        },
        "id": "feiv-khUMWR6",
        "outputId": "5de8cca9-11fc-491a-a669-2f85c1efe58d"
      },
      "source": [
        "#เรียกดูข้อมูล\r\n",
        "present_Day_1.head()"
      ],
      "execution_count": null,
      "outputs": [
        {
          "output_type": "execute_result",
          "data": {
            "text/html": [
              "<div>\n",
              "<style scoped>\n",
              "    .dataframe tbody tr th:only-of-type {\n",
              "        vertical-align: middle;\n",
              "    }\n",
              "\n",
              "    .dataframe tbody tr th {\n",
              "        vertical-align: top;\n",
              "    }\n",
              "\n",
              "    .dataframe thead th {\n",
              "        text-align: right;\n",
              "    }\n",
              "</style>\n",
              "<table border=\"1\" class=\"dataframe\">\n",
              "  <thead>\n",
              "    <tr style=\"text-align: right;\">\n",
              "      <th></th>\n",
              "      <th>ห้องสอบ</th>\n",
              "      <th>เวลา</th>\n",
              "      <th>ชื่อเรื่อง</th>\n",
              "      <th>นักศึกษา</th>\n",
              "      <th>อาจารย์</th>\n",
              "      <th>กรรมการสอบ</th>\n",
              "      <th>ความชัดเจนของโจทย์การวิจัย</th>\n",
              "      <th>ความครอบคลุมของทฤษฎีและ วรรณกรรมที่เกี่ยวข้อง</th>\n",
              "      <th>ความถูกต้องของระเบียบวิธีวิจัย</th>\n",
              "      <th>สื่อการนำเสนอ</th>\n",
              "      <th>ความสามารถในการนำเสนอและตอบคำถาม</th>\n",
              "      <th>ความถูกต้องของเนื้อหาในเล่มรายงาน</th>\n",
              "      <th>รวม</th>\n",
              "    </tr>\n",
              "  </thead>\n",
              "  <tbody>\n",
              "    <tr>\n",
              "      <th>1</th>\n",
              "      <td>SC 6501</td>\n",
              "      <td>08:00 – 10.00 น.</td>\n",
              "      <td>1.การศึกษาแนวทางการประกันภัยพืชผลสำหรับมันสำปะ...</td>\n",
              "      <td>leaky-rust-chameleon</td>\n",
              "      <td>ดร.ธิปไตย</td>\n",
              "      <td>ผศ.วุฒิชัย</td>\n",
              "      <td>8</td>\n",
              "      <td>8</td>\n",
              "      <td>7</td>\n",
              "      <td>8</td>\n",
              "      <td>15</td>\n",
              "      <td>6</td>\n",
              "      <td>52</td>\n",
              "    </tr>\n",
              "    <tr>\n",
              "      <th>2</th>\n",
              "      <td>SC 6501</td>\n",
              "      <td>08:00 – 10.00 น.</td>\n",
              "      <td>1.การศึกษาแนวทางการประกันภัยพืชผลสำหรับมันสำปะ...</td>\n",
              "      <td>greasy-ruby-bombay</td>\n",
              "      <td>ดร.ธิปไตย</td>\n",
              "      <td>ผศ.วุฒิชัย</td>\n",
              "      <td>8</td>\n",
              "      <td>8</td>\n",
              "      <td>7</td>\n",
              "      <td>8</td>\n",
              "      <td>13</td>\n",
              "      <td>6</td>\n",
              "      <td>50</td>\n",
              "    </tr>\n",
              "    <tr>\n",
              "      <th>3</th>\n",
              "      <td>SC 6501</td>\n",
              "      <td>08:00 – 10.00 น.</td>\n",
              "      <td>1.การศึกษาแนวทางการประกันภัยพืชผลสำหรับมันสำปะ...</td>\n",
              "      <td>leaky-rust-chameleon</td>\n",
              "      <td>ดร.ธิปไตย</td>\n",
              "      <td>อ.ยุภาพร</td>\n",
              "      <td>9</td>\n",
              "      <td>8</td>\n",
              "      <td>8</td>\n",
              "      <td>9</td>\n",
              "      <td>18</td>\n",
              "      <td>8</td>\n",
              "      <td>60</td>\n",
              "    </tr>\n",
              "    <tr>\n",
              "      <th>4</th>\n",
              "      <td>SC 6501</td>\n",
              "      <td>08:00 – 10.00 น.</td>\n",
              "      <td>1.การศึกษาแนวทางการประกันภัยพืชผลสำหรับมันสำปะ...</td>\n",
              "      <td>greasy-ruby-bombay</td>\n",
              "      <td>ดร.ธิปไตย</td>\n",
              "      <td>อ.ยุภาพร</td>\n",
              "      <td>9</td>\n",
              "      <td>8</td>\n",
              "      <td>8</td>\n",
              "      <td>9</td>\n",
              "      <td>16</td>\n",
              "      <td>8</td>\n",
              "      <td>58</td>\n",
              "    </tr>\n",
              "    <tr>\n",
              "      <th>5</th>\n",
              "      <td>SC 6501</td>\n",
              "      <td>10:00 – 12.00 น.</td>\n",
              "      <td>2.การศึกษาการทำประกันภัยพืชผลจากภัยแล้งโดยใช้ค...</td>\n",
              "      <td>wiggy-silver-drever</td>\n",
              "      <td>ดร.ธิปไตย</td>\n",
              "      <td>ผศ.วุฒิชัย</td>\n",
              "      <td>8</td>\n",
              "      <td>8</td>\n",
              "      <td>7</td>\n",
              "      <td>8</td>\n",
              "      <td>14</td>\n",
              "      <td>7</td>\n",
              "      <td>52</td>\n",
              "    </tr>\n",
              "  </tbody>\n",
              "</table>\n",
              "</div>"
            ],
            "text/plain": [
              "   ห้องสอบ              เวลา  ... ความถูกต้องของเนื้อหาในเล่มรายงาน รวม\n",
              "1  SC 6501  08:00 – 10.00 น.  ...                                 6  52\n",
              "2  SC 6501  08:00 – 10.00 น.  ...                                 6  50\n",
              "3  SC 6501  08:00 – 10.00 น.  ...                                 8  60\n",
              "4  SC 6501  08:00 – 10.00 น.  ...                                 8  58\n",
              "5  SC 6501  10:00 – 12.00 น.  ...                                 7  52\n",
              "\n",
              "[5 rows x 13 columns]"
            ]
          },
          "metadata": {
            "tags": []
          },
          "execution_count": 42
        }
      ]
    },
    {
      "cell_type": "code",
      "metadata": {
        "colab": {
          "base_uri": "https://localhost:8080/"
        },
        "id": "QTrA3nOfOAcy",
        "outputId": "7b48e914-79a4-4838-d0dd-7e81bedc092e"
      },
      "source": [
        "#ทำการรวมไฟล์\r\n",
        "Scores_present = pd.concat([presentDay1,presentDay2,presentDay3])\r\n",
        "Scores_present "
      ],
      "execution_count": null,
      "outputs": [
        {
          "output_type": "execute_result",
          "data": {
            "text/html": [
              "<div>\n",
              "<style scoped>\n",
              "    .dataframe tbody tr th:only-of-type {\n",
              "        vertical-align: middle;\n",
              "    }\n",
              "\n",
              "    .dataframe tbody tr th {\n",
              "        vertical-align: top;\n",
              "    }\n",
              "\n",
              "    .dataframe thead th {\n",
              "        text-align: right;\n",
              "    }\n",
              "</style>\n",
              "<table border=\"1\" class=\"dataframe\">\n",
              "  <thead>\n",
              "    <tr style=\"text-align: right;\">\n",
              "      <th></th>\n",
              "      <th>นักศึกษา</th>\n",
              "      <th>กรรมการสอบ</th>\n",
              "      <th>รวม</th>\n",
              "    </tr>\n",
              "  </thead>\n",
              "  <tbody>\n",
              "    <tr>\n",
              "      <th>1</th>\n",
              "      <td>leaky-rust-chameleon</td>\n",
              "      <td>ผศ.วุฒิชัย</td>\n",
              "      <td>52</td>\n",
              "    </tr>\n",
              "    <tr>\n",
              "      <th>2</th>\n",
              "      <td>greasy-ruby-bombay</td>\n",
              "      <td>ผศ.วุฒิชัย</td>\n",
              "      <td>50</td>\n",
              "    </tr>\n",
              "    <tr>\n",
              "      <th>3</th>\n",
              "      <td>leaky-rust-chameleon</td>\n",
              "      <td>อ.ยุภาพร</td>\n",
              "      <td>60</td>\n",
              "    </tr>\n",
              "    <tr>\n",
              "      <th>4</th>\n",
              "      <td>greasy-ruby-bombay</td>\n",
              "      <td>อ.ยุภาพร</td>\n",
              "      <td>58</td>\n",
              "    </tr>\n",
              "    <tr>\n",
              "      <th>5</th>\n",
              "      <td>wiggy-silver-drever</td>\n",
              "      <td>ผศ.วุฒิชัย</td>\n",
              "      <td>52</td>\n",
              "    </tr>\n",
              "    <tr>\n",
              "      <th>...</th>\n",
              "      <td>...</td>\n",
              "      <td>...</td>\n",
              "      <td>...</td>\n",
              "    </tr>\n",
              "    <tr>\n",
              "      <th>50</th>\n",
              "      <td>muggy-charcoal-akita</td>\n",
              "      <td>ผศ.วุฒิชัย</td>\n",
              "      <td>52</td>\n",
              "    </tr>\n",
              "    <tr>\n",
              "      <th>51</th>\n",
              "      <td>stinky-wisteria-nightingale</td>\n",
              "      <td>รศ.วิชุดา</td>\n",
              "      <td>57</td>\n",
              "    </tr>\n",
              "    <tr>\n",
              "      <th>52</th>\n",
              "      <td>hazy-aqua-peccary</td>\n",
              "      <td>รศ.วิชุดา</td>\n",
              "      <td>57</td>\n",
              "    </tr>\n",
              "    <tr>\n",
              "      <th>53</th>\n",
              "      <td>stinky-wisteria-nightingale</td>\n",
              "      <td>ดร.ธนพงศ์</td>\n",
              "      <td>59</td>\n",
              "    </tr>\n",
              "    <tr>\n",
              "      <th>54</th>\n",
              "      <td>hazy-aqua-peccary</td>\n",
              "      <td>ดร.ธนพงศ์</td>\n",
              "      <td>59</td>\n",
              "    </tr>\n",
              "  </tbody>\n",
              "</table>\n",
              "<p>160 rows × 3 columns</p>\n",
              "</div>"
            ],
            "text/plain": [
              "                       นักศึกษา  กรรมการสอบ  รวม\n",
              "1          leaky-rust-chameleon  ผศ.วุฒิชัย   52\n",
              "2            greasy-ruby-bombay  ผศ.วุฒิชัย   50\n",
              "3          leaky-rust-chameleon    อ.ยุภาพร   60\n",
              "4            greasy-ruby-bombay    อ.ยุภาพร   58\n",
              "5           wiggy-silver-drever  ผศ.วุฒิชัย   52\n",
              "..                          ...         ...  ...\n",
              "50         muggy-charcoal-akita  ผศ.วุฒิชัย   52\n",
              "51  stinky-wisteria-nightingale   รศ.วิชุดา   57\n",
              "52            hazy-aqua-peccary   รศ.วิชุดา   57\n",
              "53  stinky-wisteria-nightingale   ดร.ธนพงศ์   59\n",
              "54            hazy-aqua-peccary   ดร.ธนพงศ์   59\n",
              "\n",
              "[160 rows x 3 columns]"
            ]
          },
          "metadata": {
            "tags": []
          },
          "execution_count": 43
        }
      ]
    },
    {
      "cell_type": "markdown",
      "metadata": {
        "id": "Hp_tDcfgSqRQ"
      },
      "source": [
        "#Calculation"
      ]
    },
    {
      "cell_type": "code",
      "metadata": {
        "id": "mSx4ckfeS9A2"
      },
      "source": [
        "#ปรับ Z-score\r\n",
        "def cal_adjusted_score(z_score):\r\n",
        "    return round(30 + ((-15*(z_score-2.3103448275862064))/(-4.788052880847054)),2)"
      ],
      "execution_count": null,
      "outputs": []
    },
    {
      "cell_type": "code",
      "metadata": {
        "colab": {
          "base_uri": "https://localhost:8080/",
          "height": 437
        },
        "id": "3agFHdVUTK4h",
        "outputId": "7cb4ab7e-25ac-4fbb-9ccd-0ea609abbda8"
      },
      "source": [
        "#คำนวน Mean ของกรรมการคุมสอบ\r\n",
        "mean = Scores_present.groupby('กรรมการสอบ').mean()\r\n",
        "mean"
      ],
      "execution_count": null,
      "outputs": [
        {
          "output_type": "execute_result",
          "data": {
            "text/html": [
              "<div>\n",
              "<style scoped>\n",
              "    .dataframe tbody tr th:only-of-type {\n",
              "        vertical-align: middle;\n",
              "    }\n",
              "\n",
              "    .dataframe tbody tr th {\n",
              "        vertical-align: top;\n",
              "    }\n",
              "\n",
              "    .dataframe thead th {\n",
              "        text-align: right;\n",
              "    }\n",
              "</style>\n",
              "<table border=\"1\" class=\"dataframe\">\n",
              "  <thead>\n",
              "    <tr style=\"text-align: right;\">\n",
              "      <th></th>\n",
              "      <th>รวม</th>\n",
              "    </tr>\n",
              "    <tr>\n",
              "      <th>กรรมการสอบ</th>\n",
              "      <th></th>\n",
              "    </tr>\n",
              "  </thead>\n",
              "  <tbody>\n",
              "    <tr>\n",
              "      <th>ดร.ธนพงศ์</th>\n",
              "      <td>55.769231</td>\n",
              "    </tr>\n",
              "    <tr>\n",
              "      <th>ดร.ธิปไตย</th>\n",
              "      <td>58.100000</td>\n",
              "    </tr>\n",
              "    <tr>\n",
              "      <th>ดร.พลากร</th>\n",
              "      <td>56.538462</td>\n",
              "    </tr>\n",
              "    <tr>\n",
              "      <th>ดร.วรรณพร</th>\n",
              "      <td>54.875000</td>\n",
              "    </tr>\n",
              "    <tr>\n",
              "      <th>ดร.อุทุมพร</th>\n",
              "      <td>53.266667</td>\n",
              "    </tr>\n",
              "    <tr>\n",
              "      <th>ผศ.วุฒิชัย</th>\n",
              "      <td>53.692308</td>\n",
              "    </tr>\n",
              "    <tr>\n",
              "      <th>ผศ.สุกัญญา</th>\n",
              "      <td>46.625000</td>\n",
              "    </tr>\n",
              "    <tr>\n",
              "      <th>รศ.ธิดาเดียว</th>\n",
              "      <td>54.230769</td>\n",
              "    </tr>\n",
              "    <tr>\n",
              "      <th>รศ.วิชุดา</th>\n",
              "      <td>54.400000</td>\n",
              "    </tr>\n",
              "    <tr>\n",
              "      <th>รศ.สุพรรณี</th>\n",
              "      <td>50.727273</td>\n",
              "    </tr>\n",
              "    <tr>\n",
              "      <th>อ.ธรรณญพร</th>\n",
              "      <td>52.785714</td>\n",
              "    </tr>\n",
              "    <tr>\n",
              "      <th>อ.ยุภาพร</th>\n",
              "      <td>55.375000</td>\n",
              "    </tr>\n",
              "  </tbody>\n",
              "</table>\n",
              "</div>"
            ],
            "text/plain": [
              "                    รวม\n",
              "กรรมการสอบ             \n",
              "ดร.ธนพงศ์     55.769231\n",
              "ดร.ธิปไตย     58.100000\n",
              "ดร.พลากร      56.538462\n",
              "ดร.วรรณพร     54.875000\n",
              "ดร.อุทุมพร    53.266667\n",
              "ผศ.วุฒิชัย    53.692308\n",
              "ผศ.สุกัญญา    46.625000\n",
              "รศ.ธิดาเดียว  54.230769\n",
              "รศ.วิชุดา     54.400000\n",
              "รศ.สุพรรณี    50.727273\n",
              "อ.ธรรณญพร     52.785714\n",
              "อ.ยุภาพร      55.375000"
            ]
          },
          "metadata": {
            "tags": []
          },
          "execution_count": 45
        }
      ]
    },
    {
      "cell_type": "code",
      "metadata": {
        "colab": {
          "base_uri": "https://localhost:8080/",
          "height": 437
        },
        "id": "ZDhDoKX9TyN6",
        "outputId": "015ffacb-765c-4da2-953b-6c29fc7f29f0"
      },
      "source": [
        "#คำนวนส่วนเบี่ยงเบนมาตรฐานของกรรมการคุมสอบ\r\n",
        "std = Scores_present.groupby('กรรมการสอบ').std()\r\n",
        "std"
      ],
      "execution_count": null,
      "outputs": [
        {
          "output_type": "execute_result",
          "data": {
            "text/html": [
              "<div>\n",
              "<style scoped>\n",
              "    .dataframe tbody tr th:only-of-type {\n",
              "        vertical-align: middle;\n",
              "    }\n",
              "\n",
              "    .dataframe tbody tr th {\n",
              "        vertical-align: top;\n",
              "    }\n",
              "\n",
              "    .dataframe thead th {\n",
              "        text-align: right;\n",
              "    }\n",
              "</style>\n",
              "<table border=\"1\" class=\"dataframe\">\n",
              "  <thead>\n",
              "    <tr style=\"text-align: right;\">\n",
              "      <th></th>\n",
              "      <th>รวม</th>\n",
              "    </tr>\n",
              "    <tr>\n",
              "      <th>กรรมการสอบ</th>\n",
              "      <th></th>\n",
              "    </tr>\n",
              "  </thead>\n",
              "  <tbody>\n",
              "    <tr>\n",
              "      <th>ดร.ธนพงศ์</th>\n",
              "      <td>4.867474</td>\n",
              "    </tr>\n",
              "    <tr>\n",
              "      <th>ดร.ธิปไตย</th>\n",
              "      <td>3.034981</td>\n",
              "    </tr>\n",
              "    <tr>\n",
              "      <th>ดร.พลากร</th>\n",
              "      <td>3.256158</td>\n",
              "    </tr>\n",
              "    <tr>\n",
              "      <th>ดร.วรรณพร</th>\n",
              "      <td>1.892969</td>\n",
              "    </tr>\n",
              "    <tr>\n",
              "      <th>ดร.อุทุมพร</th>\n",
              "      <td>5.812138</td>\n",
              "    </tr>\n",
              "    <tr>\n",
              "      <th>ผศ.วุฒิชัย</th>\n",
              "      <td>4.643716</td>\n",
              "    </tr>\n",
              "    <tr>\n",
              "      <th>ผศ.สุกัญญา</th>\n",
              "      <td>19.434934</td>\n",
              "    </tr>\n",
              "    <tr>\n",
              "      <th>รศ.ธิดาเดียว</th>\n",
              "      <td>5.629592</td>\n",
              "    </tr>\n",
              "    <tr>\n",
              "      <th>รศ.วิชุดา</th>\n",
              "      <td>2.458545</td>\n",
              "    </tr>\n",
              "    <tr>\n",
              "      <th>รศ.สุพรรณี</th>\n",
              "      <td>8.661304</td>\n",
              "    </tr>\n",
              "    <tr>\n",
              "      <th>อ.ธรรณญพร</th>\n",
              "      <td>7.953505</td>\n",
              "    </tr>\n",
              "    <tr>\n",
              "      <th>อ.ยุภาพร</th>\n",
              "      <td>6.417424</td>\n",
              "    </tr>\n",
              "  </tbody>\n",
              "</table>\n",
              "</div>"
            ],
            "text/plain": [
              "                    รวม\n",
              "กรรมการสอบ             \n",
              "ดร.ธนพงศ์      4.867474\n",
              "ดร.ธิปไตย      3.034981\n",
              "ดร.พลากร       3.256158\n",
              "ดร.วรรณพร      1.892969\n",
              "ดร.อุทุมพร     5.812138\n",
              "ผศ.วุฒิชัย     4.643716\n",
              "ผศ.สุกัญญา    19.434934\n",
              "รศ.ธิดาเดียว   5.629592\n",
              "รศ.วิชุดา      2.458545\n",
              "รศ.สุพรรณี     8.661304\n",
              "อ.ธรรณญพร      7.953505\n",
              "อ.ยุภาพร       6.417424"
            ]
          },
          "metadata": {
            "tags": []
          },
          "execution_count": 46
        }
      ]
    },
    {
      "cell_type": "code",
      "metadata": {
        "colab": {
          "base_uri": "https://localhost:8080/",
          "height": 406
        },
        "id": "g6Hr4leqT9kz",
        "outputId": "6e76a37b-d91c-461e-964f-e3815e4f22b1"
      },
      "source": [
        "#คำนวนค่า Z-score\r\n",
        "list_ZScore = list()\r\n",
        "for i in Scores_present.iterrows():\r\n",
        " if i[1]['กรรมการสอบ'] == 'ดร.ธนพงศ์':\r\n",
        "   list_ZScore.append((i[1]['รวม']-55.769231)/4.867474)\r\n",
        " if i[1]['กรรมการสอบ'] == 'ดร.ธิปไตย':\r\n",
        "   list_ZScore.append((i[1]['รวม']-58.100000)/3.034981)\r\n",
        " if i[1]['กรรมการสอบ'] == 'ดร.พลากร':\r\n",
        "   list_ZScore.append((i[1]['รวม']-56.538462)/3.256158)\r\n",
        " if i[1]['กรรมการสอบ'] == 'ดร.วรรณพร':\r\n",
        "   list_ZScore.append((i[1]['รวม']-54.875000)/1.892969)\r\n",
        " if i[1]['กรรมการสอบ'] == 'ดร.อุทุมพร':\r\n",
        "   list_ZScore.append((i[1]['รวม']-53.266667)/5.812138)\r\n",
        " if i[1]['กรรมการสอบ'] == 'ผศ.วุฒิชัย':\r\n",
        "   list_ZScore.append((i[1]['รวม']-53.692308)/4.643716)\r\n",
        " if i[1]['กรรมการสอบ'] == 'ผศ.สุกัญญา':\r\n",
        "   list_ZScore.append((i[1]['รวม']-46.625000)/19.434934)\r\n",
        " if i[1]['กรรมการสอบ'] == 'รศ.ธิดาเดียว':\r\n",
        "   list_ZScore.append((i[1]['รวม']-54.230769)/5.629592)\r\n",
        " if i[1]['กรรมการสอบ'] == 'รศ.วิชุดา':\r\n",
        "   list_ZScore.append((i[1]['รวม']-54.400000)/2.458545)\r\n",
        " if i[1]['กรรมการสอบ'] == 'รศ.สุพรรณี':\r\n",
        "   list_ZScore.append((i[1]['รวม']-50.727273)/8.661304)\r\n",
        " if i[1]['กรรมการสอบ'] == 'อ.ธรรณญพร':\r\n",
        "   list_ZScore.append((i[1]['รวม']-52.785714)/7.953505)\r\n",
        " if i[1]['กรรมการสอบ'] == 'อ.ยุภาพร':\r\n",
        "   list_ZScore.append((i[1]['รวม']-55.375000)/6.417424)\r\n",
        "#เก็บค่า Z-Score ใน DataFrame\r\n",
        "Scores_present['Z-Score'] = list_ZScore\r\n",
        "Scores_present"
      ],
      "execution_count": null,
      "outputs": [
        {
          "output_type": "execute_result",
          "data": {
            "text/html": [
              "<div>\n",
              "<style scoped>\n",
              "    .dataframe tbody tr th:only-of-type {\n",
              "        vertical-align: middle;\n",
              "    }\n",
              "\n",
              "    .dataframe tbody tr th {\n",
              "        vertical-align: top;\n",
              "    }\n",
              "\n",
              "    .dataframe thead th {\n",
              "        text-align: right;\n",
              "    }\n",
              "</style>\n",
              "<table border=\"1\" class=\"dataframe\">\n",
              "  <thead>\n",
              "    <tr style=\"text-align: right;\">\n",
              "      <th></th>\n",
              "      <th>นักศึกษา</th>\n",
              "      <th>กรรมการสอบ</th>\n",
              "      <th>รวม</th>\n",
              "      <th>Z-Score</th>\n",
              "    </tr>\n",
              "  </thead>\n",
              "  <tbody>\n",
              "    <tr>\n",
              "      <th>1</th>\n",
              "      <td>leaky-rust-chameleon</td>\n",
              "      <td>ผศ.วุฒิชัย</td>\n",
              "      <td>52</td>\n",
              "      <td>-0.364430</td>\n",
              "    </tr>\n",
              "    <tr>\n",
              "      <th>2</th>\n",
              "      <td>greasy-ruby-bombay</td>\n",
              "      <td>ผศ.วุฒิชัย</td>\n",
              "      <td>50</td>\n",
              "      <td>-0.795119</td>\n",
              "    </tr>\n",
              "    <tr>\n",
              "      <th>3</th>\n",
              "      <td>leaky-rust-chameleon</td>\n",
              "      <td>อ.ยุภาพร</td>\n",
              "      <td>60</td>\n",
              "      <td>0.720694</td>\n",
              "    </tr>\n",
              "    <tr>\n",
              "      <th>4</th>\n",
              "      <td>greasy-ruby-bombay</td>\n",
              "      <td>อ.ยุภาพร</td>\n",
              "      <td>58</td>\n",
              "      <td>0.409043</td>\n",
              "    </tr>\n",
              "    <tr>\n",
              "      <th>5</th>\n",
              "      <td>wiggy-silver-drever</td>\n",
              "      <td>ผศ.วุฒิชัย</td>\n",
              "      <td>52</td>\n",
              "      <td>-0.364430</td>\n",
              "    </tr>\n",
              "    <tr>\n",
              "      <th>...</th>\n",
              "      <td>...</td>\n",
              "      <td>...</td>\n",
              "      <td>...</td>\n",
              "      <td>...</td>\n",
              "    </tr>\n",
              "    <tr>\n",
              "      <th>50</th>\n",
              "      <td>muggy-charcoal-akita</td>\n",
              "      <td>ผศ.วุฒิชัย</td>\n",
              "      <td>52</td>\n",
              "      <td>-0.364430</td>\n",
              "    </tr>\n",
              "    <tr>\n",
              "      <th>51</th>\n",
              "      <td>stinky-wisteria-nightingale</td>\n",
              "      <td>รศ.วิชุดา</td>\n",
              "      <td>57</td>\n",
              "      <td>1.057536</td>\n",
              "    </tr>\n",
              "    <tr>\n",
              "      <th>52</th>\n",
              "      <td>hazy-aqua-peccary</td>\n",
              "      <td>รศ.วิชุดา</td>\n",
              "      <td>57</td>\n",
              "      <td>1.057536</td>\n",
              "    </tr>\n",
              "    <tr>\n",
              "      <th>53</th>\n",
              "      <td>stinky-wisteria-nightingale</td>\n",
              "      <td>ดร.ธนพงศ์</td>\n",
              "      <td>59</td>\n",
              "      <td>0.663747</td>\n",
              "    </tr>\n",
              "    <tr>\n",
              "      <th>54</th>\n",
              "      <td>hazy-aqua-peccary</td>\n",
              "      <td>ดร.ธนพงศ์</td>\n",
              "      <td>59</td>\n",
              "      <td>0.663747</td>\n",
              "    </tr>\n",
              "  </tbody>\n",
              "</table>\n",
              "<p>160 rows × 4 columns</p>\n",
              "</div>"
            ],
            "text/plain": [
              "                       นักศึกษา  กรรมการสอบ  รวม   Z-Score\n",
              "1          leaky-rust-chameleon  ผศ.วุฒิชัย   52 -0.364430\n",
              "2            greasy-ruby-bombay  ผศ.วุฒิชัย   50 -0.795119\n",
              "3          leaky-rust-chameleon    อ.ยุภาพร   60  0.720694\n",
              "4            greasy-ruby-bombay    อ.ยุภาพร   58  0.409043\n",
              "5           wiggy-silver-drever  ผศ.วุฒิชัย   52 -0.364430\n",
              "..                          ...         ...  ...       ...\n",
              "50         muggy-charcoal-akita  ผศ.วุฒิชัย   52 -0.364430\n",
              "51  stinky-wisteria-nightingale   รศ.วิชุดา   57  1.057536\n",
              "52            hazy-aqua-peccary   รศ.วิชุดา   57  1.057536\n",
              "53  stinky-wisteria-nightingale   ดร.ธนพงศ์   59  0.663747\n",
              "54            hazy-aqua-peccary   ดร.ธนพงศ์   59  0.663747\n",
              "\n",
              "[160 rows x 4 columns]"
            ]
          },
          "metadata": {
            "tags": []
          },
          "execution_count": 47
        }
      ]
    },
    {
      "cell_type": "code",
      "metadata": {
        "colab": {
          "base_uri": "https://localhost:8080/",
          "height": 406
        },
        "id": "8KAs5NtTXFEP",
        "outputId": "af63013c-8f5c-4faf-8c1c-baeadcea2bd9"
      },
      "source": [
        "#คำนวนคะแนนจาก Z-Score\r\n",
        "Scores_present_New = list()\r\n",
        "for j in Scores_present.iterrows():\r\n",
        "  Scores_present_New.append(cal_adjusted_score(j[1]['Z-Score']))\r\n",
        "#เก็บค่า Score ใน DataFrame\r\n",
        "Scores_present['Present'] = Scores_present_New\r\n",
        "Scores_present"
      ],
      "execution_count": null,
      "outputs": [
        {
          "output_type": "execute_result",
          "data": {
            "text/html": [
              "<div>\n",
              "<style scoped>\n",
              "    .dataframe tbody tr th:only-of-type {\n",
              "        vertical-align: middle;\n",
              "    }\n",
              "\n",
              "    .dataframe tbody tr th {\n",
              "        vertical-align: top;\n",
              "    }\n",
              "\n",
              "    .dataframe thead th {\n",
              "        text-align: right;\n",
              "    }\n",
              "</style>\n",
              "<table border=\"1\" class=\"dataframe\">\n",
              "  <thead>\n",
              "    <tr style=\"text-align: right;\">\n",
              "      <th></th>\n",
              "      <th>นักศึกษา</th>\n",
              "      <th>กรรมการสอบ</th>\n",
              "      <th>รวม</th>\n",
              "      <th>Z-Score</th>\n",
              "      <th>Present</th>\n",
              "    </tr>\n",
              "  </thead>\n",
              "  <tbody>\n",
              "    <tr>\n",
              "      <th>1</th>\n",
              "      <td>leaky-rust-chameleon</td>\n",
              "      <td>ผศ.วุฒิชัย</td>\n",
              "      <td>52</td>\n",
              "      <td>-0.364430</td>\n",
              "      <td>21.62</td>\n",
              "    </tr>\n",
              "    <tr>\n",
              "      <th>2</th>\n",
              "      <td>greasy-ruby-bombay</td>\n",
              "      <td>ผศ.วุฒิชัย</td>\n",
              "      <td>50</td>\n",
              "      <td>-0.795119</td>\n",
              "      <td>20.27</td>\n",
              "    </tr>\n",
              "    <tr>\n",
              "      <th>3</th>\n",
              "      <td>leaky-rust-chameleon</td>\n",
              "      <td>อ.ยุภาพร</td>\n",
              "      <td>60</td>\n",
              "      <td>0.720694</td>\n",
              "      <td>25.02</td>\n",
              "    </tr>\n",
              "    <tr>\n",
              "      <th>4</th>\n",
              "      <td>greasy-ruby-bombay</td>\n",
              "      <td>อ.ยุภาพร</td>\n",
              "      <td>58</td>\n",
              "      <td>0.409043</td>\n",
              "      <td>24.04</td>\n",
              "    </tr>\n",
              "    <tr>\n",
              "      <th>5</th>\n",
              "      <td>wiggy-silver-drever</td>\n",
              "      <td>ผศ.วุฒิชัย</td>\n",
              "      <td>52</td>\n",
              "      <td>-0.364430</td>\n",
              "      <td>21.62</td>\n",
              "    </tr>\n",
              "    <tr>\n",
              "      <th>...</th>\n",
              "      <td>...</td>\n",
              "      <td>...</td>\n",
              "      <td>...</td>\n",
              "      <td>...</td>\n",
              "      <td>...</td>\n",
              "    </tr>\n",
              "    <tr>\n",
              "      <th>50</th>\n",
              "      <td>muggy-charcoal-akita</td>\n",
              "      <td>ผศ.วุฒิชัย</td>\n",
              "      <td>52</td>\n",
              "      <td>-0.364430</td>\n",
              "      <td>21.62</td>\n",
              "    </tr>\n",
              "    <tr>\n",
              "      <th>51</th>\n",
              "      <td>stinky-wisteria-nightingale</td>\n",
              "      <td>รศ.วิชุดา</td>\n",
              "      <td>57</td>\n",
              "      <td>1.057536</td>\n",
              "      <td>26.08</td>\n",
              "    </tr>\n",
              "    <tr>\n",
              "      <th>52</th>\n",
              "      <td>hazy-aqua-peccary</td>\n",
              "      <td>รศ.วิชุดา</td>\n",
              "      <td>57</td>\n",
              "      <td>1.057536</td>\n",
              "      <td>26.08</td>\n",
              "    </tr>\n",
              "    <tr>\n",
              "      <th>53</th>\n",
              "      <td>stinky-wisteria-nightingale</td>\n",
              "      <td>ดร.ธนพงศ์</td>\n",
              "      <td>59</td>\n",
              "      <td>0.663747</td>\n",
              "      <td>24.84</td>\n",
              "    </tr>\n",
              "    <tr>\n",
              "      <th>54</th>\n",
              "      <td>hazy-aqua-peccary</td>\n",
              "      <td>ดร.ธนพงศ์</td>\n",
              "      <td>59</td>\n",
              "      <td>0.663747</td>\n",
              "      <td>24.84</td>\n",
              "    </tr>\n",
              "  </tbody>\n",
              "</table>\n",
              "<p>160 rows × 5 columns</p>\n",
              "</div>"
            ],
            "text/plain": [
              "                       นักศึกษา  กรรมการสอบ  รวม   Z-Score  Present\n",
              "1          leaky-rust-chameleon  ผศ.วุฒิชัย   52 -0.364430    21.62\n",
              "2            greasy-ruby-bombay  ผศ.วุฒิชัย   50 -0.795119    20.27\n",
              "3          leaky-rust-chameleon    อ.ยุภาพร   60  0.720694    25.02\n",
              "4            greasy-ruby-bombay    อ.ยุภาพร   58  0.409043    24.04\n",
              "5           wiggy-silver-drever  ผศ.วุฒิชัย   52 -0.364430    21.62\n",
              "..                          ...         ...  ...       ...      ...\n",
              "50         muggy-charcoal-akita  ผศ.วุฒิชัย   52 -0.364430    21.62\n",
              "51  stinky-wisteria-nightingale   รศ.วิชุดา   57  1.057536    26.08\n",
              "52            hazy-aqua-peccary   รศ.วิชุดา   57  1.057536    26.08\n",
              "53  stinky-wisteria-nightingale   ดร.ธนพงศ์   59  0.663747    24.84\n",
              "54            hazy-aqua-peccary   ดร.ธนพงศ์   59  0.663747    24.84\n",
              "\n",
              "[160 rows x 5 columns]"
            ]
          },
          "metadata": {
            "tags": []
          },
          "execution_count": 48
        }
      ]
    },
    {
      "cell_type": "code",
      "metadata": {
        "colab": {
          "base_uri": "https://localhost:8080/"
        },
        "id": "Esf_LMaij1en",
        "outputId": "7f758fd8-af8c-480c-809a-b279531235cf"
      },
      "source": [
        "#ทำการรวมคะแนนนำเสนอ\r\n",
        "Scores_present1 = Scores_present.groupby('นักศึกษา')\r\n",
        "Scores_Present = Scores_present1['Present'].sum()\r\n",
        "type(Scores_Present)"
      ],
      "execution_count": null,
      "outputs": [
        {
          "output_type": "execute_result",
          "data": {
            "text/plain": [
              "pandas.core.series.Series"
            ]
          },
          "metadata": {
            "tags": []
          },
          "execution_count": 100
        }
      ]
    },
    {
      "cell_type": "code",
      "metadata": {
        "colab": {
          "base_uri": "https://localhost:8080/",
          "height": 436
        },
        "id": "OChyzk8Na7Oe",
        "outputId": "6749bc02-90ad-4fae-81fc-e8f47a36f724"
      },
      "source": [
        "#ทำการรวมคะแนนนำเสนอ\r\n",
        "Scores_present1 = Scores_present.groupby('นักศึกษา')\r\n",
        "Scores_Present = pd.DataFrame(Scores_present1['Present'].sum())\r\n",
        "Scores_Present"
      ],
      "execution_count": null,
      "outputs": [
        {
          "output_type": "execute_result",
          "data": {
            "text/html": [
              "<div>\n",
              "<style scoped>\n",
              "    .dataframe tbody tr th:only-of-type {\n",
              "        vertical-align: middle;\n",
              "    }\n",
              "\n",
              "    .dataframe tbody tr th {\n",
              "        vertical-align: top;\n",
              "    }\n",
              "\n",
              "    .dataframe thead th {\n",
              "        text-align: right;\n",
              "    }\n",
              "</style>\n",
              "<table border=\"1\" class=\"dataframe\">\n",
              "  <thead>\n",
              "    <tr style=\"text-align: right;\">\n",
              "      <th></th>\n",
              "      <th>Present</th>\n",
              "    </tr>\n",
              "    <tr>\n",
              "      <th>นักศึกษา</th>\n",
              "      <th></th>\n",
              "    </tr>\n",
              "  </thead>\n",
              "  <tbody>\n",
              "    <tr>\n",
              "      <th>boozy-thistle-wildebeest</th>\n",
              "      <td>50.25</td>\n",
              "    </tr>\n",
              "    <tr>\n",
              "      <th>breezy-pear-macaw</th>\n",
              "      <td>48.37</td>\n",
              "    </tr>\n",
              "    <tr>\n",
              "      <th>bumpy-indigo-dolphin</th>\n",
              "      <td>43.64</td>\n",
              "    </tr>\n",
              "    <tr>\n",
              "      <th>chewy-lilac-shark</th>\n",
              "      <td>47.58</td>\n",
              "    </tr>\n",
              "    <tr>\n",
              "      <th>chewy-persimmon-catfish</th>\n",
              "      <td>43.70</td>\n",
              "    </tr>\n",
              "    <tr>\n",
              "      <th>...</th>\n",
              "      <td>...</td>\n",
              "    </tr>\n",
              "    <tr>\n",
              "      <th>ugly-harlequin-octopus</th>\n",
              "      <td>46.16</td>\n",
              "    </tr>\n",
              "    <tr>\n",
              "      <th>ugly-myrtle-walrus</th>\n",
              "      <td>43.60</td>\n",
              "    </tr>\n",
              "    <tr>\n",
              "      <th>whiny-peach-audemer</th>\n",
              "      <td>36.28</td>\n",
              "    </tr>\n",
              "    <tr>\n",
              "      <th>whiny-pear-otter</th>\n",
              "      <td>50.22</td>\n",
              "    </tr>\n",
              "    <tr>\n",
              "      <th>wiggy-silver-drever</th>\n",
              "      <td>40.78</td>\n",
              "    </tr>\n",
              "  </tbody>\n",
              "</table>\n",
              "<p>80 rows × 1 columns</p>\n",
              "</div>"
            ],
            "text/plain": [
              "                          Present\n",
              "นักศึกษา                         \n",
              "boozy-thistle-wildebeest    50.25\n",
              "breezy-pear-macaw           48.37\n",
              "bumpy-indigo-dolphin        43.64\n",
              "chewy-lilac-shark           47.58\n",
              "chewy-persimmon-catfish     43.70\n",
              "...                           ...\n",
              "ugly-harlequin-octopus      46.16\n",
              "ugly-myrtle-walrus          43.60\n",
              "whiny-peach-audemer         36.28\n",
              "whiny-pear-otter            50.22\n",
              "wiggy-silver-drever         40.78\n",
              "\n",
              "[80 rows x 1 columns]"
            ]
          },
          "metadata": {
            "tags": []
          },
          "execution_count": 98
        }
      ]
    },
    {
      "cell_type": "code",
      "metadata": {
        "colab": {
          "base_uri": "https://localhost:8080/",
          "height": 406
        },
        "id": "Fm1VxYvMevjB",
        "outputId": "86c49f36-3ad9-4e8f-84fc-98499022d375"
      },
      "source": [
        "Scores_Classroom"
      ],
      "execution_count": null,
      "outputs": [
        {
          "output_type": "execute_result",
          "data": {
            "text/html": [
              "<div>\n",
              "<style scoped>\n",
              "    .dataframe tbody tr th:only-of-type {\n",
              "        vertical-align: middle;\n",
              "    }\n",
              "\n",
              "    .dataframe tbody tr th {\n",
              "        vertical-align: top;\n",
              "    }\n",
              "\n",
              "    .dataframe thead th {\n",
              "        text-align: right;\n",
              "    }\n",
              "</style>\n",
              "<table border=\"1\" class=\"dataframe\">\n",
              "  <thead>\n",
              "    <tr style=\"text-align: right;\">\n",
              "      <th></th>\n",
              "      <th>Name</th>\n",
              "      <th>Classroom</th>\n",
              "    </tr>\n",
              "  </thead>\n",
              "  <tbody>\n",
              "    <tr>\n",
              "      <th>0</th>\n",
              "      <td>cozy-tangerine-ladybird</td>\n",
              "      <td>10.000</td>\n",
              "    </tr>\n",
              "    <tr>\n",
              "      <th>1</th>\n",
              "      <td>leaky-rust-chameleon</td>\n",
              "      <td>9.375</td>\n",
              "    </tr>\n",
              "    <tr>\n",
              "      <th>2</th>\n",
              "      <td>nerdy-plum-abyssinian</td>\n",
              "      <td>10.000</td>\n",
              "    </tr>\n",
              "    <tr>\n",
              "      <th>3</th>\n",
              "      <td>scaly-pumpkin-monkey</td>\n",
              "      <td>10.000</td>\n",
              "    </tr>\n",
              "    <tr>\n",
              "      <th>5</th>\n",
              "      <td>gloppy-persimmon-flamingo</td>\n",
              "      <td>8.375</td>\n",
              "    </tr>\n",
              "    <tr>\n",
              "      <th>...</th>\n",
              "      <td>...</td>\n",
              "      <td>...</td>\n",
              "    </tr>\n",
              "    <tr>\n",
              "      <th>83</th>\n",
              "      <td>randy-mauve-ibis</td>\n",
              "      <td>7.750</td>\n",
              "    </tr>\n",
              "    <tr>\n",
              "      <th>84</th>\n",
              "      <td>messy-white-toucan</td>\n",
              "      <td>8.750</td>\n",
              "    </tr>\n",
              "    <tr>\n",
              "      <th>85</th>\n",
              "      <td>gummy-olivine-ibis</td>\n",
              "      <td>10.000</td>\n",
              "    </tr>\n",
              "    <tr>\n",
              "      <th>86</th>\n",
              "      <td>skanky-amaranth-ostrich</td>\n",
              "      <td>8.750</td>\n",
              "    </tr>\n",
              "    <tr>\n",
              "      <th>87</th>\n",
              "      <td>frumpy-gamboge-emu</td>\n",
              "      <td>7.125</td>\n",
              "    </tr>\n",
              "  </tbody>\n",
              "</table>\n",
              "<p>80 rows × 2 columns</p>\n",
              "</div>"
            ],
            "text/plain": [
              "                         Name  Classroom\n",
              "0     cozy-tangerine-ladybird     10.000\n",
              "1        leaky-rust-chameleon      9.375\n",
              "2       nerdy-plum-abyssinian     10.000\n",
              "3        scaly-pumpkin-monkey     10.000\n",
              "5   gloppy-persimmon-flamingo      8.375\n",
              "..                        ...        ...\n",
              "83           randy-mauve-ibis      7.750\n",
              "84         messy-white-toucan      8.750\n",
              "85         gummy-olivine-ibis     10.000\n",
              "86    skanky-amaranth-ostrich      8.750\n",
              "87         frumpy-gamboge-emu      7.125\n",
              "\n",
              "[80 rows x 2 columns]"
            ]
          },
          "metadata": {
            "tags": []
          },
          "execution_count": 51
        }
      ]
    },
    {
      "cell_type": "code",
      "metadata": {
        "colab": {
          "base_uri": "https://localhost:8080/",
          "height": 406
        },
        "id": "VWCX8rwZeE8i",
        "outputId": "5985cb8b-d8ea-4263-8c56-add6ae482fd1"
      },
      "source": [
        "Scores_Advisor"
      ],
      "execution_count": null,
      "outputs": [
        {
          "output_type": "execute_result",
          "data": {
            "text/html": [
              "<div>\n",
              "<style scoped>\n",
              "    .dataframe tbody tr th:only-of-type {\n",
              "        vertical-align: middle;\n",
              "    }\n",
              "\n",
              "    .dataframe tbody tr th {\n",
              "        vertical-align: top;\n",
              "    }\n",
              "\n",
              "    .dataframe thead th {\n",
              "        text-align: right;\n",
              "    }\n",
              "</style>\n",
              "<table border=\"1\" class=\"dataframe\">\n",
              "  <thead>\n",
              "    <tr style=\"text-align: right;\">\n",
              "      <th></th>\n",
              "      <th>Name</th>\n",
              "      <th>Advisor</th>\n",
              "    </tr>\n",
              "  </thead>\n",
              "  <tbody>\n",
              "    <tr>\n",
              "      <th>1</th>\n",
              "      <td>leaky-rust-chameleon</td>\n",
              "      <td>68.0</td>\n",
              "    </tr>\n",
              "    <tr>\n",
              "      <th>2</th>\n",
              "      <td>greasy-ruby-bombay</td>\n",
              "      <td>61.0</td>\n",
              "    </tr>\n",
              "    <tr>\n",
              "      <th>3</th>\n",
              "      <td>wiggy-silver-drever</td>\n",
              "      <td>67.0</td>\n",
              "    </tr>\n",
              "    <tr>\n",
              "      <th>4</th>\n",
              "      <td>stinky-red-chow</td>\n",
              "      <td>67.0</td>\n",
              "    </tr>\n",
              "    <tr>\n",
              "      <th>5</th>\n",
              "      <td>bumpy-indigo-dolphin</td>\n",
              "      <td>67.0</td>\n",
              "    </tr>\n",
              "    <tr>\n",
              "      <th>...</th>\n",
              "      <td>...</td>\n",
              "      <td>...</td>\n",
              "    </tr>\n",
              "    <tr>\n",
              "      <th>2</th>\n",
              "      <td>breezy-pear-macaw</td>\n",
              "      <td>69.0</td>\n",
              "    </tr>\n",
              "    <tr>\n",
              "      <th>3</th>\n",
              "      <td>cozy-tangerine-ladybird</td>\n",
              "      <td>62.0</td>\n",
              "    </tr>\n",
              "    <tr>\n",
              "      <th>4</th>\n",
              "      <td>scaly-pumpkin-monkey</td>\n",
              "      <td>62.0</td>\n",
              "    </tr>\n",
              "    <tr>\n",
              "      <th>5</th>\n",
              "      <td>scanty-razzmatazz-rabbit</td>\n",
              "      <td>65.0</td>\n",
              "    </tr>\n",
              "    <tr>\n",
              "      <th>6</th>\n",
              "      <td>grumpy-flax-bonobo</td>\n",
              "      <td>65.0</td>\n",
              "    </tr>\n",
              "  </tbody>\n",
              "</table>\n",
              "<p>80 rows × 2 columns</p>\n",
              "</div>"
            ],
            "text/plain": [
              "                        Name  Advisor\n",
              "1       leaky-rust-chameleon     68.0\n",
              "2         greasy-ruby-bombay     61.0\n",
              "3        wiggy-silver-drever     67.0\n",
              "4            stinky-red-chow     67.0\n",
              "5       bumpy-indigo-dolphin     67.0\n",
              "..                       ...      ...\n",
              "2          breezy-pear-macaw     69.0\n",
              "3    cozy-tangerine-ladybird     62.0\n",
              "4       scaly-pumpkin-monkey     62.0\n",
              "5   scanty-razzmatazz-rabbit     65.0\n",
              "6         grumpy-flax-bonobo     65.0\n",
              "\n",
              "[80 rows x 2 columns]"
            ]
          },
          "metadata": {
            "tags": []
          },
          "execution_count": 52
        }
      ]
    },
    {
      "cell_type": "code",
      "metadata": {
        "colab": {
          "base_uri": "https://localhost:8080/",
          "height": 436
        },
        "id": "vBoHvjd1ez8N",
        "outputId": "a8451717-fcdc-4947-cb7d-66ab17ba0128"
      },
      "source": [
        "#เปลี่ยนชื่อ\r\n",
        "Scores_Present.rename(columns={'นักศึกษา': 'Name','Present':'Present'})\r\n",
        "Scores_Present"
      ],
      "execution_count": null,
      "outputs": [
        {
          "output_type": "execute_result",
          "data": {
            "text/html": [
              "<div>\n",
              "<style scoped>\n",
              "    .dataframe tbody tr th:only-of-type {\n",
              "        vertical-align: middle;\n",
              "    }\n",
              "\n",
              "    .dataframe tbody tr th {\n",
              "        vertical-align: top;\n",
              "    }\n",
              "\n",
              "    .dataframe thead th {\n",
              "        text-align: right;\n",
              "    }\n",
              "</style>\n",
              "<table border=\"1\" class=\"dataframe\">\n",
              "  <thead>\n",
              "    <tr style=\"text-align: right;\">\n",
              "      <th></th>\n",
              "      <th>Present</th>\n",
              "    </tr>\n",
              "    <tr>\n",
              "      <th>นักศึกษา</th>\n",
              "      <th></th>\n",
              "    </tr>\n",
              "  </thead>\n",
              "  <tbody>\n",
              "    <tr>\n",
              "      <th>boozy-thistle-wildebeest</th>\n",
              "      <td>50.25</td>\n",
              "    </tr>\n",
              "    <tr>\n",
              "      <th>breezy-pear-macaw</th>\n",
              "      <td>48.37</td>\n",
              "    </tr>\n",
              "    <tr>\n",
              "      <th>bumpy-indigo-dolphin</th>\n",
              "      <td>43.64</td>\n",
              "    </tr>\n",
              "    <tr>\n",
              "      <th>chewy-lilac-shark</th>\n",
              "      <td>47.58</td>\n",
              "    </tr>\n",
              "    <tr>\n",
              "      <th>chewy-persimmon-catfish</th>\n",
              "      <td>43.70</td>\n",
              "    </tr>\n",
              "    <tr>\n",
              "      <th>...</th>\n",
              "      <td>...</td>\n",
              "    </tr>\n",
              "    <tr>\n",
              "      <th>ugly-harlequin-octopus</th>\n",
              "      <td>46.16</td>\n",
              "    </tr>\n",
              "    <tr>\n",
              "      <th>ugly-myrtle-walrus</th>\n",
              "      <td>43.60</td>\n",
              "    </tr>\n",
              "    <tr>\n",
              "      <th>whiny-peach-audemer</th>\n",
              "      <td>36.28</td>\n",
              "    </tr>\n",
              "    <tr>\n",
              "      <th>whiny-pear-otter</th>\n",
              "      <td>50.22</td>\n",
              "    </tr>\n",
              "    <tr>\n",
              "      <th>wiggy-silver-drever</th>\n",
              "      <td>40.78</td>\n",
              "    </tr>\n",
              "  </tbody>\n",
              "</table>\n",
              "<p>80 rows × 1 columns</p>\n",
              "</div>"
            ],
            "text/plain": [
              "                          Present\n",
              "นักศึกษา                         \n",
              "boozy-thistle-wildebeest    50.25\n",
              "breezy-pear-macaw           48.37\n",
              "bumpy-indigo-dolphin        43.64\n",
              "chewy-lilac-shark           47.58\n",
              "chewy-persimmon-catfish     43.70\n",
              "...                           ...\n",
              "ugly-harlequin-octopus      46.16\n",
              "ugly-myrtle-walrus          43.60\n",
              "whiny-peach-audemer         36.28\n",
              "whiny-pear-otter            50.22\n",
              "wiggy-silver-drever         40.78\n",
              "\n",
              "[80 rows x 1 columns]"
            ]
          },
          "metadata": {
            "tags": []
          },
          "execution_count": 95
        }
      ]
    },
    {
      "cell_type": "code",
      "metadata": {
        "colab": {
          "base_uri": "https://localhost:8080/",
          "height": 406
        },
        "id": "Gk9I22_Ge3Dy",
        "outputId": "e3d3c1e4-7c6a-4fc1-ee3e-7957a917769f"
      },
      "source": [
        "#ทำการรวมไฟล์\r\n",
        "Scores_Classroom['Advisor'] = Scores_Classroom['Name'].map(Scores_Advisor.set_index('Name')['Advisor'])\r\n",
        "Scores_Classroom"
      ],
      "execution_count": null,
      "outputs": [
        {
          "output_type": "execute_result",
          "data": {
            "text/html": [
              "<div>\n",
              "<style scoped>\n",
              "    .dataframe tbody tr th:only-of-type {\n",
              "        vertical-align: middle;\n",
              "    }\n",
              "\n",
              "    .dataframe tbody tr th {\n",
              "        vertical-align: top;\n",
              "    }\n",
              "\n",
              "    .dataframe thead th {\n",
              "        text-align: right;\n",
              "    }\n",
              "</style>\n",
              "<table border=\"1\" class=\"dataframe\">\n",
              "  <thead>\n",
              "    <tr style=\"text-align: right;\">\n",
              "      <th></th>\n",
              "      <th>Name</th>\n",
              "      <th>Classroom</th>\n",
              "      <th>Advisor</th>\n",
              "    </tr>\n",
              "  </thead>\n",
              "  <tbody>\n",
              "    <tr>\n",
              "      <th>0</th>\n",
              "      <td>cozy-tangerine-ladybird</td>\n",
              "      <td>10.000</td>\n",
              "      <td>62.000000</td>\n",
              "    </tr>\n",
              "    <tr>\n",
              "      <th>1</th>\n",
              "      <td>leaky-rust-chameleon</td>\n",
              "      <td>9.375</td>\n",
              "      <td>68.000000</td>\n",
              "    </tr>\n",
              "    <tr>\n",
              "      <th>2</th>\n",
              "      <td>nerdy-plum-abyssinian</td>\n",
              "      <td>10.000</td>\n",
              "      <td>67.000000</td>\n",
              "    </tr>\n",
              "    <tr>\n",
              "      <th>3</th>\n",
              "      <td>scaly-pumpkin-monkey</td>\n",
              "      <td>10.000</td>\n",
              "      <td>62.000000</td>\n",
              "    </tr>\n",
              "    <tr>\n",
              "      <th>5</th>\n",
              "      <td>gloppy-persimmon-flamingo</td>\n",
              "      <td>8.375</td>\n",
              "      <td>65.000000</td>\n",
              "    </tr>\n",
              "    <tr>\n",
              "      <th>...</th>\n",
              "      <td>...</td>\n",
              "      <td>...</td>\n",
              "      <td>...</td>\n",
              "    </tr>\n",
              "    <tr>\n",
              "      <th>83</th>\n",
              "      <td>randy-mauve-ibis</td>\n",
              "      <td>7.750</td>\n",
              "      <td>63.000000</td>\n",
              "    </tr>\n",
              "    <tr>\n",
              "      <th>84</th>\n",
              "      <td>messy-white-toucan</td>\n",
              "      <td>8.750</td>\n",
              "      <td>61.384615</td>\n",
              "    </tr>\n",
              "    <tr>\n",
              "      <th>85</th>\n",
              "      <td>gummy-olivine-ibis</td>\n",
              "      <td>10.000</td>\n",
              "      <td>61.000000</td>\n",
              "    </tr>\n",
              "    <tr>\n",
              "      <th>86</th>\n",
              "      <td>skanky-amaranth-ostrich</td>\n",
              "      <td>8.750</td>\n",
              "      <td>55.000000</td>\n",
              "    </tr>\n",
              "    <tr>\n",
              "      <th>87</th>\n",
              "      <td>frumpy-gamboge-emu</td>\n",
              "      <td>7.125</td>\n",
              "      <td>45.230769</td>\n",
              "    </tr>\n",
              "  </tbody>\n",
              "</table>\n",
              "<p>80 rows × 3 columns</p>\n",
              "</div>"
            ],
            "text/plain": [
              "                         Name  Classroom    Advisor\n",
              "0     cozy-tangerine-ladybird     10.000  62.000000\n",
              "1        leaky-rust-chameleon      9.375  68.000000\n",
              "2       nerdy-plum-abyssinian     10.000  67.000000\n",
              "3        scaly-pumpkin-monkey     10.000  62.000000\n",
              "5   gloppy-persimmon-flamingo      8.375  65.000000\n",
              "..                        ...        ...        ...\n",
              "83           randy-mauve-ibis      7.750  63.000000\n",
              "84         messy-white-toucan      8.750  61.384615\n",
              "85         gummy-olivine-ibis     10.000  61.000000\n",
              "86    skanky-amaranth-ostrich      8.750  55.000000\n",
              "87         frumpy-gamboge-emu      7.125  45.230769\n",
              "\n",
              "[80 rows x 3 columns]"
            ]
          },
          "metadata": {
            "tags": []
          },
          "execution_count": 93
        }
      ]
    },
    {
      "cell_type": "code",
      "metadata": {
        "colab": {
          "base_uri": "https://localhost:8080/",
          "height": 436
        },
        "id": "vXYxLRi-kQDe",
        "outputId": "33fd484a-ad1c-4a34-8499-21a1110c5f96"
      },
      "source": [
        "Scores_Present1"
      ],
      "execution_count": null,
      "outputs": [
        {
          "output_type": "execute_result",
          "data": {
            "text/html": [
              "<div>\n",
              "<style scoped>\n",
              "    .dataframe tbody tr th:only-of-type {\n",
              "        vertical-align: middle;\n",
              "    }\n",
              "\n",
              "    .dataframe tbody tr th {\n",
              "        vertical-align: top;\n",
              "    }\n",
              "\n",
              "    .dataframe thead th {\n",
              "        text-align: right;\n",
              "    }\n",
              "</style>\n",
              "<table border=\"1\" class=\"dataframe\">\n",
              "  <thead>\n",
              "    <tr style=\"text-align: right;\">\n",
              "      <th></th>\n",
              "      <th>รวม</th>\n",
              "      <th>Z-Score</th>\n",
              "      <th>Present</th>\n",
              "    </tr>\n",
              "    <tr>\n",
              "      <th>นักศึกษา</th>\n",
              "      <th></th>\n",
              "      <th></th>\n",
              "      <th></th>\n",
              "    </tr>\n",
              "  </thead>\n",
              "  <tbody>\n",
              "    <tr>\n",
              "      <th>boozy-thistle-wildebeest</th>\n",
              "      <td>115</td>\n",
              "      <td>1.506390</td>\n",
              "      <td>50.25</td>\n",
              "    </tr>\n",
              "    <tr>\n",
              "      <th>breezy-pear-macaw</th>\n",
              "      <td>112</td>\n",
              "      <td>0.908578</td>\n",
              "      <td>48.37</td>\n",
              "    </tr>\n",
              "    <tr>\n",
              "      <th>bumpy-indigo-dolphin</th>\n",
              "      <td>107</td>\n",
              "      <td>-0.601421</td>\n",
              "      <td>43.64</td>\n",
              "    </tr>\n",
              "    <tr>\n",
              "      <th>chewy-lilac-shark</th>\n",
              "      <td>111</td>\n",
              "      <td>0.655679</td>\n",
              "      <td>47.58</td>\n",
              "    </tr>\n",
              "    <tr>\n",
              "      <th>chewy-persimmon-catfish</th>\n",
              "      <td>95</td>\n",
              "      <td>-0.582416</td>\n",
              "      <td>43.70</td>\n",
              "    </tr>\n",
              "    <tr>\n",
              "      <th>...</th>\n",
              "      <td>...</td>\n",
              "      <td>...</td>\n",
              "      <td>...</td>\n",
              "    </tr>\n",
              "    <tr>\n",
              "      <th>ugly-harlequin-octopus</th>\n",
              "      <td>116</td>\n",
              "      <td>0.202428</td>\n",
              "      <td>46.16</td>\n",
              "    </tr>\n",
              "    <tr>\n",
              "      <th>ugly-myrtle-walrus</th>\n",
              "      <td>95</td>\n",
              "      <td>-0.615597</td>\n",
              "      <td>43.60</td>\n",
              "    </tr>\n",
              "    <tr>\n",
              "      <th>whiny-peach-audemer</th>\n",
              "      <td>97</td>\n",
              "      <td>-2.951176</td>\n",
              "      <td>36.28</td>\n",
              "    </tr>\n",
              "    <tr>\n",
              "      <th>whiny-pear-otter</th>\n",
              "      <td>116</td>\n",
              "      <td>1.501362</td>\n",
              "      <td>50.22</td>\n",
              "    </tr>\n",
              "    <tr>\n",
              "      <th>wiggy-silver-drever</th>\n",
              "      <td>100</td>\n",
              "      <td>-1.513645</td>\n",
              "      <td>40.78</td>\n",
              "    </tr>\n",
              "  </tbody>\n",
              "</table>\n",
              "<p>80 rows × 3 columns</p>\n",
              "</div>"
            ],
            "text/plain": [
              "                          รวม   Z-Score  Present\n",
              "นักศึกษา                                        \n",
              "boozy-thistle-wildebeest  115  1.506390    50.25\n",
              "breezy-pear-macaw         112  0.908578    48.37\n",
              "bumpy-indigo-dolphin      107 -0.601421    43.64\n",
              "chewy-lilac-shark         111  0.655679    47.58\n",
              "chewy-persimmon-catfish    95 -0.582416    43.70\n",
              "...                       ...       ...      ...\n",
              "ugly-harlequin-octopus    116  0.202428    46.16\n",
              "ugly-myrtle-walrus         95 -0.615597    43.60\n",
              "whiny-peach-audemer        97 -2.951176    36.28\n",
              "whiny-pear-otter          116  1.501362    50.22\n",
              "wiggy-silver-drever       100 -1.513645    40.78\n",
              "\n",
              "[80 rows x 3 columns]"
            ]
          },
          "metadata": {
            "tags": []
          },
          "execution_count": 91
        }
      ]
    },
    {
      "cell_type": "code",
      "metadata": {
        "colab": {
          "base_uri": "https://localhost:8080/",
          "height": 310
        },
        "id": "6MX185eHgT3z",
        "outputId": "da9eaa1a-29de-4e7d-ad7a-0eb0b5a4a3bb"
      },
      "source": [
        "Scores_Classroom['Present'] = Scores_Classroom['Name'].map(Scores_Present.set_index('นักศึกษา')['Present'])\r\n",
        "Scores_Classroom\r\n",
        "#ไม่สามารถรมกันได้เนื่องจากข้อมูลมาจากการgroup by"
      ],
      "execution_count": null,
      "outputs": [
        {
          "output_type": "error",
          "ename": "KeyError",
          "evalue": "ignored",
          "traceback": [
            "\u001b[0;31m---------------------------------------------------------------------------\u001b[0m",
            "\u001b[0;31mKeyError\u001b[0m                                  Traceback (most recent call last)",
            "\u001b[0;32m<ipython-input-94-1efc3271d9b1>\u001b[0m in \u001b[0;36m<module>\u001b[0;34m()\u001b[0m\n\u001b[0;32m----> 1\u001b[0;31m \u001b[0mScores_Classroom\u001b[0m\u001b[0;34m[\u001b[0m\u001b[0;34m'Present'\u001b[0m\u001b[0;34m]\u001b[0m \u001b[0;34m=\u001b[0m \u001b[0mScores_Classroom\u001b[0m\u001b[0;34m[\u001b[0m\u001b[0;34m'Name'\u001b[0m\u001b[0;34m]\u001b[0m\u001b[0;34m.\u001b[0m\u001b[0mmap\u001b[0m\u001b[0;34m(\u001b[0m\u001b[0mScores_Present\u001b[0m\u001b[0;34m.\u001b[0m\u001b[0mset_index\u001b[0m\u001b[0;34m(\u001b[0m\u001b[0;34m'นักศึกษา '\u001b[0m\u001b[0;34m)\u001b[0m\u001b[0;34m[\u001b[0m\u001b[0;34m'Present'\u001b[0m\u001b[0;34m]\u001b[0m\u001b[0;34m)\u001b[0m\u001b[0;34m\u001b[0m\u001b[0;34m\u001b[0m\u001b[0m\n\u001b[0m\u001b[1;32m      2\u001b[0m \u001b[0mScores_Classroom\u001b[0m\u001b[0;34m\u001b[0m\u001b[0;34m\u001b[0m\u001b[0m\n",
            "\u001b[0;32m/usr/local/lib/python3.6/dist-packages/pandas/core/frame.py\u001b[0m in \u001b[0;36mset_index\u001b[0;34m(self, keys, drop, append, inplace, verify_integrity)\u001b[0m\n\u001b[1;32m   4553\u001b[0m \u001b[0;34m\u001b[0m\u001b[0m\n\u001b[1;32m   4554\u001b[0m         \u001b[0;32mif\u001b[0m \u001b[0mmissing\u001b[0m\u001b[0;34m:\u001b[0m\u001b[0;34m\u001b[0m\u001b[0;34m\u001b[0m\u001b[0m\n\u001b[0;32m-> 4555\u001b[0;31m             \u001b[0;32mraise\u001b[0m \u001b[0mKeyError\u001b[0m\u001b[0;34m(\u001b[0m\u001b[0;34mf\"None of {missing} are in the columns\"\u001b[0m\u001b[0;34m)\u001b[0m\u001b[0;34m\u001b[0m\u001b[0;34m\u001b[0m\u001b[0m\n\u001b[0m\u001b[1;32m   4556\u001b[0m \u001b[0;34m\u001b[0m\u001b[0m\n\u001b[1;32m   4557\u001b[0m         \u001b[0;32mif\u001b[0m \u001b[0minplace\u001b[0m\u001b[0;34m:\u001b[0m\u001b[0;34m\u001b[0m\u001b[0;34m\u001b[0m\u001b[0m\n",
            "\u001b[0;31mKeyError\u001b[0m: \"None of ['นักศึกษา '] are in the columns\""
          ]
        }
      ]
    },
    {
      "cell_type": "code",
      "metadata": {
        "id": "aU5eAA2QhtlQ"
      },
      "source": [
        "#ฟังก์ชั่นตัดเกรด \r\n",
        "def grade(score):\r\n",
        "  if score <50:\r\n",
        "    print(f'คนที่ได้คะแนน {score} ได้เกรด F')\r\n",
        "  elif score <55:\r\n",
        "    print(f'คนที่ได้คะแนน {score} ได้เกรด D')\r\n",
        "  elif score <60:\r\n",
        "    print(f'คนที่ได้คะแนน {score} ได้เกรด D+')\r\n",
        "  elif score <65:\r\n",
        "    print(f'คนที่ได้คะแนน {score} ได้เกรด C')\r\n",
        "  elif score <70:\r\n",
        "    print(f'คนที่ได้คะแนน {score} ได้เกรด B')\r\n",
        "  elif score <75:\r\n",
        "    print(f'คนที่ได้คะแนน {score} ได้เกรด B+')\r\n",
        "  else :\r\n",
        "    print(f'คนที่ได้คะแนน {score} ได้เกรด A')\r\n",
        "    return(score)"
      ],
      "execution_count": null,
      "outputs": []
    },
    {
      "cell_type": "code",
      "metadata": {
        "colab": {
          "base_uri": "https://localhost:8080/"
        },
        "id": "e1gJy5Vll80j",
        "outputId": "8b402eff-75f2-4877-e87e-1966ba44604e"
      },
      "source": [
        "Project_Scores = Scores_Classroom['Classroom'] + Scores_Advisor['Advisor']\r\n",
        "Project_Scores"
      ],
      "execution_count": null,
      "outputs": [
        {
          "output_type": "execute_result",
          "data": {
            "text/plain": [
              "0        NaN\n",
              "1     77.375\n",
              "1     75.375\n",
              "1     72.375\n",
              "1     76.375\n",
              "       ...  \n",
              "83       NaN\n",
              "84       NaN\n",
              "85       NaN\n",
              "86       NaN\n",
              "87       NaN\n",
              "Length: 154, dtype: float64"
            ]
          },
          "metadata": {
            "tags": []
          },
          "execution_count": 102
        }
      ]
    },
    {
      "cell_type": "code",
      "metadata": {
        "colab": {
          "base_uri": "https://localhost:8080/",
          "height": 167
        },
        "id": "YWybYmyimb98",
        "outputId": "499dfa06-283d-4d65-e170-b1f6956d5c1e"
      },
      "source": [
        "pd.plotting.parallel_coordinates(df,'Name') #สร้างกราฟ"
      ],
      "execution_count": null,
      "outputs": [
        {
          "output_type": "error",
          "ename": "NameError",
          "evalue": "ignored",
          "traceback": [
            "\u001b[0;31m---------------------------------------------------------------------------\u001b[0m",
            "\u001b[0;31mNameError\u001b[0m                                 Traceback (most recent call last)",
            "\u001b[0;32m<ipython-input-103-eaca0bb26f29>\u001b[0m in \u001b[0;36m<module>\u001b[0;34m()\u001b[0m\n\u001b[0;32m----> 1\u001b[0;31m \u001b[0mpd\u001b[0m\u001b[0;34m.\u001b[0m\u001b[0mplotting\u001b[0m\u001b[0;34m.\u001b[0m\u001b[0mparallel_coordinates\u001b[0m\u001b[0;34m(\u001b[0m\u001b[0mdf\u001b[0m\u001b[0;34m,\u001b[0m\u001b[0;34m'Name'\u001b[0m\u001b[0;34m)\u001b[0m\u001b[0;34m\u001b[0m\u001b[0;34m\u001b[0m\u001b[0m\n\u001b[0m",
            "\u001b[0;31mNameError\u001b[0m: name 'df' is not defined"
          ]
        }
      ]
    },
    {
      "cell_type": "code",
      "metadata": {
        "id": "uAi55c0XmckN"
      },
      "source": [
        ""
      ],
      "execution_count": null,
      "outputs": []
    },
    {
      "cell_type": "markdown",
      "metadata": {
        "id": "Z3_esuFUmwcq"
      },
      "source": [
        "#Calculation2"
      ]
    },
    {
      "cell_type": "markdown",
      "metadata": {
        "id": "kZwmlKNJnNdd"
      },
      "source": [
        "เนื่องจากเวลาไม่พอต้องทำการแแก้คือ การแบ่งกลุ่มของอาจารย์ออกเป็นทั้งหมด 12 คน จากนั้นทำการหาค่า z-score  ของนักศึกษาที่ทำการสอบด้วย แล้วนำไปหาคะแนนรวมคู่ของอาจารย์โปรเจคที่ทำการสอบคู่เดียวกันมาบวกกันจะได้้้รวมชุดนักศึกษาทั้งหมด จากนั้นนำข้อมูลการให้คะแนนเเต่ละส่วน คือ ในห้อง จากอ.ที่ปรึกษา และการสอบมมารมกันด้วยการ .map() ทำการเก็บข้อมูลทั้งหมดของแต่ละคนมารวมกันใน datatFrame โดยสร้าง Column ใหม่ แล้วใช้ loop for ในการโยนฟังก์ชันคำนวณเกรดเข้าไปใน datFrame เกรดค่าเก็บไว้ใน column ที่สร้างขึ้นมาใหม่"
      ]
    },
    {
      "cell_type": "code",
      "metadata": {
        "id": "16bM6wJZmy9n"
      },
      "source": [
        ""
      ],
      "execution_count": null,
      "outputs": []
    }
  ]
}