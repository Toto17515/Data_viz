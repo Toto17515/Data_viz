{
  "nbformat": 4,
  "nbformat_minor": 0,
  "metadata": {
    "colab": {
      "name": "Intro.ipynb",
      "provenance": [],
      "authorship_tag": "ABX9TyOj/9IH+K9CSMrkwmR+ZNoj",
      "include_colab_link": true
    },
    "kernelspec": {
      "name": "python3",
      "display_name": "Python 3"
    }
  },
  "cells": [
    {
      "cell_type": "markdown",
      "metadata": {
        "id": "view-in-github",
        "colab_type": "text"
      },
      "source": [
        "<a href=\"https://colab.research.google.com/github/Toto17515/Data_viz/blob/main/Intro.ipynb\" target=\"_parent\"><img src=\"https://colab.research.google.com/assets/colab-badge.svg\" alt=\"Open In Colab\"/></a>"
      ]
    },
    {
      "cell_type": "markdown",
      "metadata": {
        "id": "Gf_F9u_fM5Oz"
      },
      "source": [
        "\r\n",
        "นายธิติวุฒิ ชูเสน 613020552-6"
      ]
    },
    {
      "cell_type": "markdown",
      "metadata": {
        "id": "6EmMQxYZPGc7"
      },
      "source": [
        "ภาษา Markdown\r\n",
        "#Markdown\r\n",
        "##Markdown\r\n",
        "~ABCD~"
      ]
    },
    {
      "cell_type": "code",
      "metadata": {
        "colab": {
          "base_uri": "https://localhost:8080/"
        },
        "id": "I8aq-yysMUdm",
        "outputId": "ab3f4b15-bb75-4b11-f62a-f311b2fac8b5"
      },
      "source": [
        "print('Thitiwut')"
      ],
      "execution_count": 1,
      "outputs": [
        {
          "output_type": "stream",
          "text": [
            "Thitiwut\n"
          ],
          "name": "stdout"
        }
      ]
    }
  ]
}