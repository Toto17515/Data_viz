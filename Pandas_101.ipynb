{
  "nbformat": 4,
  "nbformat_minor": 0,
  "metadata": {
    "colab": {
      "name": "Pandas 101.ipynb",
      "provenance": [],
      "collapsed_sections": [
        "u8ViyiTKw3oC",
        "oXg4BMfRzZde",
        "uw4WJckr0IWN",
        "5yJ-61rcBqUH",
        "QNLMSQF8B2pi",
        "aEIBu5lKCbaJ"
      ],
      "mount_file_id": "1SbgesGzUtQ0957x1zh4zXeqUlfnQ_aeY",
      "authorship_tag": "ABX9TyOs9shDFTS7y8qwstavVbVC",
      "include_colab_link": true
    },
    "kernelspec": {
      "name": "python3",
      "display_name": "Python 3"
    }
  },
  "cells": [
    {
      "cell_type": "markdown",
      "metadata": {
        "id": "view-in-github",
        "colab_type": "text"
      },
      "source": [
        "<a href=\"https://colab.research.google.com/github/Toto17515/Data_viz/blob/main/Pandas_101.ipynb\" target=\"_parent\"><img src=\"https://colab.research.google.com/assets/colab-badge.svg\" alt=\"Open In Colab\"/></a>"
      ]
    },
    {
      "cell_type": "markdown",
      "metadata": {
        "id": "u8ViyiTKw3oC"
      },
      "source": [
        "#Import"
      ]
    },
    {
      "cell_type": "markdown",
      "metadata": {
        "id": "II5dBSW_xNLB"
      },
      "source": [
        "เรียกใช้งาน pandas"
      ]
    },
    {
      "cell_type": "code",
      "metadata": {
        "id": "tU7ZALYBmWjk"
      },
      "source": [
        "import pandas as pd"
      ],
      "execution_count": 1,
      "outputs": []
    },
    {
      "cell_type": "markdown",
      "metadata": {
        "id": "R-4ekgrSw_g_"
      },
      "source": [
        "เชื่อมกับ google drive (mount กับ google drive)"
      ]
    },
    {
      "cell_type": "code",
      "metadata": {
        "colab": {
          "base_uri": "https://localhost:8080/"
        },
        "id": "kMEqsTcOm3gI",
        "outputId": "0bdcbcce-6a9c-4e0b-9004-1c599eb235c4"
      },
      "source": [
        "from google.colab import drive\r\n",
        "drive.mount('/content/drive')"
      ],
      "execution_count": 7,
      "outputs": [
        {
          "output_type": "stream",
          "text": [
            "Drive already mounted at /content/drive; to attempt to forcibly remount, call drive.mount(\"/content/drive\", force_remount=True).\n"
          ],
          "name": "stdout"
        }
      ]
    },
    {
      "cell_type": "markdown",
      "metadata": {
        "id": "SelGRiZ6xnSe"
      },
      "source": [
        "เรียกใช้ ตัวชี้ (เหมือน  windows)"
      ]
    },
    {
      "cell_type": "code",
      "metadata": {
        "id": "aWnM-j37ofep"
      },
      "source": [
        "import os\r\n",
        "\r\n",
        "path = '/content/drive/MyDrive/Data_Viz'"
      ],
      "execution_count": 8,
      "outputs": []
    },
    {
      "cell_type": "markdown",
      "metadata": {
        "id": "TJ8ObTjxx4SQ"
      },
      "source": [
        "เชื่อมไฟล์"
      ]
    },
    {
      "cell_type": "code",
      "metadata": {
        "colab": {
          "base_uri": "https://localhost:8080/"
        },
        "id": "HRp1MuM-q5t6",
        "outputId": "c22d0d9b-d614-48cc-a7f2-1bc4fd1ec62f"
      },
      "source": [
        "covid_file_path = os.path.join(path,'pm-18-jan-2021.csv')\r\n",
        "print(covid_file_path) #ใส่ / ต่อด้วยชื่อ pm-18-jan-2021.csv"
      ],
      "execution_count": 9,
      "outputs": [
        {
          "output_type": "stream",
          "text": [
            "/content/drive/MyDrive/Data_Viz/pm-18-jan-2021.csv\n"
          ],
          "name": "stdout"
        }
      ]
    },
    {
      "cell_type": "markdown",
      "metadata": {
        "id": "mWrk3MeQx99z"
      },
      "source": [
        "ใช้ได้เหมือนกัน"
      ]
    },
    {
      "cell_type": "code",
      "metadata": {
        "colab": {
          "base_uri": "https://localhost:8080/"
        },
        "id": "ffhaqhOLrsGQ",
        "outputId": "4ce79252-d0b5-4f3e-f9fc-e4ba85ea2fc8"
      },
      "source": [
        "a = path + '/pm-18-jan-2021.csv'\r\n",
        "print(a)"
      ],
      "execution_count": 5,
      "outputs": [
        {
          "output_type": "stream",
          "text": [
            "/content/drive/MyDrive/Data_Viz/pm-18-jan-2021.csv\n"
          ],
          "name": "stdout"
        }
      ]
    },
    {
      "cell_type": "markdown",
      "metadata": {
        "id": "9xf81EaSs_os"
      },
      "source": [
        "**load data to memory**"
      ]
    },
    {
      "cell_type": "code",
      "metadata": {
        "colab": {
          "base_uri": "https://localhost:8080/",
          "height": 1000
        },
        "id": "teEnh6gSsILK",
        "outputId": "9702a2b2-d5ff-4e6e-a964-a0c5287fe91a"
      },
      "source": [
        "data_covid = pd.read_csv(covid_file_path)\r\n",
        "data_covid"
      ],
      "execution_count": 10,
      "outputs": [
        {
          "output_type": "execute_result",
          "data": {
            "text/html": [
              "<div>\n",
              "<style scoped>\n",
              "    .dataframe tbody tr th:only-of-type {\n",
              "        vertical-align: middle;\n",
              "    }\n",
              "\n",
              "    .dataframe tbody tr th {\n",
              "        vertical-align: top;\n",
              "    }\n",
              "\n",
              "    .dataframe thead th {\n",
              "        text-align: right;\n",
              "    }\n",
              "</style>\n",
              "<table border=\"1\" class=\"dataframe\">\n",
              "  <thead>\n",
              "    <tr style=\"text-align: right;\">\n",
              "      <th></th>\n",
              "      <th>No.</th>\n",
              "      <th>announce_date</th>\n",
              "      <th>notification_date</th>\n",
              "      <th>sex</th>\n",
              "      <th>age</th>\n",
              "      <th>nationality</th>\n",
              "      <th>province_of_isolation</th>\n",
              "      <th>province_of_onset</th>\n",
              "      <th>district_of_onset</th>\n",
              "      <th>risk</th>\n",
              "    </tr>\n",
              "  </thead>\n",
              "  <tbody>\n",
              "    <tr>\n",
              "      <th>0</th>\n",
              "      <td>1</td>\n",
              "      <td>1/12/2020</td>\n",
              "      <td>NaN</td>\n",
              "      <td>หญิง</td>\n",
              "      <td>61.0</td>\n",
              "      <td>China</td>\n",
              "      <td>กรุงเทพมหานคร</td>\n",
              "      <td>กรุงเทพมหานคร</td>\n",
              "      <td>NaN</td>\n",
              "      <td>คนต่างชาติเดินทางมาจากต่างประเทศ</td>\n",
              "    </tr>\n",
              "    <tr>\n",
              "      <th>1</th>\n",
              "      <td>2</td>\n",
              "      <td>1/17/2020</td>\n",
              "      <td>NaN</td>\n",
              "      <td>หญิง</td>\n",
              "      <td>74.0</td>\n",
              "      <td>China</td>\n",
              "      <td>กรุงเทพมหานคร</td>\n",
              "      <td>กรุงเทพมหานคร</td>\n",
              "      <td>NaN</td>\n",
              "      <td>คนต่างชาติเดินทางมาจากต่างประเทศ</td>\n",
              "    </tr>\n",
              "    <tr>\n",
              "      <th>2</th>\n",
              "      <td>3</td>\n",
              "      <td>1/22/2020</td>\n",
              "      <td>NaN</td>\n",
              "      <td>หญิง</td>\n",
              "      <td>73.0</td>\n",
              "      <td>Thailand</td>\n",
              "      <td>นครปฐม</td>\n",
              "      <td>นครปฐม</td>\n",
              "      <td>เมือง</td>\n",
              "      <td>คนต่างชาติเดินทางมาจากต่างประเทศ</td>\n",
              "    </tr>\n",
              "    <tr>\n",
              "      <th>3</th>\n",
              "      <td>4</td>\n",
              "      <td>1/22/2020</td>\n",
              "      <td>NaN</td>\n",
              "      <td>ชาย</td>\n",
              "      <td>68.0</td>\n",
              "      <td>China</td>\n",
              "      <td>กรุงเทพมหานคร</td>\n",
              "      <td>กรุงเทพมหานคร</td>\n",
              "      <td>NaN</td>\n",
              "      <td>คนต่างชาติเดินทางมาจากต่างประเทศ</td>\n",
              "    </tr>\n",
              "    <tr>\n",
              "      <th>4</th>\n",
              "      <td>5</td>\n",
              "      <td>1/24/2020</td>\n",
              "      <td>NaN</td>\n",
              "      <td>หญิง</td>\n",
              "      <td>66.0</td>\n",
              "      <td>China</td>\n",
              "      <td>นนทบุรี</td>\n",
              "      <td>กรุงเทพมหานคร</td>\n",
              "      <td>NaN</td>\n",
              "      <td>คนต่างชาติเดินทางมาจากต่างประเทศ</td>\n",
              "    </tr>\n",
              "    <tr>\n",
              "      <th>...</th>\n",
              "      <td>...</td>\n",
              "      <td>...</td>\n",
              "      <td>...</td>\n",
              "      <td>...</td>\n",
              "      <td>...</td>\n",
              "      <td>...</td>\n",
              "      <td>...</td>\n",
              "      <td>...</td>\n",
              "      <td>...</td>\n",
              "      <td>...</td>\n",
              "    </tr>\n",
              "    <tr>\n",
              "      <th>12418</th>\n",
              "      <td>12419</td>\n",
              "      <td>1/18/2021</td>\n",
              "      <td>1/17/2021</td>\n",
              "      <td>หญิง</td>\n",
              "      <td>28.0</td>\n",
              "      <td>Thailand</td>\n",
              "      <td>สมุทรปราการ</td>\n",
              "      <td>สมุทรปราการ</td>\n",
              "      <td>เมือง</td>\n",
              "      <td>สถานบันเทิง</td>\n",
              "    </tr>\n",
              "    <tr>\n",
              "      <th>12419</th>\n",
              "      <td>12420</td>\n",
              "      <td>1/18/2021</td>\n",
              "      <td>1/17/2021</td>\n",
              "      <td>หญิง</td>\n",
              "      <td>27.0</td>\n",
              "      <td>Thailand</td>\n",
              "      <td>สมุทรปราการ</td>\n",
              "      <td>สมุทรปราการ</td>\n",
              "      <td>เมือง</td>\n",
              "      <td>สัมผัสใกล้ชิดกับผู้ป่วยยืนยันรายก่อนหน้านี้</td>\n",
              "    </tr>\n",
              "    <tr>\n",
              "      <th>12420</th>\n",
              "      <td>12421</td>\n",
              "      <td>1/18/2021</td>\n",
              "      <td>1/17/2021</td>\n",
              "      <td>ชาย</td>\n",
              "      <td>10.0</td>\n",
              "      <td>Thailand</td>\n",
              "      <td>ชลบุรี</td>\n",
              "      <td>ชลบุรี</td>\n",
              "      <td>สัตหีบ</td>\n",
              "      <td>สัมผัสใกล้ชิดกับผู้ป่วยยืนยันรายก่อนหน้านี้</td>\n",
              "    </tr>\n",
              "    <tr>\n",
              "      <th>12421</th>\n",
              "      <td>12422</td>\n",
              "      <td>1/18/2021</td>\n",
              "      <td>1/17/2021</td>\n",
              "      <td>ชาย</td>\n",
              "      <td>52.0</td>\n",
              "      <td>Thailand</td>\n",
              "      <td>ชลบุรี</td>\n",
              "      <td>ชลบุรี</td>\n",
              "      <td>ศรีราชา</td>\n",
              "      <td>Cluster ชลบุรี โรงเบียร์ 90</td>\n",
              "    </tr>\n",
              "    <tr>\n",
              "      <th>12422</th>\n",
              "      <td>12423</td>\n",
              "      <td>1/18/2021</td>\n",
              "      <td>1/17/2021</td>\n",
              "      <td>ชาย</td>\n",
              "      <td>51.0</td>\n",
              "      <td>Thailand</td>\n",
              "      <td>ระยอง</td>\n",
              "      <td>ระยอง</td>\n",
              "      <td>แกลง</td>\n",
              "      <td>สัมผัสใกล้ชิดกับผู้ป่วยยืนยันรายก่อนหน้านี้</td>\n",
              "    </tr>\n",
              "  </tbody>\n",
              "</table>\n",
              "<p>12423 rows × 10 columns</p>\n",
              "</div>"
            ],
            "text/plain": [
              "         No.  ...                                         risk\n",
              "0          1  ...             คนต่างชาติเดินทางมาจากต่างประเทศ\n",
              "1          2  ...             คนต่างชาติเดินทางมาจากต่างประเทศ\n",
              "2          3  ...             คนต่างชาติเดินทางมาจากต่างประเทศ\n",
              "3          4  ...             คนต่างชาติเดินทางมาจากต่างประเทศ\n",
              "4          5  ...             คนต่างชาติเดินทางมาจากต่างประเทศ\n",
              "...      ...  ...                                          ...\n",
              "12418  12419  ...                                  สถานบันเทิง\n",
              "12419  12420  ...  สัมผัสใกล้ชิดกับผู้ป่วยยืนยันรายก่อนหน้านี้\n",
              "12420  12421  ...  สัมผัสใกล้ชิดกับผู้ป่วยยืนยันรายก่อนหน้านี้\n",
              "12421  12422  ...                  Cluster ชลบุรี โรงเบียร์ 90\n",
              "12422  12423  ...  สัมผัสใกล้ชิดกับผู้ป่วยยืนยันรายก่อนหน้านี้\n",
              "\n",
              "[12423 rows x 10 columns]"
            ]
          },
          "metadata": {
            "tags": []
          },
          "execution_count": 10
        }
      ]
    },
    {
      "cell_type": "markdown",
      "metadata": {
        "id": "rAzaYwa9yEVj"
      },
      "source": [
        "วิธีที่ง่ายกว่า\r\n",
        "```\r\n",
        "data_covid = pd.read_csv('/content/drive/MyDrive/Data_Viz/pm-18-jan-2021.csv')\r\n",
        "```"
      ]
    },
    {
      "cell_type": "markdown",
      "metadata": {
        "id": "oQs578hHyWvM"
      },
      "source": [
        "#Pandas"
      ]
    },
    {
      "cell_type": "code",
      "metadata": {
        "colab": {
          "base_uri": "https://localhost:8080/",
          "height": 142
        },
        "id": "We8nzKcKtQ6A",
        "outputId": "71bbdb82-ac83-43be-acb4-e4ef08c32d09"
      },
      "source": [
        "data_covid.head(3) #เรียกดูแบบสั้น"
      ],
      "execution_count": 11,
      "outputs": [
        {
          "output_type": "execute_result",
          "data": {
            "text/html": [
              "<div>\n",
              "<style scoped>\n",
              "    .dataframe tbody tr th:only-of-type {\n",
              "        vertical-align: middle;\n",
              "    }\n",
              "\n",
              "    .dataframe tbody tr th {\n",
              "        vertical-align: top;\n",
              "    }\n",
              "\n",
              "    .dataframe thead th {\n",
              "        text-align: right;\n",
              "    }\n",
              "</style>\n",
              "<table border=\"1\" class=\"dataframe\">\n",
              "  <thead>\n",
              "    <tr style=\"text-align: right;\">\n",
              "      <th></th>\n",
              "      <th>No.</th>\n",
              "      <th>announce_date</th>\n",
              "      <th>notification_date</th>\n",
              "      <th>sex</th>\n",
              "      <th>age</th>\n",
              "      <th>nationality</th>\n",
              "      <th>province_of_isolation</th>\n",
              "      <th>province_of_onset</th>\n",
              "      <th>district_of_onset</th>\n",
              "      <th>risk</th>\n",
              "    </tr>\n",
              "  </thead>\n",
              "  <tbody>\n",
              "    <tr>\n",
              "      <th>0</th>\n",
              "      <td>1</td>\n",
              "      <td>1/12/2020</td>\n",
              "      <td>NaN</td>\n",
              "      <td>หญิง</td>\n",
              "      <td>61.0</td>\n",
              "      <td>China</td>\n",
              "      <td>กรุงเทพมหานคร</td>\n",
              "      <td>กรุงเทพมหานคร</td>\n",
              "      <td>NaN</td>\n",
              "      <td>คนต่างชาติเดินทางมาจากต่างประเทศ</td>\n",
              "    </tr>\n",
              "    <tr>\n",
              "      <th>1</th>\n",
              "      <td>2</td>\n",
              "      <td>1/17/2020</td>\n",
              "      <td>NaN</td>\n",
              "      <td>หญิง</td>\n",
              "      <td>74.0</td>\n",
              "      <td>China</td>\n",
              "      <td>กรุงเทพมหานคร</td>\n",
              "      <td>กรุงเทพมหานคร</td>\n",
              "      <td>NaN</td>\n",
              "      <td>คนต่างชาติเดินทางมาจากต่างประเทศ</td>\n",
              "    </tr>\n",
              "    <tr>\n",
              "      <th>2</th>\n",
              "      <td>3</td>\n",
              "      <td>1/22/2020</td>\n",
              "      <td>NaN</td>\n",
              "      <td>หญิง</td>\n",
              "      <td>73.0</td>\n",
              "      <td>Thailand</td>\n",
              "      <td>นครปฐม</td>\n",
              "      <td>นครปฐม</td>\n",
              "      <td>เมือง</td>\n",
              "      <td>คนต่างชาติเดินทางมาจากต่างประเทศ</td>\n",
              "    </tr>\n",
              "  </tbody>\n",
              "</table>\n",
              "</div>"
            ],
            "text/plain": [
              "   No. announce_date  ... district_of_onset                              risk\n",
              "0    1     1/12/2020  ...               NaN  คนต่างชาติเดินทางมาจากต่างประเทศ\n",
              "1    2     1/17/2020  ...               NaN  คนต่างชาติเดินทางมาจากต่างประเทศ\n",
              "2    3     1/22/2020  ...             เมือง  คนต่างชาติเดินทางมาจากต่างประเทศ\n",
              "\n",
              "[3 rows x 10 columns]"
            ]
          },
          "metadata": {
            "tags": []
          },
          "execution_count": 11
        }
      ]
    },
    {
      "cell_type": "code",
      "metadata": {
        "colab": {
          "base_uri": "https://localhost:8080/"
        },
        "id": "TD73_C9iyeJX",
        "outputId": "a4173cb7-6c11-4f71-fe10-c6003df5f225"
      },
      "source": [
        "data_covid.shape"
      ],
      "execution_count": 12,
      "outputs": [
        {
          "output_type": "execute_result",
          "data": {
            "text/plain": [
              "(12423, 10)"
            ]
          },
          "metadata": {
            "tags": []
          },
          "execution_count": 12
        }
      ]
    },
    {
      "cell_type": "markdown",
      "metadata": {
        "id": "oXg4BMfRzZde"
      },
      "source": [
        "####ชี้ค่าในตาราง"
      ]
    },
    {
      "cell_type": "code",
      "metadata": {
        "colab": {
          "base_uri": "https://localhost:8080/"
        },
        "id": "wk0Hdl83zYXF",
        "outputId": "70fbf01c-7453-48d0-9985-29c7cc304df9"
      },
      "source": [
        "data_covid['province_of_isolation']"
      ],
      "execution_count": 13,
      "outputs": [
        {
          "output_type": "execute_result",
          "data": {
            "text/plain": [
              "0        กรุงเทพมหานคร\n",
              "1        กรุงเทพมหานคร\n",
              "2               นครปฐม\n",
              "3        กรุงเทพมหานคร\n",
              "4              นนทบุรี\n",
              "             ...      \n",
              "12418      สมุทรปราการ\n",
              "12419      สมุทรปราการ\n",
              "12420           ชลบุรี\n",
              "12421           ชลบุรี\n",
              "12422            ระยอง\n",
              "Name: province_of_isolation, Length: 12423, dtype: object"
            ]
          },
          "metadata": {
            "tags": []
          },
          "execution_count": 13
        }
      ]
    },
    {
      "cell_type": "code",
      "metadata": {
        "colab": {
          "base_uri": "https://localhost:8080/",
          "height": 35
        },
        "id": "-UiCA0jGzAFf",
        "outputId": "0fad42ec-b4ad-4c81-89f5-60c82a9ab1f5"
      },
      "source": [
        "data_covid['province_of_isolation'][4]"
      ],
      "execution_count": 14,
      "outputs": [
        {
          "output_type": "execute_result",
          "data": {
            "application/vnd.google.colaboratory.intrinsic+json": {
              "type": "string"
            },
            "text/plain": [
              "'นนทบุรี'"
            ]
          },
          "metadata": {
            "tags": []
          },
          "execution_count": 14
        }
      ]
    },
    {
      "cell_type": "markdown",
      "metadata": {
        "id": "uw4WJckr0IWN"
      },
      "source": [
        "####.loc"
      ]
    },
    {
      "cell_type": "code",
      "metadata": {
        "colab": {
          "base_uri": "https://localhost:8080/",
          "height": 35
        },
        "id": "qs75i_T70C3w",
        "outputId": "76b3b994-ae9a-4396-ff40-c31f42e25778"
      },
      "source": [
        "data_covid.iloc[4,7]"
      ],
      "execution_count": 15,
      "outputs": [
        {
          "output_type": "execute_result",
          "data": {
            "application/vnd.google.colaboratory.intrinsic+json": {
              "type": "string"
            },
            "text/plain": [
              "'กรุงเทพมหานคร'"
            ]
          },
          "metadata": {
            "tags": []
          },
          "execution_count": 15
        }
      ]
    },
    {
      "cell_type": "markdown",
      "metadata": {
        "id": "flzV6vVG1PTb"
      },
      "source": [
        "####Table slicing"
      ]
    },
    {
      "cell_type": "markdown",
      "metadata": {
        "id": "eT7viH3h1EIh"
      },
      "source": [
        "ตัดมาเฉพาะ Column ที่ต้องการ"
      ]
    },
    {
      "cell_type": "code",
      "metadata": {
        "colab": {
          "base_uri": "https://localhost:8080/",
          "height": 419
        },
        "id": "UYwxQ0xZ0mf1",
        "outputId": "f9e61ec4-6e85-4d0e-fed2-3a389f6cd14a"
      },
      "source": [
        "smaller_table =  data_covid[['announce_date','province_of_isolation','risk']]\r\n",
        "smaller_table"
      ],
      "execution_count": 16,
      "outputs": [
        {
          "output_type": "execute_result",
          "data": {
            "text/html": [
              "<div>\n",
              "<style scoped>\n",
              "    .dataframe tbody tr th:only-of-type {\n",
              "        vertical-align: middle;\n",
              "    }\n",
              "\n",
              "    .dataframe tbody tr th {\n",
              "        vertical-align: top;\n",
              "    }\n",
              "\n",
              "    .dataframe thead th {\n",
              "        text-align: right;\n",
              "    }\n",
              "</style>\n",
              "<table border=\"1\" class=\"dataframe\">\n",
              "  <thead>\n",
              "    <tr style=\"text-align: right;\">\n",
              "      <th></th>\n",
              "      <th>announce_date</th>\n",
              "      <th>province_of_isolation</th>\n",
              "      <th>risk</th>\n",
              "    </tr>\n",
              "  </thead>\n",
              "  <tbody>\n",
              "    <tr>\n",
              "      <th>0</th>\n",
              "      <td>1/12/2020</td>\n",
              "      <td>กรุงเทพมหานคร</td>\n",
              "      <td>คนต่างชาติเดินทางมาจากต่างประเทศ</td>\n",
              "    </tr>\n",
              "    <tr>\n",
              "      <th>1</th>\n",
              "      <td>1/17/2020</td>\n",
              "      <td>กรุงเทพมหานคร</td>\n",
              "      <td>คนต่างชาติเดินทางมาจากต่างประเทศ</td>\n",
              "    </tr>\n",
              "    <tr>\n",
              "      <th>2</th>\n",
              "      <td>1/22/2020</td>\n",
              "      <td>นครปฐม</td>\n",
              "      <td>คนต่างชาติเดินทางมาจากต่างประเทศ</td>\n",
              "    </tr>\n",
              "    <tr>\n",
              "      <th>3</th>\n",
              "      <td>1/22/2020</td>\n",
              "      <td>กรุงเทพมหานคร</td>\n",
              "      <td>คนต่างชาติเดินทางมาจากต่างประเทศ</td>\n",
              "    </tr>\n",
              "    <tr>\n",
              "      <th>4</th>\n",
              "      <td>1/24/2020</td>\n",
              "      <td>นนทบุรี</td>\n",
              "      <td>คนต่างชาติเดินทางมาจากต่างประเทศ</td>\n",
              "    </tr>\n",
              "    <tr>\n",
              "      <th>...</th>\n",
              "      <td>...</td>\n",
              "      <td>...</td>\n",
              "      <td>...</td>\n",
              "    </tr>\n",
              "    <tr>\n",
              "      <th>12418</th>\n",
              "      <td>1/18/2021</td>\n",
              "      <td>สมุทรปราการ</td>\n",
              "      <td>สถานบันเทิง</td>\n",
              "    </tr>\n",
              "    <tr>\n",
              "      <th>12419</th>\n",
              "      <td>1/18/2021</td>\n",
              "      <td>สมุทรปราการ</td>\n",
              "      <td>สัมผัสใกล้ชิดกับผู้ป่วยยืนยันรายก่อนหน้านี้</td>\n",
              "    </tr>\n",
              "    <tr>\n",
              "      <th>12420</th>\n",
              "      <td>1/18/2021</td>\n",
              "      <td>ชลบุรี</td>\n",
              "      <td>สัมผัสใกล้ชิดกับผู้ป่วยยืนยันรายก่อนหน้านี้</td>\n",
              "    </tr>\n",
              "    <tr>\n",
              "      <th>12421</th>\n",
              "      <td>1/18/2021</td>\n",
              "      <td>ชลบุรี</td>\n",
              "      <td>Cluster ชลบุรี โรงเบียร์ 90</td>\n",
              "    </tr>\n",
              "    <tr>\n",
              "      <th>12422</th>\n",
              "      <td>1/18/2021</td>\n",
              "      <td>ระยอง</td>\n",
              "      <td>สัมผัสใกล้ชิดกับผู้ป่วยยืนยันรายก่อนหน้านี้</td>\n",
              "    </tr>\n",
              "  </tbody>\n",
              "</table>\n",
              "<p>12423 rows × 3 columns</p>\n",
              "</div>"
            ],
            "text/plain": [
              "      announce_date  ...                                         risk\n",
              "0         1/12/2020  ...             คนต่างชาติเดินทางมาจากต่างประเทศ\n",
              "1         1/17/2020  ...             คนต่างชาติเดินทางมาจากต่างประเทศ\n",
              "2         1/22/2020  ...             คนต่างชาติเดินทางมาจากต่างประเทศ\n",
              "3         1/22/2020  ...             คนต่างชาติเดินทางมาจากต่างประเทศ\n",
              "4         1/24/2020  ...             คนต่างชาติเดินทางมาจากต่างประเทศ\n",
              "...             ...  ...                                          ...\n",
              "12418     1/18/2021  ...                                  สถานบันเทิง\n",
              "12419     1/18/2021  ...  สัมผัสใกล้ชิดกับผู้ป่วยยืนยันรายก่อนหน้านี้\n",
              "12420     1/18/2021  ...  สัมผัสใกล้ชิดกับผู้ป่วยยืนยันรายก่อนหน้านี้\n",
              "12421     1/18/2021  ...                  Cluster ชลบุรี โรงเบียร์ 90\n",
              "12422     1/18/2021  ...  สัมผัสใกล้ชิดกับผู้ป่วยยืนยันรายก่อนหน้านี้\n",
              "\n",
              "[12423 rows x 3 columns]"
            ]
          },
          "metadata": {
            "tags": []
          },
          "execution_count": 16
        }
      ]
    },
    {
      "cell_type": "markdown",
      "metadata": {
        "id": "e765Mm6f2QND"
      },
      "source": [
        "ตัดมาเฉพาะ row ที่ต้องการ"
      ]
    },
    {
      "cell_type": "code",
      "metadata": {
        "colab": {
          "base_uri": "https://localhost:8080/",
          "height": 173
        },
        "id": "9RLjK3681vKI",
        "outputId": "b448b2af-635e-4e63-ce45-5b7d965243f3"
      },
      "source": [
        "#แบบง่าย แต่นำไปใช้งานได้ยาก\r\n",
        "data_covid.iloc[1:5,:] # มองเป็นแบบ array"
      ],
      "execution_count": 17,
      "outputs": [
        {
          "output_type": "execute_result",
          "data": {
            "text/html": [
              "<div>\n",
              "<style scoped>\n",
              "    .dataframe tbody tr th:only-of-type {\n",
              "        vertical-align: middle;\n",
              "    }\n",
              "\n",
              "    .dataframe tbody tr th {\n",
              "        vertical-align: top;\n",
              "    }\n",
              "\n",
              "    .dataframe thead th {\n",
              "        text-align: right;\n",
              "    }\n",
              "</style>\n",
              "<table border=\"1\" class=\"dataframe\">\n",
              "  <thead>\n",
              "    <tr style=\"text-align: right;\">\n",
              "      <th></th>\n",
              "      <th>No.</th>\n",
              "      <th>announce_date</th>\n",
              "      <th>notification_date</th>\n",
              "      <th>sex</th>\n",
              "      <th>age</th>\n",
              "      <th>nationality</th>\n",
              "      <th>province_of_isolation</th>\n",
              "      <th>province_of_onset</th>\n",
              "      <th>district_of_onset</th>\n",
              "      <th>risk</th>\n",
              "    </tr>\n",
              "  </thead>\n",
              "  <tbody>\n",
              "    <tr>\n",
              "      <th>1</th>\n",
              "      <td>2</td>\n",
              "      <td>1/17/2020</td>\n",
              "      <td>NaN</td>\n",
              "      <td>หญิง</td>\n",
              "      <td>74.0</td>\n",
              "      <td>China</td>\n",
              "      <td>กรุงเทพมหานคร</td>\n",
              "      <td>กรุงเทพมหานคร</td>\n",
              "      <td>NaN</td>\n",
              "      <td>คนต่างชาติเดินทางมาจากต่างประเทศ</td>\n",
              "    </tr>\n",
              "    <tr>\n",
              "      <th>2</th>\n",
              "      <td>3</td>\n",
              "      <td>1/22/2020</td>\n",
              "      <td>NaN</td>\n",
              "      <td>หญิง</td>\n",
              "      <td>73.0</td>\n",
              "      <td>Thailand</td>\n",
              "      <td>นครปฐม</td>\n",
              "      <td>นครปฐม</td>\n",
              "      <td>เมือง</td>\n",
              "      <td>คนต่างชาติเดินทางมาจากต่างประเทศ</td>\n",
              "    </tr>\n",
              "    <tr>\n",
              "      <th>3</th>\n",
              "      <td>4</td>\n",
              "      <td>1/22/2020</td>\n",
              "      <td>NaN</td>\n",
              "      <td>ชาย</td>\n",
              "      <td>68.0</td>\n",
              "      <td>China</td>\n",
              "      <td>กรุงเทพมหานคร</td>\n",
              "      <td>กรุงเทพมหานคร</td>\n",
              "      <td>NaN</td>\n",
              "      <td>คนต่างชาติเดินทางมาจากต่างประเทศ</td>\n",
              "    </tr>\n",
              "    <tr>\n",
              "      <th>4</th>\n",
              "      <td>5</td>\n",
              "      <td>1/24/2020</td>\n",
              "      <td>NaN</td>\n",
              "      <td>หญิง</td>\n",
              "      <td>66.0</td>\n",
              "      <td>China</td>\n",
              "      <td>นนทบุรี</td>\n",
              "      <td>กรุงเทพมหานคร</td>\n",
              "      <td>NaN</td>\n",
              "      <td>คนต่างชาติเดินทางมาจากต่างประเทศ</td>\n",
              "    </tr>\n",
              "  </tbody>\n",
              "</table>\n",
              "</div>"
            ],
            "text/plain": [
              "   No. announce_date  ... district_of_onset                              risk\n",
              "1    2     1/17/2020  ...               NaN  คนต่างชาติเดินทางมาจากต่างประเทศ\n",
              "2    3     1/22/2020  ...             เมือง  คนต่างชาติเดินทางมาจากต่างประเทศ\n",
              "3    4     1/22/2020  ...               NaN  คนต่างชาติเดินทางมาจากต่างประเทศ\n",
              "4    5     1/24/2020  ...               NaN  คนต่างชาติเดินทางมาจากต่างประเทศ\n",
              "\n",
              "[4 rows x 10 columns]"
            ]
          },
          "metadata": {
            "tags": []
          },
          "execution_count": 17
        }
      ]
    },
    {
      "cell_type": "code",
      "metadata": {
        "colab": {
          "base_uri": "https://localhost:8080/",
          "height": 173
        },
        "id": "w-05LjI82qk2",
        "outputId": "287f91ec-317a-475a-9915-b885198a1c35"
      },
      "source": [
        "#แบบง่าย แต่นำไปใช้งานได้ยาก\r\n",
        "data_covid.iloc[1:5,5:7] # มองเป็นแบบ array"
      ],
      "execution_count": 18,
      "outputs": [
        {
          "output_type": "execute_result",
          "data": {
            "text/html": [
              "<div>\n",
              "<style scoped>\n",
              "    .dataframe tbody tr th:only-of-type {\n",
              "        vertical-align: middle;\n",
              "    }\n",
              "\n",
              "    .dataframe tbody tr th {\n",
              "        vertical-align: top;\n",
              "    }\n",
              "\n",
              "    .dataframe thead th {\n",
              "        text-align: right;\n",
              "    }\n",
              "</style>\n",
              "<table border=\"1\" class=\"dataframe\">\n",
              "  <thead>\n",
              "    <tr style=\"text-align: right;\">\n",
              "      <th></th>\n",
              "      <th>nationality</th>\n",
              "      <th>province_of_isolation</th>\n",
              "    </tr>\n",
              "  </thead>\n",
              "  <tbody>\n",
              "    <tr>\n",
              "      <th>1</th>\n",
              "      <td>China</td>\n",
              "      <td>กรุงเทพมหานคร</td>\n",
              "    </tr>\n",
              "    <tr>\n",
              "      <th>2</th>\n",
              "      <td>Thailand</td>\n",
              "      <td>นครปฐม</td>\n",
              "    </tr>\n",
              "    <tr>\n",
              "      <th>3</th>\n",
              "      <td>China</td>\n",
              "      <td>กรุงเทพมหานคร</td>\n",
              "    </tr>\n",
              "    <tr>\n",
              "      <th>4</th>\n",
              "      <td>China</td>\n",
              "      <td>นนทบุรี</td>\n",
              "    </tr>\n",
              "  </tbody>\n",
              "</table>\n",
              "</div>"
            ],
            "text/plain": [
              "  nationality province_of_isolation\n",
              "1       China         กรุงเทพมหานคร\n",
              "2    Thailand                นครปฐม\n",
              "3       China         กรุงเทพมหานคร\n",
              "4       China               นนทบุรี"
            ]
          },
          "metadata": {
            "tags": []
          },
          "execution_count": 18
        }
      ]
    },
    {
      "cell_type": "code",
      "metadata": {
        "colab": {
          "base_uri": "https://localhost:8080/",
          "height": 602
        },
        "id": "qLIWW4Dl2vVC",
        "outputId": "dda8ff90-3851-4043-e3aa-eacea9c1e26c"
      },
      "source": [
        "#แบบ advanced (ตัดแบบใช้ logic query)\r\n",
        "data_covid[data_covid['province_of_onset']=='ขอนแก่น']"
      ],
      "execution_count": 19,
      "outputs": [
        {
          "output_type": "execute_result",
          "data": {
            "text/html": [
              "<div>\n",
              "<style scoped>\n",
              "    .dataframe tbody tr th:only-of-type {\n",
              "        vertical-align: middle;\n",
              "    }\n",
              "\n",
              "    .dataframe tbody tr th {\n",
              "        vertical-align: top;\n",
              "    }\n",
              "\n",
              "    .dataframe thead th {\n",
              "        text-align: right;\n",
              "    }\n",
              "</style>\n",
              "<table border=\"1\" class=\"dataframe\">\n",
              "  <thead>\n",
              "    <tr style=\"text-align: right;\">\n",
              "      <th></th>\n",
              "      <th>No.</th>\n",
              "      <th>announce_date</th>\n",
              "      <th>notification_date</th>\n",
              "      <th>sex</th>\n",
              "      <th>age</th>\n",
              "      <th>nationality</th>\n",
              "      <th>province_of_isolation</th>\n",
              "      <th>province_of_onset</th>\n",
              "      <th>district_of_onset</th>\n",
              "      <th>risk</th>\n",
              "    </tr>\n",
              "  </thead>\n",
              "  <tbody>\n",
              "    <tr>\n",
              "      <th>180</th>\n",
              "      <td>181</td>\n",
              "      <td>3/18/2020</td>\n",
              "      <td>3/15/2020</td>\n",
              "      <td>ชาย</td>\n",
              "      <td>33.0</td>\n",
              "      <td>Thailand</td>\n",
              "      <td>ขอนแก่น</td>\n",
              "      <td>ขอนแก่น</td>\n",
              "      <td>เมือง</td>\n",
              "      <td>สนามมวย</td>\n",
              "    </tr>\n",
              "    <tr>\n",
              "      <th>462</th>\n",
              "      <td>463</td>\n",
              "      <td>3/22/2020</td>\n",
              "      <td>3/21/2020</td>\n",
              "      <td>หญิง</td>\n",
              "      <td>36.0</td>\n",
              "      <td>Thailand</td>\n",
              "      <td>ขอนแก่น</td>\n",
              "      <td>ขอนแก่น</td>\n",
              "      <td>เมือง</td>\n",
              "      <td>สัมผัสใกล้ชิดกับผู้ป่วยยืนยันรายก่อนหน้านี้</td>\n",
              "    </tr>\n",
              "    <tr>\n",
              "      <th>1466</th>\n",
              "      <td>1467</td>\n",
              "      <td>3/30/2020</td>\n",
              "      <td>3/26/2020</td>\n",
              "      <td>ชาย</td>\n",
              "      <td>19.0</td>\n",
              "      <td>Thailand</td>\n",
              "      <td>ขอนแก่น</td>\n",
              "      <td>ขอนแก่น</td>\n",
              "      <td>เมือง</td>\n",
              "      <td>คนไทยเดินทางกลับจากต่างประเทศ</td>\n",
              "    </tr>\n",
              "    <tr>\n",
              "      <th>1970</th>\n",
              "      <td>1971</td>\n",
              "      <td>4/3/2020</td>\n",
              "      <td>3/31/2020</td>\n",
              "      <td>หญิง</td>\n",
              "      <td>70.0</td>\n",
              "      <td>Thailand</td>\n",
              "      <td>ขอนแก่น</td>\n",
              "      <td>ขอนแก่น</td>\n",
              "      <td>เมือง</td>\n",
              "      <td>ไปสถานที่ชุมชน เช่น ตลาดนัด สถานที่ท่องเที่ยว</td>\n",
              "    </tr>\n",
              "    <tr>\n",
              "      <th>2637</th>\n",
              "      <td>2638</td>\n",
              "      <td>4/15/2020</td>\n",
              "      <td>4/14/2020</td>\n",
              "      <td>หญิง</td>\n",
              "      <td>63.0</td>\n",
              "      <td>Thailand</td>\n",
              "      <td>ขอนแก่น</td>\n",
              "      <td>ขอนแก่น</td>\n",
              "      <td>น้ำพอง</td>\n",
              "      <td>สัมผัสผู้เดินทางจากต่างประเทศ</td>\n",
              "    </tr>\n",
              "    <tr>\n",
              "      <th>2673</th>\n",
              "      <td>2674</td>\n",
              "      <td>4/17/2020</td>\n",
              "      <td>4/16/2020</td>\n",
              "      <td>ชาย</td>\n",
              "      <td>68.0</td>\n",
              "      <td>Thailand</td>\n",
              "      <td>ขอนแก่น</td>\n",
              "      <td>ขอนแก่น</td>\n",
              "      <td>น้ำพอง</td>\n",
              "      <td>สัมผัสใกล้ชิดกับผู้ป่วยยืนยันรายก่อนหน้านี้</td>\n",
              "    </tr>\n",
              "    <tr>\n",
              "      <th>5948</th>\n",
              "      <td>5949</td>\n",
              "      <td>12/26/2020</td>\n",
              "      <td>12/25/2020</td>\n",
              "      <td>หญิง</td>\n",
              "      <td>32.0</td>\n",
              "      <td>Thailand</td>\n",
              "      <td>ขอนแก่น</td>\n",
              "      <td>ขอนแก่น</td>\n",
              "      <td>แวงใหญ่</td>\n",
              "      <td>Cluster สมุทรสาคร</td>\n",
              "    </tr>\n",
              "    <tr>\n",
              "      <th>6082</th>\n",
              "      <td>6083</td>\n",
              "      <td>12/27/2020</td>\n",
              "      <td>12/26/2020</td>\n",
              "      <td>หญิง</td>\n",
              "      <td>36.0</td>\n",
              "      <td>Thailand</td>\n",
              "      <td>ขอนแก่น</td>\n",
              "      <td>ขอนแก่น</td>\n",
              "      <td>แวงใหญ่</td>\n",
              "      <td>Cluster สมุทรสาคร</td>\n",
              "    </tr>\n",
              "    <tr>\n",
              "      <th>9333</th>\n",
              "      <td>9334</td>\n",
              "      <td>1/7/2021</td>\n",
              "      <td>1/6/2021</td>\n",
              "      <td>ชาย</td>\n",
              "      <td>17.0</td>\n",
              "      <td>Thailand</td>\n",
              "      <td>ขอนแก่น</td>\n",
              "      <td>ขอนแก่น</td>\n",
              "      <td>เมือง</td>\n",
              "      <td>อยู่ระหว่างการสอบสวน</td>\n",
              "    </tr>\n",
              "    <tr>\n",
              "      <th>9334</th>\n",
              "      <td>9335</td>\n",
              "      <td>1/7/2021</td>\n",
              "      <td>1/6/2021</td>\n",
              "      <td>ชาย</td>\n",
              "      <td>20.0</td>\n",
              "      <td>Thailand</td>\n",
              "      <td>ขอนแก่น</td>\n",
              "      <td>ขอนแก่น</td>\n",
              "      <td>เมือง</td>\n",
              "      <td>สัมผัสใกล้ชิดกับผู้ป่วยยืนยันรายก่อนหน้านี้</td>\n",
              "    </tr>\n",
              "    <tr>\n",
              "      <th>10610</th>\n",
              "      <td>10611</td>\n",
              "      <td>1/12/2021</td>\n",
              "      <td>1/11/2021</td>\n",
              "      <td>ชาย</td>\n",
              "      <td>17.0</td>\n",
              "      <td>Thailand</td>\n",
              "      <td>ขอนแก่น</td>\n",
              "      <td>ขอนแก่น</td>\n",
              "      <td>เมือง</td>\n",
              "      <td>สัมผัสใกล้ชิดกับผู้ป่วยยืนยันรายก่อนหน้านี้</td>\n",
              "    </tr>\n",
              "    <tr>\n",
              "      <th>11517</th>\n",
              "      <td>11518</td>\n",
              "      <td>1/16/2021</td>\n",
              "      <td>1/15/2021</td>\n",
              "      <td>ชาย</td>\n",
              "      <td>12.0</td>\n",
              "      <td>Thailand</td>\n",
              "      <td>ขอนแก่น</td>\n",
              "      <td>ขอนแก่น</td>\n",
              "      <td>เมือง</td>\n",
              "      <td>อยู่ระหว่างการสอบสวน</td>\n",
              "    </tr>\n",
              "    <tr>\n",
              "      <th>11697</th>\n",
              "      <td>11698</td>\n",
              "      <td>1/17/2021</td>\n",
              "      <td>1/16/2021</td>\n",
              "      <td>หญิง</td>\n",
              "      <td>17.0</td>\n",
              "      <td>Thailand</td>\n",
              "      <td>ขอนแก่น</td>\n",
              "      <td>ขอนแก่น</td>\n",
              "      <td>เมือง</td>\n",
              "      <td>สัมผัสใกล้ชิดกับผู้ป่วยยืนยันรายก่อนหน้านี้</td>\n",
              "    </tr>\n",
              "    <tr>\n",
              "      <th>11698</th>\n",
              "      <td>11699</td>\n",
              "      <td>1/17/2021</td>\n",
              "      <td>1/16/2021</td>\n",
              "      <td>หญิง</td>\n",
              "      <td>37.0</td>\n",
              "      <td>Thailand</td>\n",
              "      <td>ขอนแก่น</td>\n",
              "      <td>ขอนแก่น</td>\n",
              "      <td>เมือง</td>\n",
              "      <td>สัมผัสใกล้ชิดกับผู้ป่วยยืนยันรายก่อนหน้านี้</td>\n",
              "    </tr>\n",
              "  </tbody>\n",
              "</table>\n",
              "</div>"
            ],
            "text/plain": [
              "         No.  ...                                           risk\n",
              "180      181  ...                                        สนามมวย\n",
              "462      463  ...    สัมผัสใกล้ชิดกับผู้ป่วยยืนยันรายก่อนหน้านี้\n",
              "1466    1467  ...                  คนไทยเดินทางกลับจากต่างประเทศ\n",
              "1970    1971  ...  ไปสถานที่ชุมชน เช่น ตลาดนัด สถานที่ท่องเที่ยว\n",
              "2637    2638  ...                  สัมผัสผู้เดินทางจากต่างประเทศ\n",
              "2673    2674  ...    สัมผัสใกล้ชิดกับผู้ป่วยยืนยันรายก่อนหน้านี้\n",
              "5948    5949  ...                              Cluster สมุทรสาคร\n",
              "6082    6083  ...                              Cluster สมุทรสาคร\n",
              "9333    9334  ...                           อยู่ระหว่างการสอบสวน\n",
              "9334    9335  ...    สัมผัสใกล้ชิดกับผู้ป่วยยืนยันรายก่อนหน้านี้\n",
              "10610  10611  ...    สัมผัสใกล้ชิดกับผู้ป่วยยืนยันรายก่อนหน้านี้\n",
              "11517  11518  ...                           อยู่ระหว่างการสอบสวน\n",
              "11697  11698  ...    สัมผัสใกล้ชิดกับผู้ป่วยยืนยันรายก่อนหน้านี้\n",
              "11698  11699  ...    สัมผัสใกล้ชิดกับผู้ป่วยยืนยันรายก่อนหน้านี้\n",
              "\n",
              "[14 rows x 10 columns]"
            ]
          },
          "metadata": {
            "tags": []
          },
          "execution_count": 19
        }
      ]
    },
    {
      "cell_type": "markdown",
      "metadata": {
        "id": "GeYFhrFP3_tN"
      },
      "source": [
        "การชี้ค่าในตารางด้วย data_covid[x] x สามารถมีค่าที่ใส่เข้าไปได้ 2 แบบ\r\n",
        "\r\n",
        "\r\n",
        "1.   ชื่อ column\r\n",
        "2.   ใส่ row ที่ต้องการ (ใส่ list ทีมีขนาดเท่ากับจำนวนแถว แล้วบอกว่าเอาแถวไหนบ้าง โดยใช้ logical expression (``` True/False```))\r\n",
        "\r\n"
      ]
    },
    {
      "cell_type": "code",
      "metadata": {
        "colab": {
          "base_uri": "https://localhost:8080/",
          "height": 297
        },
        "id": "5aNcSNrD3dQA",
        "outputId": "cd5c6adf-80a5-4b88-a8d8-36e9d3e2323b"
      },
      "source": [
        "eight_row_covid = data_covid.iloc[:8,:] #ตารางตัวอย่าง\r\n",
        "eight_row_covid"
      ],
      "execution_count": 20,
      "outputs": [
        {
          "output_type": "execute_result",
          "data": {
            "text/html": [
              "<div>\n",
              "<style scoped>\n",
              "    .dataframe tbody tr th:only-of-type {\n",
              "        vertical-align: middle;\n",
              "    }\n",
              "\n",
              "    .dataframe tbody tr th {\n",
              "        vertical-align: top;\n",
              "    }\n",
              "\n",
              "    .dataframe thead th {\n",
              "        text-align: right;\n",
              "    }\n",
              "</style>\n",
              "<table border=\"1\" class=\"dataframe\">\n",
              "  <thead>\n",
              "    <tr style=\"text-align: right;\">\n",
              "      <th></th>\n",
              "      <th>No.</th>\n",
              "      <th>announce_date</th>\n",
              "      <th>notification_date</th>\n",
              "      <th>sex</th>\n",
              "      <th>age</th>\n",
              "      <th>nationality</th>\n",
              "      <th>province_of_isolation</th>\n",
              "      <th>province_of_onset</th>\n",
              "      <th>district_of_onset</th>\n",
              "      <th>risk</th>\n",
              "    </tr>\n",
              "  </thead>\n",
              "  <tbody>\n",
              "    <tr>\n",
              "      <th>0</th>\n",
              "      <td>1</td>\n",
              "      <td>1/12/2020</td>\n",
              "      <td>NaN</td>\n",
              "      <td>หญิง</td>\n",
              "      <td>61.0</td>\n",
              "      <td>China</td>\n",
              "      <td>กรุงเทพมหานคร</td>\n",
              "      <td>กรุงเทพมหานคร</td>\n",
              "      <td>NaN</td>\n",
              "      <td>คนต่างชาติเดินทางมาจากต่างประเทศ</td>\n",
              "    </tr>\n",
              "    <tr>\n",
              "      <th>1</th>\n",
              "      <td>2</td>\n",
              "      <td>1/17/2020</td>\n",
              "      <td>NaN</td>\n",
              "      <td>หญิง</td>\n",
              "      <td>74.0</td>\n",
              "      <td>China</td>\n",
              "      <td>กรุงเทพมหานคร</td>\n",
              "      <td>กรุงเทพมหานคร</td>\n",
              "      <td>NaN</td>\n",
              "      <td>คนต่างชาติเดินทางมาจากต่างประเทศ</td>\n",
              "    </tr>\n",
              "    <tr>\n",
              "      <th>2</th>\n",
              "      <td>3</td>\n",
              "      <td>1/22/2020</td>\n",
              "      <td>NaN</td>\n",
              "      <td>หญิง</td>\n",
              "      <td>73.0</td>\n",
              "      <td>Thailand</td>\n",
              "      <td>นครปฐม</td>\n",
              "      <td>นครปฐม</td>\n",
              "      <td>เมือง</td>\n",
              "      <td>คนต่างชาติเดินทางมาจากต่างประเทศ</td>\n",
              "    </tr>\n",
              "    <tr>\n",
              "      <th>3</th>\n",
              "      <td>4</td>\n",
              "      <td>1/22/2020</td>\n",
              "      <td>NaN</td>\n",
              "      <td>ชาย</td>\n",
              "      <td>68.0</td>\n",
              "      <td>China</td>\n",
              "      <td>กรุงเทพมหานคร</td>\n",
              "      <td>กรุงเทพมหานคร</td>\n",
              "      <td>NaN</td>\n",
              "      <td>คนต่างชาติเดินทางมาจากต่างประเทศ</td>\n",
              "    </tr>\n",
              "    <tr>\n",
              "      <th>4</th>\n",
              "      <td>5</td>\n",
              "      <td>1/24/2020</td>\n",
              "      <td>NaN</td>\n",
              "      <td>หญิง</td>\n",
              "      <td>66.0</td>\n",
              "      <td>China</td>\n",
              "      <td>นนทบุรี</td>\n",
              "      <td>กรุงเทพมหานคร</td>\n",
              "      <td>NaN</td>\n",
              "      <td>คนต่างชาติเดินทางมาจากต่างประเทศ</td>\n",
              "    </tr>\n",
              "    <tr>\n",
              "      <th>5</th>\n",
              "      <td>6</td>\n",
              "      <td>1/25/2020</td>\n",
              "      <td>NaN</td>\n",
              "      <td>หญิง</td>\n",
              "      <td>33.0</td>\n",
              "      <td>China</td>\n",
              "      <td>กรุงเทพมหานคร</td>\n",
              "      <td>กรุงเทพมหานคร</td>\n",
              "      <td>NaN</td>\n",
              "      <td>คนต่างชาติเดินทางมาจากต่างประเทศ</td>\n",
              "    </tr>\n",
              "    <tr>\n",
              "      <th>6</th>\n",
              "      <td>7</td>\n",
              "      <td>1/26/2020</td>\n",
              "      <td>NaN</td>\n",
              "      <td>หญิง</td>\n",
              "      <td>57.0</td>\n",
              "      <td>China</td>\n",
              "      <td>กรุงเทพมหานคร</td>\n",
              "      <td>กรุงเทพมหานคร</td>\n",
              "      <td>NaN</td>\n",
              "      <td>คนต่างชาติเดินทางมาจากต่างประเทศ</td>\n",
              "    </tr>\n",
              "    <tr>\n",
              "      <th>7</th>\n",
              "      <td>8</td>\n",
              "      <td>1/26/2020</td>\n",
              "      <td>NaN</td>\n",
              "      <td>หญิง</td>\n",
              "      <td>73.0</td>\n",
              "      <td>China</td>\n",
              "      <td>ประจวบคีรีขันธ์</td>\n",
              "      <td>ประจวบคีรีขันธ์</td>\n",
              "      <td>หัวหิน</td>\n",
              "      <td>คนต่างชาติเดินทางมาจากต่างประเทศ</td>\n",
              "    </tr>\n",
              "  </tbody>\n",
              "</table>\n",
              "</div>"
            ],
            "text/plain": [
              "   No. announce_date  ... district_of_onset                              risk\n",
              "0    1     1/12/2020  ...               NaN  คนต่างชาติเดินทางมาจากต่างประเทศ\n",
              "1    2     1/17/2020  ...               NaN  คนต่างชาติเดินทางมาจากต่างประเทศ\n",
              "2    3     1/22/2020  ...             เมือง  คนต่างชาติเดินทางมาจากต่างประเทศ\n",
              "3    4     1/22/2020  ...               NaN  คนต่างชาติเดินทางมาจากต่างประเทศ\n",
              "4    5     1/24/2020  ...               NaN  คนต่างชาติเดินทางมาจากต่างประเทศ\n",
              "5    6     1/25/2020  ...               NaN  คนต่างชาติเดินทางมาจากต่างประเทศ\n",
              "6    7     1/26/2020  ...               NaN  คนต่างชาติเดินทางมาจากต่างประเทศ\n",
              "7    8     1/26/2020  ...            หัวหิน  คนต่างชาติเดินทางมาจากต่างประเทศ\n",
              "\n",
              "[8 rows x 10 columns]"
            ]
          },
          "metadata": {
            "tags": []
          },
          "execution_count": 20
        }
      ]
    },
    {
      "cell_type": "code",
      "metadata": {
        "colab": {
          "base_uri": "https://localhost:8080/",
          "height": 173
        },
        "id": "6gkj6IZd5FRK",
        "outputId": "adc11625-b4ce-42d4-83c3-0b16513c4976"
      },
      "source": [
        "eight_row_covid[[True,False,True,True,False,True,False,False]]"
      ],
      "execution_count": 21,
      "outputs": [
        {
          "output_type": "execute_result",
          "data": {
            "text/html": [
              "<div>\n",
              "<style scoped>\n",
              "    .dataframe tbody tr th:only-of-type {\n",
              "        vertical-align: middle;\n",
              "    }\n",
              "\n",
              "    .dataframe tbody tr th {\n",
              "        vertical-align: top;\n",
              "    }\n",
              "\n",
              "    .dataframe thead th {\n",
              "        text-align: right;\n",
              "    }\n",
              "</style>\n",
              "<table border=\"1\" class=\"dataframe\">\n",
              "  <thead>\n",
              "    <tr style=\"text-align: right;\">\n",
              "      <th></th>\n",
              "      <th>No.</th>\n",
              "      <th>announce_date</th>\n",
              "      <th>notification_date</th>\n",
              "      <th>sex</th>\n",
              "      <th>age</th>\n",
              "      <th>nationality</th>\n",
              "      <th>province_of_isolation</th>\n",
              "      <th>province_of_onset</th>\n",
              "      <th>district_of_onset</th>\n",
              "      <th>risk</th>\n",
              "    </tr>\n",
              "  </thead>\n",
              "  <tbody>\n",
              "    <tr>\n",
              "      <th>0</th>\n",
              "      <td>1</td>\n",
              "      <td>1/12/2020</td>\n",
              "      <td>NaN</td>\n",
              "      <td>หญิง</td>\n",
              "      <td>61.0</td>\n",
              "      <td>China</td>\n",
              "      <td>กรุงเทพมหานคร</td>\n",
              "      <td>กรุงเทพมหานคร</td>\n",
              "      <td>NaN</td>\n",
              "      <td>คนต่างชาติเดินทางมาจากต่างประเทศ</td>\n",
              "    </tr>\n",
              "    <tr>\n",
              "      <th>2</th>\n",
              "      <td>3</td>\n",
              "      <td>1/22/2020</td>\n",
              "      <td>NaN</td>\n",
              "      <td>หญิง</td>\n",
              "      <td>73.0</td>\n",
              "      <td>Thailand</td>\n",
              "      <td>นครปฐม</td>\n",
              "      <td>นครปฐม</td>\n",
              "      <td>เมือง</td>\n",
              "      <td>คนต่างชาติเดินทางมาจากต่างประเทศ</td>\n",
              "    </tr>\n",
              "    <tr>\n",
              "      <th>3</th>\n",
              "      <td>4</td>\n",
              "      <td>1/22/2020</td>\n",
              "      <td>NaN</td>\n",
              "      <td>ชาย</td>\n",
              "      <td>68.0</td>\n",
              "      <td>China</td>\n",
              "      <td>กรุงเทพมหานคร</td>\n",
              "      <td>กรุงเทพมหานคร</td>\n",
              "      <td>NaN</td>\n",
              "      <td>คนต่างชาติเดินทางมาจากต่างประเทศ</td>\n",
              "    </tr>\n",
              "    <tr>\n",
              "      <th>5</th>\n",
              "      <td>6</td>\n",
              "      <td>1/25/2020</td>\n",
              "      <td>NaN</td>\n",
              "      <td>หญิง</td>\n",
              "      <td>33.0</td>\n",
              "      <td>China</td>\n",
              "      <td>กรุงเทพมหานคร</td>\n",
              "      <td>กรุงเทพมหานคร</td>\n",
              "      <td>NaN</td>\n",
              "      <td>คนต่างชาติเดินทางมาจากต่างประเทศ</td>\n",
              "    </tr>\n",
              "  </tbody>\n",
              "</table>\n",
              "</div>"
            ],
            "text/plain": [
              "   No. announce_date  ... district_of_onset                              risk\n",
              "0    1     1/12/2020  ...               NaN  คนต่างชาติเดินทางมาจากต่างประเทศ\n",
              "2    3     1/22/2020  ...             เมือง  คนต่างชาติเดินทางมาจากต่างประเทศ\n",
              "3    4     1/22/2020  ...               NaN  คนต่างชาติเดินทางมาจากต่างประเทศ\n",
              "5    6     1/25/2020  ...               NaN  คนต่างชาติเดินทางมาจากต่างประเทศ\n",
              "\n",
              "[4 rows x 10 columns]"
            ]
          },
          "metadata": {
            "tags": []
          },
          "execution_count": 21
        }
      ]
    },
    {
      "cell_type": "code",
      "metadata": {
        "colab": {
          "base_uri": "https://localhost:8080/"
        },
        "id": "iKs486bp5_Zp",
        "outputId": "40f87597-1a30-47e8-ec75-6ac9491e269f"
      },
      "source": [
        "eight_row_covid['province_of_onset'] == 'กรุงเทพมหานคร' #สร้าง list ของ logical expression"
      ],
      "execution_count": 22,
      "outputs": [
        {
          "output_type": "execute_result",
          "data": {
            "text/plain": [
              "0     True\n",
              "1     True\n",
              "2    False\n",
              "3     True\n",
              "4     True\n",
              "5     True\n",
              "6     True\n",
              "7    False\n",
              "Name: province_of_onset, dtype: bool"
            ]
          },
          "metadata": {
            "tags": []
          },
          "execution_count": 22
        }
      ]
    },
    {
      "cell_type": "code",
      "metadata": {
        "colab": {
          "base_uri": "https://localhost:8080/",
          "height": 867
        },
        "id": "JAxXbEMg6nfP",
        "outputId": "4175750c-3b12-41be-c232-d986f8e159b3"
      },
      "source": [
        "eight_row_covid[eight_row_covid['province_of_onset'] == 'กรุงเทพมหานคร']"
      ],
      "execution_count": 23,
      "outputs": [
        {
          "output_type": "execute_result",
          "data": {
            "text/html": [
              "<div>\n",
              "<style scoped>\n",
              "    .dataframe tbody tr th:only-of-type {\n",
              "        vertical-align: middle;\n",
              "    }\n",
              "\n",
              "    .dataframe tbody tr th {\n",
              "        vertical-align: top;\n",
              "    }\n",
              "\n",
              "    .dataframe thead th {\n",
              "        text-align: right;\n",
              "    }\n",
              "</style>\n",
              "<table border=\"1\" class=\"dataframe\">\n",
              "  <thead>\n",
              "    <tr style=\"text-align: right;\">\n",
              "      <th></th>\n",
              "      <th>No.</th>\n",
              "      <th>announce_date</th>\n",
              "      <th>notification_date</th>\n",
              "      <th>sex</th>\n",
              "      <th>age</th>\n",
              "      <th>nationality</th>\n",
              "      <th>province_of_isolation</th>\n",
              "      <th>province_of_onset</th>\n",
              "      <th>district_of_onset</th>\n",
              "      <th>risk</th>\n",
              "    </tr>\n",
              "  </thead>\n",
              "  <tbody>\n",
              "    <tr>\n",
              "      <th>0</th>\n",
              "      <td>1</td>\n",
              "      <td>1/12/2020</td>\n",
              "      <td>NaN</td>\n",
              "      <td>หญิง</td>\n",
              "      <td>61.0</td>\n",
              "      <td>China</td>\n",
              "      <td>กรุงเทพมหานคร</td>\n",
              "      <td>กรุงเทพมหานคร</td>\n",
              "      <td>NaN</td>\n",
              "      <td>คนต่างชาติเดินทางมาจากต่างประเทศ</td>\n",
              "    </tr>\n",
              "    <tr>\n",
              "      <th>1</th>\n",
              "      <td>2</td>\n",
              "      <td>1/17/2020</td>\n",
              "      <td>NaN</td>\n",
              "      <td>หญิง</td>\n",
              "      <td>74.0</td>\n",
              "      <td>China</td>\n",
              "      <td>กรุงเทพมหานคร</td>\n",
              "      <td>กรุงเทพมหานคร</td>\n",
              "      <td>NaN</td>\n",
              "      <td>คนต่างชาติเดินทางมาจากต่างประเทศ</td>\n",
              "    </tr>\n",
              "    <tr>\n",
              "      <th>3</th>\n",
              "      <td>4</td>\n",
              "      <td>1/22/2020</td>\n",
              "      <td>NaN</td>\n",
              "      <td>ชาย</td>\n",
              "      <td>68.0</td>\n",
              "      <td>China</td>\n",
              "      <td>กรุงเทพมหานคร</td>\n",
              "      <td>กรุงเทพมหานคร</td>\n",
              "      <td>NaN</td>\n",
              "      <td>คนต่างชาติเดินทางมาจากต่างประเทศ</td>\n",
              "    </tr>\n",
              "    <tr>\n",
              "      <th>4</th>\n",
              "      <td>5</td>\n",
              "      <td>1/24/2020</td>\n",
              "      <td>NaN</td>\n",
              "      <td>หญิง</td>\n",
              "      <td>66.0</td>\n",
              "      <td>China</td>\n",
              "      <td>นนทบุรี</td>\n",
              "      <td>กรุงเทพมหานคร</td>\n",
              "      <td>NaN</td>\n",
              "      <td>คนต่างชาติเดินทางมาจากต่างประเทศ</td>\n",
              "    </tr>\n",
              "    <tr>\n",
              "      <th>5</th>\n",
              "      <td>6</td>\n",
              "      <td>1/25/2020</td>\n",
              "      <td>NaN</td>\n",
              "      <td>หญิง</td>\n",
              "      <td>33.0</td>\n",
              "      <td>China</td>\n",
              "      <td>กรุงเทพมหานคร</td>\n",
              "      <td>กรุงเทพมหานคร</td>\n",
              "      <td>NaN</td>\n",
              "      <td>คนต่างชาติเดินทางมาจากต่างประเทศ</td>\n",
              "    </tr>\n",
              "    <tr>\n",
              "      <th>6</th>\n",
              "      <td>7</td>\n",
              "      <td>1/26/2020</td>\n",
              "      <td>NaN</td>\n",
              "      <td>หญิง</td>\n",
              "      <td>57.0</td>\n",
              "      <td>China</td>\n",
              "      <td>กรุงเทพมหานคร</td>\n",
              "      <td>กรุงเทพมหานคร</td>\n",
              "      <td>NaN</td>\n",
              "      <td>คนต่างชาติเดินทางมาจากต่างประเทศ</td>\n",
              "    </tr>\n",
              "  </tbody>\n",
              "</table>\n",
              "</div>"
            ],
            "text/plain": [
              "   No. announce_date  ... district_of_onset                              risk\n",
              "0    1     1/12/2020  ...               NaN  คนต่างชาติเดินทางมาจากต่างประเทศ\n",
              "1    2     1/17/2020  ...               NaN  คนต่างชาติเดินทางมาจากต่างประเทศ\n",
              "3    4     1/22/2020  ...               NaN  คนต่างชาติเดินทางมาจากต่างประเทศ\n",
              "4    5     1/24/2020  ...               NaN  คนต่างชาติเดินทางมาจากต่างประเทศ\n",
              "5    6     1/25/2020  ...               NaN  คนต่างชาติเดินทางมาจากต่างประเทศ\n",
              "6    7     1/26/2020  ...               NaN  คนต่างชาติเดินทางมาจากต่างประเทศ\n",
              "\n",
              "[6 rows x 10 columns]"
            ]
          },
          "metadata": {
            "tags": []
          },
          "execution_count": 23
        }
      ]
    },
    {
      "cell_type": "markdown",
      "metadata": {
        "id": "o06pfPzu-BGH"
      },
      "source": [
        "*Quiz*\r\n",
        "หาจำนวนผู้ป่วยที่่เป็นคน \"**คนต่างชาติเดินทางมาจากต่างประเทศ**\""
      ]
    },
    {
      "cell_type": "code",
      "metadata": {
        "colab": {
          "base_uri": "https://localhost:8080/"
        },
        "id": "eqmLt6Ri-RDh",
        "outputId": "18db8663-d4d9-46a0-c12b-ee12f393b138"
      },
      "source": [
        "data_covid[data_covid['risk'] == 'คนต่างชาติเดินทางมาจากต่างประเทศ'].shape[0]"
      ],
      "execution_count": 24,
      "outputs": [
        {
          "output_type": "execute_result",
          "data": {
            "text/plain": [
              "155"
            ]
          },
          "metadata": {
            "tags": []
          },
          "execution_count": 24
        }
      ]
    },
    {
      "cell_type": "markdown",
      "metadata": {
        "id": "lELLjeNa7-sJ"
      },
      "source": [
        "#HW"
      ]
    },
    {
      "cell_type": "markdown",
      "metadata": {
        "id": "-dlQICfKBlsw"
      },
      "source": [
        "####โจทย์"
      ]
    },
    {
      "cell_type": "markdown",
      "metadata": {
        "id": "-ZKq7cP78CvX"
      },
      "source": [
        "โจทย์\r\n",
        "```\r\n",
        "1. คำนวณอายุเฉลี่ยของผู้หญิงและผู้ชายของข้อมูลทั้งหมด\r\n",
        "2. คำนวณอายุเฉลี่ยของผู้หญิงและผู้ชายของผู้ป่วยในจังหวัดขอนแก่น\r\n",
        "```"
      ]
    },
    {
      "cell_type": "markdown",
      "metadata": {
        "id": "D3JVsG5a3Ghx"
      },
      "source": [
        "####ฟังก์ชัน"
      ]
    },
    {
      "cell_type": "code",
      "metadata": {
        "id": "AGiJnIQ2-VYq"
      },
      "source": [
        "def aver_age(sex,province_of_onset = 'All'):\r\n",
        "  for i in range(len(data_covid)):\r\n",
        "    if province_of_onset == 'All':\r\n",
        "      if sex == data_covid['sex'][i]:\r\n",
        "        sum_age =+ data_covid['age'][i]\r\n",
        "        n=+1\r\n",
        "    else:\r\n",
        "      if sex == data_covid['sex'][i]:\r\n",
        "        if province_of_onset == data_covid['province_of_onset'][i]:\r\n",
        "          sum_age =+ data_covid['age'][i]\r\n",
        "          n=+1\r\n",
        "  return sum_age/n"
      ],
      "execution_count": 62,
      "outputs": []
    },
    {
      "cell_type": "markdown",
      "metadata": {
        "id": "5yJ-61rcBqUH"
      },
      "source": [
        "####คำตอบ"
      ]
    },
    {
      "cell_type": "markdown",
      "metadata": {
        "id": "QNLMSQF8B2pi"
      },
      "source": [
        "#####ข้อที่ 1"
      ]
    },
    {
      "cell_type": "markdown",
      "metadata": {
        "id": "951y7C-8B6Di"
      },
      "source": [
        "```\r\n",
        "ข้อที่ 1.1 คำนวณอายุเฉลี่ยของผู้หญิงของข้อมูลทั้งหมด\r\n",
        "```"
      ]
    },
    {
      "cell_type": "code",
      "metadata": {
        "colab": {
          "base_uri": "https://localhost:8080/"
        },
        "id": "yfxvahlWC9vd",
        "outputId": "9f4673b1-e39c-4890-fd5e-81520e8c3abd"
      },
      "source": [
        "aver_age('หญิง')"
      ],
      "execution_count": 74,
      "outputs": [
        {
          "output_type": "execute_result",
          "data": {
            "text/plain": [
              "27.0"
            ]
          },
          "metadata": {
            "tags": []
          },
          "execution_count": 74
        }
      ]
    },
    {
      "cell_type": "markdown",
      "metadata": {
        "id": "GHucTiTICX5E"
      },
      "source": [
        "```\r\n",
        "ข้อที่ 1.1 คำนวณอายุเฉลี่ยของผู้ชายของข้อมูลทั้งหมด\r\n",
        "```"
      ]
    },
    {
      "cell_type": "code",
      "metadata": {
        "colab": {
          "base_uri": "https://localhost:8080/"
        },
        "id": "mCQ3KzkbDPKm",
        "outputId": "d198514d-9a0f-4843-d30f-7abced5f7b85"
      },
      "source": [
        "aver_age('ชาย')"
      ],
      "execution_count": 75,
      "outputs": [
        {
          "output_type": "execute_result",
          "data": {
            "text/plain": [
              "51.0"
            ]
          },
          "metadata": {
            "tags": []
          },
          "execution_count": 75
        }
      ]
    },
    {
      "cell_type": "markdown",
      "metadata": {
        "id": "aEIBu5lKCbaJ"
      },
      "source": [
        "#####ข้อที่ 2"
      ]
    },
    {
      "cell_type": "markdown",
      "metadata": {
        "id": "lBFqJDfMCfjv"
      },
      "source": [
        "```\r\n",
        "ข้อที่ 2.1 คำนวณอายุเฉลี่ยของผู้หญิงของผู้ป่วยในจังหวัดขอนแก่น\r\n",
        "```"
      ]
    },
    {
      "cell_type": "code",
      "metadata": {
        "colab": {
          "base_uri": "https://localhost:8080/"
        },
        "id": "1cWZxHzNDb39",
        "outputId": "7b634586-3c30-4015-8402-844e061d06bf"
      },
      "source": [
        "aver_age('หญิง','ขอนแก่น')"
      ],
      "execution_count": 76,
      "outputs": [
        {
          "output_type": "execute_result",
          "data": {
            "text/plain": [
              "37.0"
            ]
          },
          "metadata": {
            "tags": []
          },
          "execution_count": 76
        }
      ]
    },
    {
      "cell_type": "markdown",
      "metadata": {
        "id": "L9MEBKBGCtFk"
      },
      "source": [
        "```\r\n",
        "ข้อที่ 2.2 คำนวณอายุเฉลี่ยของผู้ชายของผู้ป่วยในจังหวัดขอนแก่น\r\n",
        "```"
      ]
    },
    {
      "cell_type": "code",
      "metadata": {
        "colab": {
          "base_uri": "https://localhost:8080/"
        },
        "id": "JbBIcUS7Dat5",
        "outputId": "fff938b6-b52b-4246-8ab1-2aa4c0e470ce"
      },
      "source": [
        "aver_age('ชาย','ขอนแก่น')"
      ],
      "execution_count": 77,
      "outputs": [
        {
          "output_type": "execute_result",
          "data": {
            "text/plain": [
              "12.0"
            ]
          },
          "metadata": {
            "tags": []
          },
          "execution_count": 77
        }
      ]
    }
  ]
}