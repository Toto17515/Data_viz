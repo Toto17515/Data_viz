{
  "nbformat": 4,
  "nbformat_minor": 0,
  "metadata": {
    "colab": {
      "name": "Python101.ipynb",
      "provenance": [],
      "collapsed_sections": [
        "dpQ7zVJw1cKU",
        "C2oRexswze_M",
        "wyg6ZMuA7qJg",
        "srSDrmvDzk4A",
        "CrsFLq8z2dkC",
        "0lUfNtRH274D",
        "sokxpxI06i7P",
        "khU37ofU9xB-",
        "GQbz4etrBGM_",
        "HkLROmYVA3Ng",
        "MAJ5TUUrBw7r",
        "w5buorQ-Bwpw",
        "PYHFvacHEqfZ"
      ],
      "authorship_tag": "ABX9TyMqBkuFkM4QzxdpJCrdU+ad",
      "include_colab_link": true
    },
    "kernelspec": {
      "name": "python3",
      "display_name": "Python 3"
    }
  },
  "cells": [
    {
      "cell_type": "markdown",
      "metadata": {
        "id": "view-in-github",
        "colab_type": "text"
      },
      "source": [
        "<a href=\"https://colab.research.google.com/github/Toto17515/Data_viz/blob/main/Python101.ipynb\" target=\"_parent\"><img src=\"https://colab.research.google.com/assets/colab-badge.svg\" alt=\"Open In Colab\"/></a>"
      ]
    },
    {
      "cell_type": "markdown",
      "metadata": {
        "id": "dpQ7zVJw1cKU"
      },
      "source": [
        "#Basic Python"
      ]
    },
    {
      "cell_type": "markdown",
      "metadata": {
        "id": "QAnmMc4E3gSI"
      },
      "source": [
        "-> # Hashtag, sharp ใช้สำหรับคอมเม้น"
      ]
    },
    {
      "cell_type": "code",
      "metadata": {
        "id": "MlKy6He130e-"
      },
      "source": [
        "#ใช้ Hashtag หรือ Sharp พิมพ์ข้อความเเสดงความเห็นในส่วนของโค้ดได้ โปรแกรมจะไม่ทำการ run ข้อความมนี้ "
      ],
      "execution_count": null,
      "outputs": []
    },
    {
      "cell_type": "markdown",
      "metadata": {
        "id": "giKbGiU54RMo"
      },
      "source": [
        "-> sigle qoute(' ') หรือ double qoute(\" \")ใช้สำหรับเเสดงข้อความ"
      ]
    },
    {
      "cell_type": "code",
      "metadata": {
        "colab": {
          "base_uri": "https://localhost:8080/"
        },
        "id": "tvmt21VD4fv3",
        "outputId": "967fff17-84a0-490a-c5c3-3e0571d47af6"
      },
      "source": [
        "'พิมพ์ได้'"
      ],
      "execution_count": null,
      "outputs": [
        {
          "output_type": "execute_result",
          "data": {
            "application/vnd.google.colaboratory.intrinsic+json": {
              "type": "string"
            },
            "text/plain": [
              "'พิมพ์ได้'"
            ]
          },
          "metadata": {
            "tags": []
          },
          "execution_count": 120
        }
      ]
    },
    {
      "cell_type": "code",
      "metadata": {
        "colab": {
          "base_uri": "https://localhost:8080/"
        },
        "id": "0fMgZgs941dG",
        "outputId": "750a0284-e851-4967-afe8-5aea37da421f"
      },
      "source": [
        "\"แสดงผลได้\""
      ],
      "execution_count": null,
      "outputs": [
        {
          "output_type": "execute_result",
          "data": {
            "application/vnd.google.colaboratory.intrinsic+json": {
              "type": "string"
            },
            "text/plain": [
              "'แสดงผลได้'"
            ]
          },
          "metadata": {
            "tags": []
          },
          "execution_count": 121
        }
      ]
    },
    {
      "cell_type": "markdown",
      "metadata": {
        "id": "znuhaFWP_BZj"
      },
      "source": [
        "-> \\\\ คือ backslash  สองตัว ใช้ในการตัดบรรทัดใน code แต่โปรเเเกรมจะมองเป็นบรรทัดเดียวกัน"
      ]
    },
    {
      "cell_type": "code",
      "metadata": {
        "colab": {
          "base_uri": "https://localhost:8080/"
        },
        "id": "MsscJaVW_GXA",
        "outputId": "fdb899f1-c1e6-4b95-b42d-2060b3122203"
      },
      "source": [
        "1 \\\r\n",
        "+ \\\r\n",
        "2"
      ],
      "execution_count": null,
      "outputs": [
        {
          "output_type": "execute_result",
          "data": {
            "text/plain": [
              "3"
            ]
          },
          "metadata": {
            "tags": []
          },
          "execution_count": 122
        }
      ]
    },
    {
      "cell_type": "markdown",
      "metadata": {
        "id": "Gmjk1vlyETNo"
      },
      "source": [
        "-> print() คือ การเเสดงผล"
      ]
    },
    {
      "cell_type": "code",
      "metadata": {
        "colab": {
          "base_uri": "https://localhost:8080/"
        },
        "id": "1f3MGMxKES1Q",
        "outputId": "64eee586-800c-45e5-8c10-97e510e3bfc9"
      },
      "source": [
        "print('พิมพ์ข้อความในนี้ได้')"
      ],
      "execution_count": null,
      "outputs": [
        {
          "output_type": "stream",
          "text": [
            "พิมพ์ข้อความในนี้ได้\n"
          ],
          "name": "stdout"
        }
      ]
    },
    {
      "cell_type": "markdown",
      "metadata": {
        "id": "3CAqRdqjLrAp"
      },
      "source": [
        "-> \\n คือ การตัดจบบรรทัด"
      ]
    },
    {
      "cell_type": "code",
      "metadata": {
        "colab": {
          "base_uri": "https://localhost:8080/"
        },
        "id": "AvtRap-3LnXb",
        "outputId": "7b6316c1-6dc8-4a2e-b076-23c8d18d9fcd"
      },
      "source": [
        "print('สามารถแยกประโยค \\nออกจากกันเป็นสองบรรทัดได้')"
      ],
      "execution_count": null,
      "outputs": [
        {
          "output_type": "stream",
          "text": [
            "สามารถแยกประโยค \n",
            "ออกจากกันเป็นสองบรรทัดได้\n"
          ],
          "name": "stdout"
        }
      ]
    },
    {
      "cell_type": "markdown",
      "metadata": {
        "id": "C2oRexswze_M"
      },
      "source": [
        "#Variables"
      ]
    },
    {
      "cell_type": "markdown",
      "metadata": {
        "id": "x2dIOsexzxyz"
      },
      "source": [
        "**Variables** คือ ค่าที่เก็บไว้เพื่อเรียกใช้  เช่น Pi = 3.14285714286 ตอนเรียกใช้ ไม่ต้องพิมพ์ 3.14285714286 แต่สามารถเรียกใช้ Pi ได้เลย เนื่องจาก Pi มีค่าเท่ากับ 3.14285714286 \r\n",
        "\r\n",
        "**หลักการตั้งชื่อเบื้องต้น**\r\n",
        "\r\n",
        "\r\n",
        "1.   ตั้งให้สื่อ\r\n",
        "2.   ภาษาอังกฤษ\r\n",
        "3.   ใช้ตัวเลขได้แต่ห้ามขึ้นต้นด้วยตัวเลข\r\n",
        "4.   ห้ามเว้นวรรค\r\n",
        "\r\n",
        "\r\n",
        "\r\n"
      ]
    },
    {
      "cell_type": "code",
      "metadata": {
        "colab": {
          "base_uri": "https://localhost:8080/"
        },
        "id": "9MMlo5ND1OO9",
        "outputId": "fb33e208-ad3f-4d0c-8a5b-85509d8fecf6"
      },
      "source": [
        "3.14285714286 #print ปกติ"
      ],
      "execution_count": null,
      "outputs": [
        {
          "output_type": "execute_result",
          "data": {
            "text/plain": [
              "3.14285714286"
            ]
          },
          "metadata": {
            "tags": []
          },
          "execution_count": 125
        }
      ]
    },
    {
      "cell_type": "code",
      "metadata": {
        "id": "5miYKssr1m4E"
      },
      "source": [
        "Pi = 3.14285714286 #กำหนดค่าของตัวแปร ตั้งชื่อว่า Pi"
      ],
      "execution_count": null,
      "outputs": []
    },
    {
      "cell_type": "code",
      "metadata": {
        "colab": {
          "base_uri": "https://localhost:8080/"
        },
        "id": "YpsyR8oW1qRK",
        "outputId": "c77f796d-be20-4368-eb41-a18fd7064d25"
      },
      "source": [
        "Pi #แสดงค่าของ 3.14285714286"
      ],
      "execution_count": null,
      "outputs": [
        {
          "output_type": "execute_result",
          "data": {
            "text/plain": [
              "3.14285714286"
            ]
          },
          "metadata": {
            "tags": []
          },
          "execution_count": 127
        }
      ]
    },
    {
      "cell_type": "markdown",
      "metadata": {
        "id": "wyg6ZMuA7qJg"
      },
      "source": [
        "##Type"
      ]
    },
    {
      "cell_type": "markdown",
      "metadata": {
        "id": "9pVuca-p2C6P"
      },
      "source": [
        " ชนิดของ Variables "
      ]
    },
    {
      "cell_type": "markdown",
      "metadata": {
        "id": "srSDrmvDzk4A"
      },
      "source": [
        "###int"
      ]
    },
    {
      "cell_type": "markdown",
      "metadata": {
        "id": "WdO828yc-IZ6"
      },
      "source": [
        "จำนวนเต็ม"
      ]
    },
    {
      "cell_type": "code",
      "metadata": {
        "id": "4hDL_L-OzeZP"
      },
      "source": [
        "a = 10"
      ],
      "execution_count": null,
      "outputs": []
    },
    {
      "cell_type": "code",
      "metadata": {
        "colab": {
          "base_uri": "https://localhost:8080/"
        },
        "id": "8lxomzLP2VEN",
        "outputId": "ef65e194-ac32-4c91-fdad-5c7ed56567f9"
      },
      "source": [
        "print(a)"
      ],
      "execution_count": null,
      "outputs": [
        {
          "output_type": "stream",
          "text": [
            "10\n"
          ],
          "name": "stdout"
        }
      ]
    },
    {
      "cell_type": "markdown",
      "metadata": {
        "id": "CrsFLq8z2dkC"
      },
      "source": [
        "###float"
      ]
    },
    {
      "cell_type": "markdown",
      "metadata": {
        "id": "We7lcZKk-SRW"
      },
      "source": [
        "จำนวนจริงที่เป็นทศนิยม"
      ]
    },
    {
      "cell_type": "code",
      "metadata": {
        "colab": {
          "base_uri": "https://localhost:8080/"
        },
        "id": "4RrfY-kP2omL",
        "outputId": "fee04334-c667-4f57-f8a9-106d5ecb450d"
      },
      "source": [
        "b = 10.\r\n",
        "print(b)"
      ],
      "execution_count": null,
      "outputs": [
        {
          "output_type": "stream",
          "text": [
            "10.0\n"
          ],
          "name": "stdout"
        }
      ]
    },
    {
      "cell_type": "markdown",
      "metadata": {
        "id": "0lUfNtRH274D"
      },
      "source": [
        "###char "
      ]
    },
    {
      "cell_type": "markdown",
      "metadata": {
        "id": "CKB3qkgb-WJN"
      },
      "source": [
        "ตัวอักษร(character) หรือ ข้อความ (text หรือ string)"
      ]
    },
    {
      "cell_type": "code",
      "metadata": {
        "colab": {
          "base_uri": "https://localhost:8080/"
        },
        "id": "IhfjsQ9H3GwQ",
        "outputId": "18a986d4-f01a-46ef-f058-63539734c3e9"
      },
      "source": [
        "c = 'โตโต้'\r\n",
        "print(c)"
      ],
      "execution_count": null,
      "outputs": [
        {
          "output_type": "stream",
          "text": [
            "โตโต้\n"
          ],
          "name": "stdout"
        }
      ]
    },
    {
      "cell_type": "code",
      "metadata": {
        "colab": {
          "base_uri": "https://localhost:8080/"
        },
        "id": "0tZciYu25h1T",
        "outputId": "db992e68-9ca2-4434-989d-1326b37cbfea"
      },
      "source": [
        "d = '10'\r\n",
        "print(d)"
      ],
      "execution_count": null,
      "outputs": [
        {
          "output_type": "stream",
          "text": [
            "10\n"
          ],
          "name": "stdout"
        }
      ]
    },
    {
      "cell_type": "code",
      "metadata": {
        "colab": {
          "base_uri": "https://localhost:8080/"
        },
        "id": "NrZNtLQi5vGF",
        "outputId": "f9819a8a-a82f-48fe-bb2d-459ea3d4b896"
      },
      "source": [
        "type(d)"
      ],
      "execution_count": null,
      "outputs": [
        {
          "output_type": "execute_result",
          "data": {
            "text/plain": [
              "str"
            ]
          },
          "metadata": {
            "tags": []
          },
          "execution_count": 133
        }
      ]
    },
    {
      "cell_type": "markdown",
      "metadata": {
        "id": "M6_6-1Mu50yd"
      },
      "source": [
        "***หมายเหตุ*** :  ตัวเลขที่เป็น str(string) ไม่สามารถเอามา บวก(+), ลบ(-), คูณ(*) และ หาร(/) ได้"
      ]
    },
    {
      "cell_type": "markdown",
      "metadata": {
        "id": "sokxpxI06i7P"
      },
      "source": [
        "##variable casting"
      ]
    },
    {
      "cell_type": "markdown",
      "metadata": {
        "id": "WIotfgQU72TE"
      },
      "source": [
        "การเปลี่ยนชนิดของข้อมูล"
      ]
    },
    {
      "cell_type": "code",
      "metadata": {
        "colab": {
          "base_uri": "https://localhost:8080/"
        },
        "id": "TnwjHOVQ6gme",
        "outputId": "7bbd16f3-9763-40ab-d1f3-cbad56020f9e"
      },
      "source": [
        "print(a) #จำนวนเต็ม\r\n",
        "print(type(a)) #แสดงชนิดของข้อมูล\r\n",
        "\r\n",
        "print(float(a)) #แปลงจำนวนเต็มเป็นทศนิยม\r\n",
        "print(type(float(a))) #แสดงชนิดของข้อมูล\r\n",
        "\r\n",
        "print(str(a)) #แปลงจำนวนเต็มเป็นข้อความ\r\n",
        "print(type(str(a))) #แสดงชนิดของข้อมูล\r\n",
        "\r\n",
        "print(d) #ข้อความ\r\n",
        "print(type(d)) #แสดงชนิดของข้อมูล\r\n",
        "\r\n",
        "print(int(d)) #แปลงข้อความเป็นจำนวนเต็ม\r\n",
        "print(type(int(d))) #แสดงชนิดของข้อมูล"
      ],
      "execution_count": null,
      "outputs": [
        {
          "output_type": "stream",
          "text": [
            "10\n",
            "<class 'int'>\n",
            "10.0\n",
            "<class 'float'>\n",
            "10\n",
            "<class 'str'>\n",
            "10\n",
            "<class 'str'>\n",
            "10\n",
            "<class 'int'>\n"
          ],
          "name": "stdout"
        }
      ]
    },
    {
      "cell_type": "markdown",
      "metadata": {
        "id": "lMSWNUUW9g4l"
      },
      "source": [
        "ตัวอย่างการนำไปใช้"
      ]
    },
    {
      "cell_type": "code",
      "metadata": {
        "colab": {
          "base_uri": "https://localhost:8080/"
        },
        "id": "pyfgAG0R3N9n",
        "outputId": "5b143da9-b48e-4bfb-d561-32ca2b92e0d9"
      },
      "source": [
        "int(d) + 1"
      ],
      "execution_count": null,
      "outputs": [
        {
          "output_type": "execute_result",
          "data": {
            "text/plain": [
              "11"
            ]
          },
          "metadata": {
            "tags": []
          },
          "execution_count": 135
        }
      ]
    },
    {
      "cell_type": "markdown",
      "metadata": {
        "id": "khU37ofU9xB-"
      },
      "source": [
        "#Operation"
      ]
    },
    {
      "cell_type": "markdown",
      "metadata": {
        "id": "pT4MLIYWBOib"
      },
      "source": [
        "Operation คือ การดำเนินการทางคณิตศาสตร์ มีตัวดำเนินการ(operators) ดังนี้"
      ]
    },
    {
      "cell_type": "markdown",
      "metadata": {
        "id": "GQbz4etrBGM_"
      },
      "source": [
        "###Plus(\"+\")"
      ]
    },
    {
      "cell_type": "markdown",
      "metadata": {
        "id": "1AJWh9aJ_9XT"
      },
      "source": [
        "บวก(+)"
      ]
    },
    {
      "cell_type": "code",
      "metadata": {
        "colab": {
          "base_uri": "https://localhost:8080/"
        },
        "id": "pw4BDYt_AFHT",
        "outputId": "72eac4e6-eb96-4bdc-f857-e1dca9c4e415"
      },
      "source": [
        "a+b"
      ],
      "execution_count": null,
      "outputs": [
        {
          "output_type": "execute_result",
          "data": {
            "text/plain": [
              "20.0"
            ]
          },
          "metadata": {
            "tags": []
          },
          "execution_count": 136
        }
      ]
    },
    {
      "cell_type": "code",
      "metadata": {
        "id": "0ykJyT1AAG6I"
      },
      "source": [
        "a_plus_b = a + b"
      ],
      "execution_count": null,
      "outputs": []
    },
    {
      "cell_type": "code",
      "metadata": {
        "colab": {
          "base_uri": "https://localhost:8080/"
        },
        "id": "3oeK_mFhAO_H",
        "outputId": "de5cabfc-8243-4dee-906a-72aad11880f5"
      },
      "source": [
        "a_plus_b"
      ],
      "execution_count": null,
      "outputs": [
        {
          "output_type": "execute_result",
          "data": {
            "text/plain": [
              "20.0"
            ]
          },
          "metadata": {
            "tags": []
          },
          "execution_count": 138
        }
      ]
    },
    {
      "cell_type": "markdown",
      "metadata": {
        "id": "HkLROmYVA3Ng"
      },
      "source": [
        "###Minus(\"-\")"
      ]
    },
    {
      "cell_type": "markdown",
      "metadata": {
        "id": "m_99Y1f0Aqmf"
      },
      "source": [
        "การลบ(-)"
      ]
    },
    {
      "cell_type": "code",
      "metadata": {
        "id": "UCSqup2TBeEi"
      },
      "source": [
        "e = 50"
      ],
      "execution_count": null,
      "outputs": []
    },
    {
      "cell_type": "code",
      "metadata": {
        "colab": {
          "base_uri": "https://localhost:8080/"
        },
        "id": "AiHY6dZTBhyy",
        "outputId": "918a4f3b-4034-4f48-b9c9-99a5b6caef19"
      },
      "source": [
        "e-a"
      ],
      "execution_count": null,
      "outputs": [
        {
          "output_type": "execute_result",
          "data": {
            "text/plain": [
              "40"
            ]
          },
          "metadata": {
            "tags": []
          },
          "execution_count": 140
        }
      ]
    },
    {
      "cell_type": "code",
      "metadata": {
        "id": "rn7PsvBVBk-3"
      },
      "source": [
        "e_minus_a = e - a"
      ],
      "execution_count": null,
      "outputs": []
    },
    {
      "cell_type": "code",
      "metadata": {
        "colab": {
          "base_uri": "https://localhost:8080/"
        },
        "id": "Rey6QozzBrE6",
        "outputId": "32a5cb99-0275-4f42-eed5-9d4e6fa73a18"
      },
      "source": [
        "e_minus_a"
      ],
      "execution_count": null,
      "outputs": [
        {
          "output_type": "execute_result",
          "data": {
            "text/plain": [
              "40"
            ]
          },
          "metadata": {
            "tags": []
          },
          "execution_count": 142
        }
      ]
    },
    {
      "cell_type": "markdown",
      "metadata": {
        "id": "MAJ5TUUrBw7r"
      },
      "source": [
        "###Multiplied(\"*\")"
      ]
    },
    {
      "cell_type": "markdown",
      "metadata": {
        "id": "Bpbb6HUoCAVV"
      },
      "source": [
        "การคูณ(*)"
      ]
    },
    {
      "cell_type": "code",
      "metadata": {
        "colab": {
          "base_uri": "https://localhost:8080/"
        },
        "id": "pHdBHL73CDkx",
        "outputId": "73223807-a64a-4883-fc2e-6bacb4e7b815"
      },
      "source": [
        "a*b"
      ],
      "execution_count": null,
      "outputs": [
        {
          "output_type": "execute_result",
          "data": {
            "text/plain": [
              "100.0"
            ]
          },
          "metadata": {
            "tags": []
          },
          "execution_count": 143
        }
      ]
    },
    {
      "cell_type": "code",
      "metadata": {
        "colab": {
          "base_uri": "https://localhost:8080/"
        },
        "id": "YLch8bCnCGZ2",
        "outputId": "ad176a80-ce22-496a-ebfe-99f51d02e7b1"
      },
      "source": [
        "a*e"
      ],
      "execution_count": null,
      "outputs": [
        {
          "output_type": "execute_result",
          "data": {
            "text/plain": [
              "500"
            ]
          },
          "metadata": {
            "tags": []
          },
          "execution_count": 144
        }
      ]
    },
    {
      "cell_type": "code",
      "metadata": {
        "id": "yxlUeD4hCJin"
      },
      "source": [
        "ab = a*b"
      ],
      "execution_count": null,
      "outputs": []
    },
    {
      "cell_type": "code",
      "metadata": {
        "colab": {
          "base_uri": "https://localhost:8080/"
        },
        "id": "ZDpMfdyqCM7y",
        "outputId": "d6f3e097-f9db-4514-d4e2-b077a565e2a0"
      },
      "source": [
        "ab"
      ],
      "execution_count": null,
      "outputs": [
        {
          "output_type": "execute_result",
          "data": {
            "text/plain": [
              "100.0"
            ]
          },
          "metadata": {
            "tags": []
          },
          "execution_count": 146
        }
      ]
    },
    {
      "cell_type": "markdown",
      "metadata": {
        "id": "ss_g5cUQB-i_"
      },
      "source": [
        ""
      ]
    },
    {
      "cell_type": "markdown",
      "metadata": {
        "id": "w5buorQ-Bwpw"
      },
      "source": [
        "###Divide(\"/\")"
      ]
    },
    {
      "cell_type": "markdown",
      "metadata": {
        "id": "kfINxqYwCTMU"
      },
      "source": [
        "การหาร(/)"
      ]
    },
    {
      "cell_type": "code",
      "metadata": {
        "colab": {
          "base_uri": "https://localhost:8080/"
        },
        "id": "JXrNQSPfCfcD",
        "outputId": "e8e62f55-071c-428c-cd37-f62745d72c98"
      },
      "source": [
        "7/3"
      ],
      "execution_count": null,
      "outputs": [
        {
          "output_type": "execute_result",
          "data": {
            "text/plain": [
              "2.3333333333333335"
            ]
          },
          "metadata": {
            "tags": []
          },
          "execution_count": 147
        }
      ]
    },
    {
      "cell_type": "markdown",
      "metadata": {
        "id": "wsmZYqubDfm7"
      },
      "source": [
        "นอกจากนี้การหารแบบพิเศษ ได้แก่ การหารเอาเศษ(%) และการหารเอาเเค่ส่วน(//) \r\n",
        "\r\n",
        "*โดยใช้ตัวอย่างการคำนวณ 7 หาร 2 เท่ากับ 2 เศษ 1*"
      ]
    },
    {
      "cell_type": "markdown",
      "metadata": {
        "id": "QZvlxrKPfOxz"
      },
      "source": [
        "% คือ modulo หมายถึงการหารเอาเศษ\r\n"
      ]
    },
    {
      "cell_type": "code",
      "metadata": {
        "colab": {
          "base_uri": "https://localhost:8080/"
        },
        "id": "pRFrAvVVC0rs",
        "outputId": "7cffce46-3a19-46ac-9888-7a281841269d"
      },
      "source": [
        "7%3"
      ],
      "execution_count": null,
      "outputs": [
        {
          "output_type": "execute_result",
          "data": {
            "text/plain": [
              "1"
            ]
          },
          "metadata": {
            "tags": []
          },
          "execution_count": 148
        }
      ]
    },
    {
      "cell_type": "markdown",
      "metadata": {
        "id": "Lydvm7nYC_i9"
      },
      "source": [
        "// คือ การหารไม่เอาเศษ"
      ]
    },
    {
      "cell_type": "code",
      "metadata": {
        "colab": {
          "base_uri": "https://localhost:8080/"
        },
        "id": "mYEyeAY5C9Li",
        "outputId": "1feaeaeb-c35f-4e36-a1d0-f83b66f4737e"
      },
      "source": [
        "7//3"
      ],
      "execution_count": null,
      "outputs": [
        {
          "output_type": "execute_result",
          "data": {
            "text/plain": [
              "2"
            ]
          },
          "metadata": {
            "tags": []
          },
          "execution_count": 149
        }
      ]
    },
    {
      "cell_type": "markdown",
      "metadata": {
        "id": "PYHFvacHEqfZ"
      },
      "source": [
        "#Print"
      ]
    },
    {
      "cell_type": "markdown",
      "metadata": {
        "id": "IUJirkI4JTpU"
      },
      "source": [
        "คำสั่ง print พิเศษ (format string)"
      ]
    },
    {
      "cell_type": "code",
      "metadata": {
        "colab": {
          "base_uri": "https://localhost:8080/"
        },
        "id": "I1YTD7RZJf7t",
        "outputId": "624ec189-03f6-47c4-da07-a793ec990756"
      },
      "source": [
        "print('ตัวแปร') #สิ่งที่อยู่ข้างในวงเล็ลคือ ตัวแปร และ string"
      ],
      "execution_count": null,
      "outputs": [
        {
          "output_type": "stream",
          "text": [
            "ตัวแปร\n"
          ],
          "name": "stdout"
        }
      ]
    },
    {
      "cell_type": "code",
      "metadata": {
        "colab": {
          "base_uri": "https://localhost:8080/"
        },
        "id": "V6c98w9cJs9n",
        "outputId": "06ba4923-a86f-47a1-cbc7-f72a404d2881"
      },
      "source": [
        "print(f'% คือการหารเอาเศษ เช่น 7%3 = {7%3}') # เพิ่ม f หน้า 'string' และใช้ {} ใส่ code"
      ],
      "execution_count": null,
      "outputs": [
        {
          "output_type": "stream",
          "text": [
            "% คือการหารเอาเศษ เช่น 7%3 = 1\n"
          ],
          "name": "stdout"
        }
      ]
    },
    {
      "cell_type": "code",
      "metadata": {
        "colab": {
          "base_uri": "https://localhost:8080/"
        },
        "id": "WFc36qKZKKEw",
        "outputId": "42e8fecd-e606-463e-f5d7-be50901df1de"
      },
      "source": [
        "print(f'/ คือการหารปกติ เช่น 7/3 = {7/3} \\n\\\r\n",
        "% คือการหารเอาเศษ เช่น 7%3 = {7%3} \\n\\\r\n",
        "// คือการหารเอาส่วน เช่น 7//3 = {7//3}\\n\\n\\\r\n",
        "อีกวิธี่ที่หารเอาส่วนคือการกำหนดคำตอบเป็น int เช่น int(7/3) = {int(7/3)}') \r\n"
      ],
      "execution_count": null,
      "outputs": [
        {
          "output_type": "stream",
          "text": [
            "/ คือการหารปกติ เช่น 7/3 = 2.3333333333333335 \n",
            "% คือการหารเอาเศษ เช่น 7%3 = 1 \n",
            "// คือการหารเอาส่วน เช่น 7//3 = 2\n",
            "\n",
            "อีกวิธี่ที่หารเอาส่วนคือการกำหนดคำตอบเป็น int เช่น int(7/3) = 2\n"
          ],
          "name": "stdout"
        }
      ]
    },
    {
      "cell_type": "markdown",
      "metadata": {
        "id": "nFTGzT0uaxOi"
      },
      "source": [
        "#Data Structure"
      ]
    },
    {
      "cell_type": "markdown",
      "metadata": {
        "id": "NrI6Wcx5bSKk"
      },
      "source": [
        "##List"
      ]
    },
    {
      "cell_type": "markdown",
      "metadata": {
        "id": "2FmUulODbzJN"
      },
      "source": [
        "การสร้าง list แบบที่ 1 การใช้เครื่องหมาย [ ]"
      ]
    },
    {
      "cell_type": "code",
      "metadata": {
        "id": "cJAj366Aa08q"
      },
      "source": [
        "list_a = []\r\n",
        "list_b = [1,5,'v']"
      ],
      "execution_count": null,
      "outputs": []
    },
    {
      "cell_type": "code",
      "metadata": {
        "colab": {
          "base_uri": "https://localhost:8080/"
        },
        "id": "ZWU6rzWUbKvv",
        "outputId": "5fbc86e4-a85b-4af1-c174-0564efb279b9"
      },
      "source": [
        "print(list_a)\r\n",
        "print(list_b)"
      ],
      "execution_count": null,
      "outputs": [
        {
          "output_type": "stream",
          "text": [
            "[]\n",
            "[1, 5, 'v']\n"
          ],
          "name": "stdout"
        }
      ]
    },
    {
      "cell_type": "markdown",
      "metadata": {
        "id": "idwaAuEYOz3-"
      },
      "source": [
        "การสร้าง list แบบที่ 2 การเลือกใช้ list()"
      ]
    },
    {
      "cell_type": "code",
      "metadata": {
        "colab": {
          "base_uri": "https://localhost:8080/"
        },
        "id": "jTk6HgxzOxlh",
        "outputId": "19cdce73-78da-49f6-cf89-8ca7a51bba66"
      },
      "source": [
        "list_c = list()\r\n",
        "print(list_c)"
      ],
      "execution_count": null,
      "outputs": [
        {
          "output_type": "stream",
          "text": [
            "[]\n"
          ],
          "name": "stdout"
        }
      ]
    },
    {
      "cell_type": "markdown",
      "metadata": {
        "id": "rcX9nKvxba4n"
      },
      "source": [
        "ลำดับของ list"
      ]
    },
    {
      "cell_type": "code",
      "metadata": {
        "colab": {
          "base_uri": "https://localhost:8080/"
        },
        "id": "G3UmhUk9bpuC",
        "outputId": "24922d73-1878-476b-bab1-7a8592d553a0"
      },
      "source": [
        "list_b[0] #ลำดับที่อยู่ใน list มีความสำคัญ (ลำดับใน list เริ่มจาก 0,1,2,...)"
      ],
      "execution_count": null,
      "outputs": [
        {
          "output_type": "execute_result",
          "data": {
            "text/plain": [
              "1"
            ]
          },
          "metadata": {
            "tags": []
          },
          "execution_count": 156
        }
      ]
    },
    {
      "cell_type": "code",
      "metadata": {
        "colab": {
          "base_uri": "https://localhost:8080/",
          "height": 35
        },
        "id": "H1i3sixhQIri",
        "outputId": "518365cd-1560-400a-fca0-dcbe1ba20aef"
      },
      "source": [
        "list_b[2]"
      ],
      "execution_count": null,
      "outputs": [
        {
          "output_type": "execute_result",
          "data": {
            "application/vnd.google.colaboratory.intrinsic+json": {
              "type": "string"
            },
            "text/plain": [
              "'v'"
            ]
          },
          "metadata": {
            "tags": []
          },
          "execution_count": 157
        }
      ]
    },
    {
      "cell_type": "markdown",
      "metadata": {
        "id": "TV9JQFFwcYRH"
      },
      "source": [
        "append() คือ การเพิ่มสมาชิกใน list"
      ]
    },
    {
      "cell_type": "code",
      "metadata": {
        "colab": {
          "base_uri": "https://localhost:8080/"
        },
        "id": "vIvQmcu_cRPJ",
        "outputId": "9d9a742d-7e05-4825-dbdf-92f6ed872593"
      },
      "source": [
        "list_b.append('U') #เพิ่ม U เป็นสมาชิกใน list\r\n",
        "print(list_b)"
      ],
      "execution_count": null,
      "outputs": [
        {
          "output_type": "stream",
          "text": [
            "[1, 5, 'v', 'U']\n"
          ],
          "name": "stdout"
        }
      ]
    },
    {
      "cell_type": "markdown",
      "metadata": {
        "id": "ivm1vAwMQhkz"
      },
      "source": [
        "pop() คือ การดูสมาชิกตัวสุดท้ายใน list"
      ]
    },
    {
      "cell_type": "code",
      "metadata": {
        "colab": {
          "base_uri": "https://localhost:8080/",
          "height": 35
        },
        "id": "8SFG-43Db_Id",
        "outputId": "2d7ece2f-43f4-4ee7-c975-9e6862203316"
      },
      "source": [
        "list_b.pop() #ดึงสมาชิกตัวสุดท้ายออกมาเเสดงผล"
      ],
      "execution_count": null,
      "outputs": [
        {
          "output_type": "execute_result",
          "data": {
            "application/vnd.google.colaboratory.intrinsic+json": {
              "type": "string"
            },
            "text/plain": [
              "'U'"
            ]
          },
          "metadata": {
            "tags": []
          },
          "execution_count": 159
        }
      ]
    },
    {
      "cell_type": "code",
      "metadata": {
        "colab": {
          "base_uri": "https://localhost:8080/"
        },
        "id": "EjFaLuTCcsJt",
        "outputId": "607be0e2-9786-4652-b246-0cb28fa279fb"
      },
      "source": [
        "list_c.append(list_b)\r\n",
        "print(list_c)"
      ],
      "execution_count": null,
      "outputs": [
        {
          "output_type": "stream",
          "text": [
            "[[1, 5, 'v']]\n"
          ],
          "name": "stdout"
        }
      ]
    },
    {
      "cell_type": "markdown",
      "metadata": {
        "id": "6Xp4t8kRdGsh"
      },
      "source": [
        "String > list of characters"
      ]
    },
    {
      "cell_type": "code",
      "metadata": {
        "colab": {
          "base_uri": "https://localhost:8080/",
          "height": 35
        },
        "id": "8tsGdIupc8Bh",
        "outputId": "7efa15e8-0a69-46c0-d158-abdd45a0b175"
      },
      "source": [
        "t = 'python is easy'\r\n",
        "t"
      ],
      "execution_count": 1,
      "outputs": [
        {
          "output_type": "execute_result",
          "data": {
            "application/vnd.google.colaboratory.intrinsic+json": {
              "type": "string"
            },
            "text/plain": [
              "'python is easy'"
            ]
          },
          "metadata": {
            "tags": []
          },
          "execution_count": 1
        }
      ]
    },
    {
      "cell_type": "code",
      "metadata": {
        "colab": {
          "base_uri": "https://localhost:8080/"
        },
        "id": "zYJbXxdodQ5c",
        "outputId": "f3790faf-8959-47ec-f7b1-8e85f9f930af"
      },
      "source": [
        "len(list_b) #len คือคำสั่งตรวจสอบความยาวของ list (จำนวนสมาชิก)"
      ],
      "execution_count": null,
      "outputs": [
        {
          "output_type": "execute_result",
          "data": {
            "text/plain": [
              "3"
            ]
          },
          "metadata": {
            "tags": []
          },
          "execution_count": 162
        }
      ]
    },
    {
      "cell_type": "code",
      "metadata": {
        "colab": {
          "base_uri": "https://localhost:8080/"
        },
        "id": "zgNZFXoBdroO",
        "outputId": "4b2c63b7-fa34-4590-b070-272f66c4f8cd"
      },
      "source": [
        "len(t)"
      ],
      "execution_count": null,
      "outputs": [
        {
          "output_type": "execute_result",
          "data": {
            "text/plain": [
              "14"
            ]
          },
          "metadata": {
            "tags": []
          },
          "execution_count": 163
        }
      ]
    },
    {
      "cell_type": "markdown",
      "metadata": {
        "id": "wVjo7NvXd-kq"
      },
      "source": [
        "access a member of list (list &  sting)\r\n",
        "\r\n",
        "โดยการเริ่มจาก 0\r\n",
        "\r\n",
        "ตัวสุดท้ายคือ -1\r\n",
        "\r\n",
        "ตัวที่อยู่ข้างใน [ ] เราเรียกว่า index (ตัวชี้)"
      ]
    },
    {
      "cell_type": "code",
      "metadata": {
        "colab": {
          "base_uri": "https://localhost:8080/",
          "height": 35
        },
        "id": "AMATc31uecLc",
        "outputId": "0cf51237-832a-4fe8-e54c-38d223089228"
      },
      "source": [
        "t[1]"
      ],
      "execution_count": null,
      "outputs": [
        {
          "output_type": "execute_result",
          "data": {
            "application/vnd.google.colaboratory.intrinsic+json": {
              "type": "string"
            },
            "text/plain": [
              "'y'"
            ]
          },
          "metadata": {
            "tags": []
          },
          "execution_count": 164
        }
      ]
    },
    {
      "cell_type": "code",
      "metadata": {
        "colab": {
          "base_uri": "https://localhost:8080/",
          "height": 35
        },
        "id": "IkFC3oRkeiiS",
        "outputId": "99ad87bf-0b71-4336-f7de-23cbf5b4477c"
      },
      "source": [
        "t[-1]"
      ],
      "execution_count": null,
      "outputs": [
        {
          "output_type": "execute_result",
          "data": {
            "application/vnd.google.colaboratory.intrinsic+json": {
              "type": "string"
            },
            "text/plain": [
              "'y'"
            ]
          },
          "metadata": {
            "tags": []
          },
          "execution_count": 165
        }
      ]
    },
    {
      "cell_type": "code",
      "metadata": {
        "colab": {
          "base_uri": "https://localhost:8080/",
          "height": 35
        },
        "id": "ooPBeIttejq9",
        "outputId": "25fb016f-696b-4fa8-dd45-bca8606b535d"
      },
      "source": [
        "t[-3]"
      ],
      "execution_count": null,
      "outputs": [
        {
          "output_type": "execute_result",
          "data": {
            "application/vnd.google.colaboratory.intrinsic+json": {
              "type": "string"
            },
            "text/plain": [
              "'a'"
            ]
          },
          "metadata": {
            "tags": []
          },
          "execution_count": 166
        }
      ]
    },
    {
      "cell_type": "markdown",
      "metadata": {
        "id": "yM1RaLkpfWnU"
      },
      "source": [
        "list slicing สามารถทำได้โดยใช้ colon(:)\r\n",
        "\r\n",
        "[a:b] -> [a,b)"
      ]
    },
    {
      "cell_type": "code",
      "metadata": {
        "colab": {
          "base_uri": "https://localhost:8080/"
        },
        "id": "7_qUCeOyhrvM",
        "outputId": "6aa20681-77c7-4dfb-ed81-8bbbdc149f5a"
      },
      "source": [
        "print(t)"
      ],
      "execution_count": null,
      "outputs": [
        {
          "output_type": "stream",
          "text": [
            "python is easy\n"
          ],
          "name": "stdout"
        }
      ]
    },
    {
      "cell_type": "code",
      "metadata": {
        "colab": {
          "base_uri": "https://localhost:8080/",
          "height": 35
        },
        "id": "fraLT8uyex_A",
        "outputId": "b4d8f4d3-d3f3-4744-c575-0dea065ca591"
      },
      "source": [
        "t[7:9]"
      ],
      "execution_count": 2,
      "outputs": [
        {
          "output_type": "execute_result",
          "data": {
            "application/vnd.google.colaboratory.intrinsic+json": {
              "type": "string"
            },
            "text/plain": [
              "'is'"
            ]
          },
          "metadata": {
            "tags": []
          },
          "execution_count": 2
        }
      ]
    },
    {
      "cell_type": "markdown",
      "metadata": {
        "id": "eN2FzqRZZ4DP"
      },
      "source": [
        "list step สามารถทำได้โดยใช้ colon(:)"
      ]
    },
    {
      "cell_type": "code",
      "metadata": {
        "colab": {
          "base_uri": "https://localhost:8080/"
        },
        "id": "KLbqUWk3aG0u",
        "outputId": "c8623a64-241b-41a0-f2eb-1c8edfbb626e"
      },
      "source": [
        "print(t[::2]) #การเพิ่ม : ตัวหลังอีกตัวของ slicing จะเป็นการ step"
      ],
      "execution_count": 5,
      "outputs": [
        {
          "output_type": "stream",
          "text": [
            "pto ses\n"
          ],
          "name": "stdout"
        }
      ]
    },
    {
      "cell_type": "code",
      "metadata": {
        "colab": {
          "base_uri": "https://localhost:8080/"
        },
        "id": "ixFop86sb9f2",
        "outputId": "bbc8cb38-5046-4d73-ea0d-23455dbd3eeb"
      },
      "source": [
        "print(list(range(10)))\r\n",
        "print(list(range(10))[::2])"
      ],
      "execution_count": 6,
      "outputs": [
        {
          "output_type": "stream",
          "text": [
            "[0, 1, 2, 3, 4, 5, 6, 7, 8, 9]\n",
            "[0, 2, 4, 6, 8]\n"
          ],
          "name": "stdout"
        }
      ]
    },
    {
      "cell_type": "code",
      "metadata": {
        "colab": {
          "base_uri": "https://localhost:8080/"
        },
        "id": "WoFY64IScNK3",
        "outputId": "0ec3dafd-a9ca-42bd-889d-226d1a4e9d8d"
      },
      "source": [
        "print(t[2::2])"
      ],
      "execution_count": 7,
      "outputs": [
        {
          "output_type": "stream",
          "text": [
            "to ses\n"
          ],
          "name": "stdout"
        }
      ]
    },
    {
      "cell_type": "markdown",
      "metadata": {
        "id": "pSVcH-42hI4-"
      },
      "source": [
        "ถ้าเว้นว่างหน้า : หมายความว่า คือ เรื่มตั้งแต่ตัวเเรก\r\n",
        "\r\n",
        "ถ้าเว้นว่างหลัง : หมายความว่า คือ ไปจนถึงตัวสุดท้าย"
      ]
    },
    {
      "cell_type": "code",
      "metadata": {
        "colab": {
          "base_uri": "https://localhost:8080/"
        },
        "id": "l3GTbA-9fvvm",
        "outputId": "c833ead6-56f5-42f6-b084-65f33f886e2c"
      },
      "source": [
        "print(t[:6])\r\n",
        "print(t[10:])\r\n",
        "print(t[-4:])\r\n",
        "print(t[:])"
      ],
      "execution_count": null,
      "outputs": [
        {
          "output_type": "stream",
          "text": [
            "python\n",
            "easy\n",
            "easy\n",
            "python is easy\n"
          ],
          "name": "stdout"
        }
      ]
    },
    {
      "cell_type": "markdown",
      "metadata": {
        "id": "uoVDl3jwiDvG"
      },
      "source": [
        "function for string\r\n",
        "\r\n",
        "เราสามารถเอา list มาต่อกันได้เลยด้วย +"
      ]
    },
    {
      "cell_type": "code",
      "metadata": {
        "colab": {
          "base_uri": "https://localhost:8080/",
          "height": 35
        },
        "id": "g7p1kGNNh0ix",
        "outputId": "a96e904c-1142-4cf6-e393-edee736fd5ea"
      },
      "source": [
        "t + '?'"
      ],
      "execution_count": null,
      "outputs": [
        {
          "output_type": "execute_result",
          "data": {
            "application/vnd.google.colaboratory.intrinsic+json": {
              "type": "string"
            },
            "text/plain": [
              "'python is easy?'"
            ]
          },
          "metadata": {
            "tags": []
          },
          "execution_count": 170
        }
      ]
    },
    {
      "cell_type": "code",
      "metadata": {
        "colab": {
          "base_uri": "https://localhost:8080/"
        },
        "id": "Yg31bcDmioZv",
        "outputId": "d54da2e7-97c5-47bb-cd5b-bd02c6483a11"
      },
      "source": [
        "list_b + list_b"
      ],
      "execution_count": null,
      "outputs": [
        {
          "output_type": "execute_result",
          "data": {
            "text/plain": [
              "[1, 5, 'v', 1, 5, 'v']"
            ]
          },
          "metadata": {
            "tags": []
          },
          "execution_count": 171
        }
      ]
    },
    {
      "cell_type": "markdown",
      "metadata": {
        "id": "2ev2Gytmi20I"
      },
      "source": [
        "**หมายเหตุ:** ไม่สามารถเอา list ปกติ มาต่อกับ string ได้"
      ]
    },
    {
      "cell_type": "markdown",
      "metadata": {
        "id": "jugpLItjjNiF"
      },
      "source": [
        "การเเบ่ง string ตามสัญลักษณ์ที่กำหนด -> split string"
      ]
    },
    {
      "cell_type": "code",
      "metadata": {
        "colab": {
          "base_uri": "https://localhost:8080/"
        },
        "id": "8RyUSJWFjIzU",
        "outputId": "00d12ef4-1fd7-474f-abcd-109b5106b608"
      },
      "source": [
        "t.split(' ')"
      ],
      "execution_count": null,
      "outputs": [
        {
          "output_type": "execute_result",
          "data": {
            "text/plain": [
              "['python', 'is', 'easy']"
            ]
          },
          "metadata": {
            "tags": []
          },
          "execution_count": 172
        }
      ]
    },
    {
      "cell_type": "code",
      "metadata": {
        "id": "xPnWpaAJjA44"
      },
      "source": [
        "time = '12:30:15'"
      ],
      "execution_count": null,
      "outputs": []
    },
    {
      "cell_type": "code",
      "metadata": {
        "colab": {
          "base_uri": "https://localhost:8080/"
        },
        "id": "G09c9sFWjiYP",
        "outputId": "a3e894c9-4770-414f-87a3-ba89df701efa"
      },
      "source": [
        "time.split(':')"
      ],
      "execution_count": null,
      "outputs": [
        {
          "output_type": "execute_result",
          "data": {
            "text/plain": [
              "['12', '30', '15']"
            ]
          },
          "metadata": {
            "tags": []
          },
          "execution_count": 174
        }
      ]
    },
    {
      "cell_type": "markdown",
      "metadata": {
        "id": "4lHt9AVnj48g"
      },
      "source": [
        "การแบ่งข้อมูลออกมาจากลิสแล้วนำกลับมารวมกัน"
      ]
    },
    {
      "cell_type": "code",
      "metadata": {
        "colab": {
          "base_uri": "https://localhost:8080/",
          "height": 69
        },
        "id": "2vhYj4nWjiOD",
        "outputId": "95f430a3-00ef-4ce8-ff6e-7d0a56994ff8"
      },
      "source": [
        "t_sp = t.split(' ')\r\n",
        "print(t_sp)\r\n",
        "#วิธีรวมกลับ\r\n",
        "t_join = ' '.join(t_sp)\r\n",
        "print(' '.join(t_sp))\r\n",
        "t_join"
      ],
      "execution_count": null,
      "outputs": [
        {
          "output_type": "stream",
          "text": [
            "['python', 'is', 'easy']\n",
            "python is easy\n"
          ],
          "name": "stdout"
        },
        {
          "output_type": "execute_result",
          "data": {
            "application/vnd.google.colaboratory.intrinsic+json": {
              "type": "string"
            },
            "text/plain": [
              "'python is easy'"
            ]
          },
          "metadata": {
            "tags": []
          },
          "execution_count": 175
        }
      ]
    },
    {
      "cell_type": "markdown",
      "metadata": {
        "id": "zukWryiOlDrk"
      },
      "source": [
        "#HW"
      ]
    },
    {
      "cell_type": "markdown",
      "metadata": {
        "id": "uTuKnKCUlIXk"
      },
      "source": [
        "การคำนวณเวลาเป็นวินาทีของเวลาต่อไปนี้โดยใช้คำสั่ง split ช่วย (print ออกมาให้สวยงาม)\r\n",
        "\r\n",
        "1. 12:30:15\r\n",
        "\r\n",
        "2. 13:41:07\r\n",
        "\r\n",
        "3. 12:53:15\r\n",
        "\r\n",
        "4. 00:59:25\r\n",
        "\r\n",
        "5. 11:11:11\r\n",
        "\r\n",
        "6. 16:06:09"
      ]
    },
    {
      "cell_type": "markdown",
      "metadata": {
        "id": "SNQWq1QQX_EU"
      },
      "source": [
        "####โจทย์"
      ]
    },
    {
      "cell_type": "code",
      "metadata": {
        "colab": {
          "base_uri": "https://localhost:8080/"
        },
        "id": "b3Ez9in5U1i0",
        "outputId": "b1814fd2-ce9c-425a-d6a5-ae33ca9f95cd"
      },
      "source": [
        "time = ['12:30:15','13:41:07','12:53:15','00:59:25','11:11:11','16:06:09'] #สร้างข้อมูลใน list\r\n",
        "time"
      ],
      "execution_count": null,
      "outputs": [
        {
          "output_type": "execute_result",
          "data": {
            "text/plain": [
              "['12:30:15', '13:41:07', '12:53:15', '00:59:25', '11:11:11', '16:06:09']"
            ]
          },
          "metadata": {
            "tags": []
          },
          "execution_count": 197
        }
      ]
    },
    {
      "cell_type": "markdown",
      "metadata": {
        "id": "hVCbhOe7XwLM"
      },
      "source": [
        "####การคำนวณ"
      ]
    },
    {
      "cell_type": "code",
      "metadata": {
        "colab": {
          "base_uri": "https://localhost:8080/"
        },
        "id": "pllBQ8qzVhfg",
        "outputId": "5f836fe2-46e2-4765-83d5-d8cc5d5d8580"
      },
      "source": [
        "time_1 = time[0].split(':')\r\n",
        "H_time1 =int(time_1[0])\r\n",
        "M_time1 =int(time_1[1])\r\n",
        "S_time1 =int(time_1[2])\r\n",
        "second1 = H_time1*3600 + M_time1*60 + S_time1\r\n",
        "print(second1)"
      ],
      "execution_count": null,
      "outputs": [
        {
          "output_type": "stream",
          "text": [
            "45015\n"
          ],
          "name": "stdout"
        }
      ]
    },
    {
      "cell_type": "code",
      "metadata": {
        "colab": {
          "base_uri": "https://localhost:8080/"
        },
        "id": "XcSi8zguXoqE",
        "outputId": "cef408d4-d854-498e-e213-cb4655ddf41b"
      },
      "source": [
        "time_2 = time[1].split(':')\r\n",
        "H_time2 =int(time_2[0])\r\n",
        "M_time2 =int(time_2[1])\r\n",
        "S_time2 =int(time_2[2])\r\n",
        "second2 = H_time2*3600 + M_time2*60 + S_time2\r\n",
        "print(second2)"
      ],
      "execution_count": null,
      "outputs": [
        {
          "output_type": "stream",
          "text": [
            "49267\n"
          ],
          "name": "stdout"
        }
      ]
    },
    {
      "cell_type": "code",
      "metadata": {
        "colab": {
          "base_uri": "https://localhost:8080/"
        },
        "id": "UEBMQXIpXpYo",
        "outputId": "3b22cfa1-37dc-4c74-bac2-0ca48d3cb324"
      },
      "source": [
        "time_3 = time[2].split(':')\r\n",
        "H_time3 =int(time_3[0])\r\n",
        "M_time3 =int(time_3[1])\r\n",
        "S_time3 =int(time_3[2])\r\n",
        "second3 = H_time3*3600 + M_time3*60 + S_time3\r\n",
        "print(second3)"
      ],
      "execution_count": null,
      "outputs": [
        {
          "output_type": "stream",
          "text": [
            "46395\n"
          ],
          "name": "stdout"
        }
      ]
    },
    {
      "cell_type": "code",
      "metadata": {
        "colab": {
          "base_uri": "https://localhost:8080/"
        },
        "id": "ZJQvhfPwXq0R",
        "outputId": "f7fa662d-7e2d-444c-bf3d-ecde401bb0d9"
      },
      "source": [
        "time_4 = time[3].split(':')\r\n",
        "H_time4 =int(time_4[0])\r\n",
        "M_time4 =int(time_4[1])\r\n",
        "S_time4 =int(time_4[2])\r\n",
        "second4 = H_time4*360 + M_time4*60 + S_time4\r\n",
        "print(second4)"
      ],
      "execution_count": null,
      "outputs": [
        {
          "output_type": "stream",
          "text": [
            "3565\n"
          ],
          "name": "stdout"
        }
      ]
    },
    {
      "cell_type": "code",
      "metadata": {
        "colab": {
          "base_uri": "https://localhost:8080/"
        },
        "id": "qniy5ab2Xrn_",
        "outputId": "a43090e4-7cbf-4031-d991-dab088a4ac81"
      },
      "source": [
        "time_5 = time[4].split(':')\r\n",
        "H_time5 =int(time_5[0])\r\n",
        "M_time5 =int(time_5[1])\r\n",
        "S_time5 =int(time_5[2])\r\n",
        "second5 = H_time5*3600 + M_time5*60 + S_time5\r\n",
        "print(second1)"
      ],
      "execution_count": null,
      "outputs": [
        {
          "output_type": "stream",
          "text": [
            "45015\n"
          ],
          "name": "stdout"
        }
      ]
    },
    {
      "cell_type": "code",
      "metadata": {
        "colab": {
          "base_uri": "https://localhost:8080/"
        },
        "id": "uCkHNX0tXvBa",
        "outputId": "3e1c66ea-2873-4e83-a6d6-b327735457d5"
      },
      "source": [
        "time_6 = time[5].split(':')\r\n",
        "H_time6 =int(time_6[0])\r\n",
        "M_time6 =int(time_6[1])\r\n",
        "S_time6 =int(time_6[2])\r\n",
        "second6 = H_time6*3600 + M_time6*60 + S_time6\r\n",
        "print(second6)"
      ],
      "execution_count": null,
      "outputs": [
        {
          "output_type": "stream",
          "text": [
            "57969\n"
          ],
          "name": "stdout"
        }
      ]
    },
    {
      "cell_type": "markdown",
      "metadata": {
        "id": "yW7LN-6XX4vQ"
      },
      "source": [
        "####คำตอบ"
      ]
    },
    {
      "cell_type": "code",
      "metadata": {
        "id": "Eb7L_UjMlHeZ",
        "colab": {
          "base_uri": "https://localhost:8080/"
        },
        "outputId": "dfe32204-2e5c-4da8-d62c-6574ba35afc0"
      },
      "source": [
        "print(f'เวลา 12:30:15 มีเวลาจำนวนที่ทั้งหมด {second1} วินาที \\n\\\r\n",
        "เวลา 13:41:07 มีจำนวนเวลาที่ทั้งหมด {second2} วินาที \\n\\\r\n",
        "เวลา 12:53:15 มีจำนวนเวลาที่ทั้งหมด {second3} วินาที \\n\\\r\n",
        "เวลา 00:59:25 มีจำนวนเวลาที่ทั้งหมด  {second4} วินาที \\n\\\r\n",
        "เวลา 11:11:11 มีจำนวนเวลาที่ทั้งหมด {second5} วินาที \\n\\\r\n",
        "เวลา 16:06:09 มีจำนวนเวลาที่ทั้งหมด {second6} วินาที')"
      ],
      "execution_count": null,
      "outputs": [
        {
          "output_type": "stream",
          "text": [
            "เวลา 12:30:15 มีเวลาจำนวนที่ทั้งหมด 45015 วินาที \n",
            "เวลา 13:41:07 มีจำนวนเวลาที่ทั้งหมด 49267 วินาที \n",
            "เวลา 12:53:15 มีจำนวนเวลาที่ทั้งหมด 46395 วินาที \n",
            "เวลา 00:59:25 มีจำนวนเวลาที่ทั้งหมด  3565 วินาที \n",
            "เวลา 11:11:11 มีจำนวนเวลาที่ทั้งหมด 40271 วินาที \n",
            "เวลา 16:06:09 มีจำนวนเวลาที่ทั้งหมด 57969 วินาที\n"
          ],
          "name": "stdout"
        }
      ]
    },
    {
      "cell_type": "markdown",
      "metadata": {
        "id": "YfUcWpvRdy1D"
      },
      "source": [
        "####คำตอบเสริม"
      ]
    },
    {
      "cell_type": "code",
      "metadata": {
        "id": "qIfpbtt0d6E8"
      },
      "source": [
        "def cal_seconds(i):\n",
        "  x = i.split(':')\n",
        "  second = int(x[0])*3600+int(x[1])*60+int(x[2])\n",
        "  return second"
      ],
      "execution_count": null,
      "outputs": []
    },
    {
      "cell_type": "code",
      "metadata": {
        "colab": {
          "base_uri": "https://localhost:8080/"
        },
        "id": "Qvb85xU2jw9Z",
        "outputId": "267a74af-a4ec-4f5c-b2c1-baf8e393bbe2"
      },
      "source": [
        "for j in time:\r\n",
        "  print(f'เวลา {j} มีจำนวนเวลาที่ทั้งหมด {cal_seconds(j)} วินาที')"
      ],
      "execution_count": null,
      "outputs": [
        {
          "output_type": "stream",
          "text": [
            "เวลา 12:30:15 มีจำนวนเวลาที่ทั้งหมด 45015 วินาที\n",
            "เวลา 13:41:07 มีจำนวนเวลาที่ทั้งหมด 49267 วินาที\n",
            "เวลา 12:53:15 มีจำนวนเวลาที่ทั้งหมด 46395 วินาที\n",
            "เวลา 00:59:25 มีจำนวนเวลาที่ทั้งหมด 3565 วินาที\n",
            "เวลา 11:11:11 มีจำนวนเวลาที่ทั้งหมด 40271 วินาที\n",
            "เวลา 16:06:09 มีจำนวนเวลาที่ทั้งหมด 57969 วินาที\n"
          ],
          "name": "stdout"
        }
      ]
    },
    {
      "cell_type": "code",
      "metadata": {
        "id": "ZG8Dc-yFf8oS"
      },
      "source": [
        ""
      ],
      "execution_count": null,
      "outputs": []
    }
  ]
}