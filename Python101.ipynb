{
  "nbformat": 4,
  "nbformat_minor": 0,
  "metadata": {
    "colab": {
      "name": "Python101.ipynb",
      "provenance": [],
      "collapsed_sections": [],
      "authorship_tag": "ABX9TyNM48+8cijn3redwltDvpIk",
      "include_colab_link": true
    },
    "kernelspec": {
      "name": "python3",
      "display_name": "Python 3"
    }
  },
  "cells": [
    {
      "cell_type": "markdown",
      "metadata": {
        "id": "view-in-github",
        "colab_type": "text"
      },
      "source": [
        "<a href=\"https://colab.research.google.com/github/Toto17515/Data_viz/blob/main/Python101.ipynb\" target=\"_parent\"><img src=\"https://colab.research.google.com/assets/colab-badge.svg\" alt=\"Open In Colab\"/></a>"
      ]
    },
    {
      "cell_type": "markdown",
      "metadata": {
        "id": "QZvlxrKPfOxz"
      },
      "source": [
        "/n คือ การจบบรรทัด\r\n",
        "\r\n",
        "\\\\ คือ การตัดบรรทัดใน code แต่โปรเเเกรมจะมองเป็นบรรทัดเดียวกัน\r\n",
        "\r\n",
        "% คือ การหารเอาเศษ\r\n",
        "\r\n",
        "/ คือ การหารปกติ\r\n",
        "\r\n",
        "// คือ การหารไม่เอาเศษ"
      ]
    },
    {
      "cell_type": "code",
      "metadata": {
        "colab": {
          "base_uri": "https://localhost:8080/"
        },
        "id": "e6hPgO0jaIZd",
        "outputId": "d0522e9b-eedc-4aac-8691-9591e229cff2"
      },
      "source": [
        "print(f'% คือ การหาเศษ เช่น 7%1 = {7%3} \\n \\\r\n",
        "        / คือ การหารปกติ เช่น 7/3 = {7/3} \\n \\\r\n",
        "        // คือ การหารไม่เอาเศษ 7//3 = {7//3}')"
      ],
      "execution_count": 30,
      "outputs": [
        {
          "output_type": "stream",
          "text": [
            "% คือ การหาเศษ เช่น 7%1 = 1 \n",
            "         / คือ การหารปกติ เช่น 7/3 = 2.3333333333333335 \n",
            "         // คือ การหารไม่เอาเศษ 7//3 = 2\n"
          ],
          "name": "stdout"
        }
      ]
    },
    {
      "cell_type": "markdown",
      "metadata": {
        "id": "nFTGzT0uaxOi"
      },
      "source": [
        "#Data Structure"
      ]
    },
    {
      "cell_type": "markdown",
      "metadata": {
        "id": "NrI6Wcx5bSKk"
      },
      "source": [
        "##List"
      ]
    },
    {
      "cell_type": "markdown",
      "metadata": {
        "id": "2FmUulODbzJN"
      },
      "source": [
        "แบบที่ 1"
      ]
    },
    {
      "cell_type": "code",
      "metadata": {
        "id": "cJAj366Aa08q"
      },
      "source": [
        "\r\n",
        "list_a = []\r\n",
        "list_b = [1,5,'v']"
      ],
      "execution_count": 4,
      "outputs": []
    },
    {
      "cell_type": "code",
      "metadata": {
        "colab": {
          "base_uri": "https://localhost:8080/"
        },
        "id": "ZWU6rzWUbKvv",
        "outputId": "0561e08f-0406-42a0-a4f2-8b350ef5cf65"
      },
      "source": [
        "print(list_a)"
      ],
      "execution_count": 5,
      "outputs": [
        {
          "output_type": "stream",
          "text": [
            "[]\n"
          ],
          "name": "stdout"
        }
      ]
    },
    {
      "cell_type": "code",
      "metadata": {
        "colab": {
          "base_uri": "https://localhost:8080/"
        },
        "id": "c1elOsjqbQHl",
        "outputId": "29637e54-5944-40a9-ac62-c11ae81037ce"
      },
      "source": [
        "print(list_b)"
      ],
      "execution_count": 6,
      "outputs": [
        {
          "output_type": "stream",
          "text": [
            "[1, 5, 'v']\n"
          ],
          "name": "stdout"
        }
      ]
    },
    {
      "cell_type": "markdown",
      "metadata": {
        "id": "rcX9nKvxba4n"
      },
      "source": [
        "ลำดับที่อยู่ใน list มีความสำคัญ (ลำดับใน list เริ่มจาก 0,1,2,...)"
      ]
    },
    {
      "cell_type": "code",
      "metadata": {
        "colab": {
          "base_uri": "https://localhost:8080/"
        },
        "id": "G3UmhUk9bpuC",
        "outputId": "0ee172e5-7145-4b0c-a6df-7e8b115b985f"
      },
      "source": [
        "list_b[1]"
      ],
      "execution_count": 7,
      "outputs": [
        {
          "output_type": "execute_result",
          "data": {
            "text/plain": [
              "5"
            ]
          },
          "metadata": {
            "tags": []
          },
          "execution_count": 7
        }
      ]
    },
    {
      "cell_type": "markdown",
      "metadata": {
        "id": "qbyAdZEMb27o"
      },
      "source": [
        "แบบที่ 2"
      ]
    },
    {
      "cell_type": "code",
      "metadata": {
        "colab": {
          "base_uri": "https://localhost:8080/"
        },
        "id": "QJTaVJT2b472",
        "outputId": "e14f4c51-d59b-488f-c7a9-d7a42e42f538"
      },
      "source": [
        "list_c = list()\r\n",
        "print(list_c)"
      ],
      "execution_count": 17,
      "outputs": [
        {
          "output_type": "stream",
          "text": [
            "[]\n"
          ],
          "name": "stdout"
        }
      ]
    },
    {
      "cell_type": "markdown",
      "metadata": {
        "id": "TV9JQFFwcYRH"
      },
      "source": [
        "append() เพิ่มสมาชิกใน list"
      ]
    },
    {
      "cell_type": "code",
      "metadata": {
        "colab": {
          "base_uri": "https://localhost:8080/"
        },
        "id": "vIvQmcu_cRPJ",
        "outputId": "22ae5966-8ab8-4759-ecb6-45f758e52f34"
      },
      "source": [
        "list_b.append('U')\r\n",
        "print(list_b)"
      ],
      "execution_count": 13,
      "outputs": [
        {
          "output_type": "stream",
          "text": [
            "[1, 5, 'v', 'U']\n"
          ],
          "name": "stdout"
        }
      ]
    },
    {
      "cell_type": "code",
      "metadata": {
        "colab": {
          "base_uri": "https://localhost:8080/",
          "height": 35
        },
        "id": "8SFG-43Db_Id",
        "outputId": "e19edf7e-cdcb-4afa-8d2b-356b1f418a5b"
      },
      "source": [
        "list_b.pop() #ดึงสมาชิกตัวสุดท้าย"
      ],
      "execution_count": 14,
      "outputs": [
        {
          "output_type": "execute_result",
          "data": {
            "application/vnd.google.colaboratory.intrinsic+json": {
              "type": "string"
            },
            "text/plain": [
              "'U'"
            ]
          },
          "metadata": {
            "tags": []
          },
          "execution_count": 14
        }
      ]
    },
    {
      "cell_type": "code",
      "metadata": {
        "colab": {
          "base_uri": "https://localhost:8080/"
        },
        "id": "EjFaLuTCcsJt",
        "outputId": "a13e1499-0086-4c80-c2db-874c0715086f"
      },
      "source": [
        "list_c.append(list_b)\r\n",
        "print(list_c)"
      ],
      "execution_count": 18,
      "outputs": [
        {
          "output_type": "stream",
          "text": [
            "[[1, 5, 'v']]\n"
          ],
          "name": "stdout"
        }
      ]
    },
    {
      "cell_type": "markdown",
      "metadata": {
        "id": "6Xp4t8kRdGsh"
      },
      "source": [
        "String > list of characters"
      ]
    },
    {
      "cell_type": "code",
      "metadata": {
        "colab": {
          "base_uri": "https://localhost:8080/",
          "height": 35
        },
        "id": "8tsGdIupc8Bh",
        "outputId": "79771aa0-2b64-4091-8f9c-d98ff0c2d24f"
      },
      "source": [
        "t = 'python is easy'\r\n",
        "t"
      ],
      "execution_count": 19,
      "outputs": [
        {
          "output_type": "execute_result",
          "data": {
            "application/vnd.google.colaboratory.intrinsic+json": {
              "type": "string"
            },
            "text/plain": [
              "'python is easy'"
            ]
          },
          "metadata": {
            "tags": []
          },
          "execution_count": 19
        }
      ]
    },
    {
      "cell_type": "code",
      "metadata": {
        "colab": {
          "base_uri": "https://localhost:8080/"
        },
        "id": "zYJbXxdodQ5c",
        "outputId": "fa348140-16d8-4482-c33d-2467f5e1ad19"
      },
      "source": [
        "len(list_b) #len คือคำสั่งตรวจสอบความยาวของ list (จำนวนสมาชิก)"
      ],
      "execution_count": 20,
      "outputs": [
        {
          "output_type": "execute_result",
          "data": {
            "text/plain": [
              "3"
            ]
          },
          "metadata": {
            "tags": []
          },
          "execution_count": 20
        }
      ]
    },
    {
      "cell_type": "code",
      "metadata": {
        "colab": {
          "base_uri": "https://localhost:8080/"
        },
        "id": "zgNZFXoBdroO",
        "outputId": "e19f140a-e763-4d04-cadc-4a660106a64b"
      },
      "source": [
        "len(t)"
      ],
      "execution_count": 21,
      "outputs": [
        {
          "output_type": "execute_result",
          "data": {
            "text/plain": [
              "14"
            ]
          },
          "metadata": {
            "tags": []
          },
          "execution_count": 21
        }
      ]
    },
    {
      "cell_type": "markdown",
      "metadata": {
        "id": "wVjo7NvXd-kq"
      },
      "source": [
        "access a member of list (list &  sting)\r\n",
        "\r\n",
        "โดยการเริ่มจาก 0\r\n",
        "\r\n",
        "ตัวสุดท้ายคือ -1\r\n",
        "\r\n",
        "ตัวที่อยู่ข้างใน [ ] เราเรียกว่า index (ตัวชี้)"
      ]
    },
    {
      "cell_type": "code",
      "metadata": {
        "colab": {
          "base_uri": "https://localhost:8080/",
          "height": 35
        },
        "id": "AMATc31uecLc",
        "outputId": "32a91f93-76c7-4afd-945f-2e58355e136e"
      },
      "source": [
        "t[1]"
      ],
      "execution_count": 22,
      "outputs": [
        {
          "output_type": "execute_result",
          "data": {
            "application/vnd.google.colaboratory.intrinsic+json": {
              "type": "string"
            },
            "text/plain": [
              "'y'"
            ]
          },
          "metadata": {
            "tags": []
          },
          "execution_count": 22
        }
      ]
    },
    {
      "cell_type": "code",
      "metadata": {
        "colab": {
          "base_uri": "https://localhost:8080/",
          "height": 35
        },
        "id": "IkFC3oRkeiiS",
        "outputId": "9c1baee5-abee-41fd-f5ca-8c856b50781c"
      },
      "source": [
        "t[-1]"
      ],
      "execution_count": 23,
      "outputs": [
        {
          "output_type": "execute_result",
          "data": {
            "application/vnd.google.colaboratory.intrinsic+json": {
              "type": "string"
            },
            "text/plain": [
              "'y'"
            ]
          },
          "metadata": {
            "tags": []
          },
          "execution_count": 23
        }
      ]
    },
    {
      "cell_type": "code",
      "metadata": {
        "colab": {
          "base_uri": "https://localhost:8080/",
          "height": 35
        },
        "id": "ooPBeIttejq9",
        "outputId": "624e0d0f-c69a-4d41-cbb6-a031e6349a26"
      },
      "source": [
        "t[-3]"
      ],
      "execution_count": 24,
      "outputs": [
        {
          "output_type": "execute_result",
          "data": {
            "application/vnd.google.colaboratory.intrinsic+json": {
              "type": "string"
            },
            "text/plain": [
              "'a'"
            ]
          },
          "metadata": {
            "tags": []
          },
          "execution_count": 24
        }
      ]
    },
    {
      "cell_type": "markdown",
      "metadata": {
        "id": "yM1RaLkpfWnU"
      },
      "source": [
        "list slicing สามารถทำได้โดยใช้ colon(:)\r\n",
        "\r\n",
        "[a:b] -> [a,b)"
      ]
    },
    {
      "cell_type": "code",
      "metadata": {
        "colab": {
          "base_uri": "https://localhost:8080/"
        },
        "id": "7_qUCeOyhrvM",
        "outputId": "878dcb61-6fb6-4aad-8560-d5037ad19495"
      },
      "source": [
        "print(t)"
      ],
      "execution_count": 31,
      "outputs": [
        {
          "output_type": "stream",
          "text": [
            "python is easy\n"
          ],
          "name": "stdout"
        }
      ]
    },
    {
      "cell_type": "code",
      "metadata": {
        "colab": {
          "base_uri": "https://localhost:8080/",
          "height": 35
        },
        "id": "fraLT8uyex_A",
        "outputId": "b9b925fc-1ad3-47f6-f0a3-d81ced843229"
      },
      "source": [
        "t[7:9]"
      ],
      "execution_count": 25,
      "outputs": [
        {
          "output_type": "execute_result",
          "data": {
            "application/vnd.google.colaboratory.intrinsic+json": {
              "type": "string"
            },
            "text/plain": [
              "'is'"
            ]
          },
          "metadata": {
            "tags": []
          },
          "execution_count": 25
        }
      ]
    },
    {
      "cell_type": "markdown",
      "metadata": {
        "id": "pSVcH-42hI4-"
      },
      "source": [
        "ถ้าเว้นว่างหน้า : หมายความว่า คือ เรื่มตั้งแต่ตัวเเรก\r\n",
        "\r\n",
        "ถ้าเว้นว่างหลัง : หมายความว่า คือ ไปจนถึงตัวสุดท้าย"
      ]
    },
    {
      "cell_type": "code",
      "metadata": {
        "colab": {
          "base_uri": "https://localhost:8080/"
        },
        "id": "l3GTbA-9fvvm",
        "outputId": "d50c52e2-ecd8-4c0f-83bc-b6917aebf214"
      },
      "source": [
        "print(t[:6])\r\n",
        "print(t[10:])\r\n",
        "print(t[-4:])\r\n",
        "print(t[:])"
      ],
      "execution_count": 34,
      "outputs": [
        {
          "output_type": "stream",
          "text": [
            "python\n",
            "easy\n",
            "easy\n",
            "python is easy\n"
          ],
          "name": "stdout"
        }
      ]
    },
    {
      "cell_type": "markdown",
      "metadata": {
        "id": "uoVDl3jwiDvG"
      },
      "source": [
        "function for string\r\n",
        "\r\n",
        "เราสามารถเอา list มาต่อกันได้เลยด้วย +"
      ]
    },
    {
      "cell_type": "code",
      "metadata": {
        "colab": {
          "base_uri": "https://localhost:8080/",
          "height": 35
        },
        "id": "g7p1kGNNh0ix",
        "outputId": "95c45327-ba43-43d2-c1d5-d5f82eb0f64c"
      },
      "source": [
        "t + '?'"
      ],
      "execution_count": 37,
      "outputs": [
        {
          "output_type": "execute_result",
          "data": {
            "application/vnd.google.colaboratory.intrinsic+json": {
              "type": "string"
            },
            "text/plain": [
              "'python is easy?'"
            ]
          },
          "metadata": {
            "tags": []
          },
          "execution_count": 37
        }
      ]
    },
    {
      "cell_type": "code",
      "metadata": {
        "colab": {
          "base_uri": "https://localhost:8080/"
        },
        "id": "Yg31bcDmioZv",
        "outputId": "ccee273a-f56e-4920-8583-404aa9702474"
      },
      "source": [
        "list_b + list_b"
      ],
      "execution_count": 38,
      "outputs": [
        {
          "output_type": "execute_result",
          "data": {
            "text/plain": [
              "[1, 5, 'v', 1, 5, 'v']"
            ]
          },
          "metadata": {
            "tags": []
          },
          "execution_count": 38
        }
      ]
    },
    {
      "cell_type": "markdown",
      "metadata": {
        "id": "2ev2Gytmi20I"
      },
      "source": [
        "**หมายเหตุ:** ไม่สามารถเอา list ปกติ มาต่อกับ string ได้"
      ]
    },
    {
      "cell_type": "markdown",
      "metadata": {
        "id": "jugpLItjjNiF"
      },
      "source": [
        "การเเบ่ง string ตามสัญลักษณ์ที่กำหนด -> split string"
      ]
    },
    {
      "cell_type": "code",
      "metadata": {
        "colab": {
          "base_uri": "https://localhost:8080/"
        },
        "id": "8RyUSJWFjIzU",
        "outputId": "e99ea62a-83be-4689-d995-83f19300d483"
      },
      "source": [
        "t.split(' ')"
      ],
      "execution_count": 39,
      "outputs": [
        {
          "output_type": "execute_result",
          "data": {
            "text/plain": [
              "['python', 'is', 'easy']"
            ]
          },
          "metadata": {
            "tags": []
          },
          "execution_count": 39
        }
      ]
    },
    {
      "cell_type": "code",
      "metadata": {
        "id": "xPnWpaAJjA44"
      },
      "source": [
        "time = '12:30:15'"
      ],
      "execution_count": 41,
      "outputs": []
    },
    {
      "cell_type": "code",
      "metadata": {
        "colab": {
          "base_uri": "https://localhost:8080/"
        },
        "id": "G09c9sFWjiYP",
        "outputId": "6f28f375-35e8-4dfb-b77a-100abf1a4a4a"
      },
      "source": [
        "time.split(':')"
      ],
      "execution_count": 42,
      "outputs": [
        {
          "output_type": "execute_result",
          "data": {
            "text/plain": [
              "['12', '30', '15']"
            ]
          },
          "metadata": {
            "tags": []
          },
          "execution_count": 42
        }
      ]
    },
    {
      "cell_type": "markdown",
      "metadata": {
        "id": "4lHt9AVnj48g"
      },
      "source": [
        "การแบ่งแล้วนำกลับมารวมกัน"
      ]
    },
    {
      "cell_type": "code",
      "metadata": {
        "colab": {
          "base_uri": "https://localhost:8080/",
          "height": 69
        },
        "id": "2vhYj4nWjiOD",
        "outputId": "b2046094-2478-4157-e8d3-c00179fd0311"
      },
      "source": [
        "t_sp = t.split(' ')\r\n",
        "print(t_sp)\r\n",
        "#วิธีรวมกลับ\r\n",
        "t_join = ' '.join(t_sp)\r\n",
        "print(' '.join(t_sp))\r\n",
        "t_join"
      ],
      "execution_count": 50,
      "outputs": [
        {
          "output_type": "stream",
          "text": [
            "['python', 'is', 'easy']\n",
            "python is easy\n"
          ],
          "name": "stdout"
        },
        {
          "output_type": "execute_result",
          "data": {
            "application/vnd.google.colaboratory.intrinsic+json": {
              "type": "string"
            },
            "text/plain": [
              "'python is easy'"
            ]
          },
          "metadata": {
            "tags": []
          },
          "execution_count": 50
        }
      ]
    },
    {
      "cell_type": "markdown",
      "metadata": {
        "id": "zukWryiOlDrk"
      },
      "source": [
        "#HW"
      ]
    },
    {
      "cell_type": "markdown",
      "metadata": {
        "id": "uTuKnKCUlIXk"
      },
      "source": [
        "การคำนวณเวลาเป็นวินาทีของเวลาต่อไปนี้โดยใช้คำสั่ง split"
      ]
    },
    {
      "cell_type": "code",
      "metadata": {
        "id": "Eb7L_UjMlHeZ"
      },
      "source": [
        ""
      ],
      "execution_count": null,
      "outputs": []
    }
  ]
}