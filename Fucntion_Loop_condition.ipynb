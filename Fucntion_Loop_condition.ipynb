{
  "nbformat": 4,
  "nbformat_minor": 0,
  "metadata": {
    "colab": {
      "name": "Fucntion_Loop_condition.ipynb",
      "provenance": [],
      "collapsed_sections": [
        "Mr43lij5oZy9",
        "MT9cEt0ug4SJ",
        "EUlRHN7wlu1l",
        "O4QG-Eo_mHmp",
        "1YslT8DKo857",
        "xCAWsVtrqVFM",
        "OWkLf1UGrYmQ",
        "I5eGtFTRfXow",
        "LIF--yjRfTu1",
        "NhideTilfO8G"
      ],
      "authorship_tag": "ABX9TyMi0KPFRKdQfkGua4BDAdd6",
      "include_colab_link": true
    },
    "kernelspec": {
      "name": "python3",
      "display_name": "Python 3"
    }
  },
  "cells": [
    {
      "cell_type": "markdown",
      "metadata": {
        "id": "view-in-github",
        "colab_type": "text"
      },
      "source": [
        "<a href=\"https://colab.research.google.com/github/Toto17515/Data_viz/blob/main/Fucntion_Loop_condition.ipynb\" target=\"_parent\"><img src=\"https://colab.research.google.com/assets/colab-badge.svg\" alt=\"Open In Colab\"/></a>"
      ]
    },
    {
      "cell_type": "markdown",
      "metadata": {
        "id": "_JfJ4d0Mgyle"
      },
      "source": [
        "#Function\r\n",
        "\r\n"
      ]
    },
    {
      "cell_type": "markdown",
      "metadata": {
        "id": "Mr43lij5oZy9"
      },
      "source": [
        "####**สิ่งที่ควรรู้**"
      ]
    },
    {
      "cell_type": "markdown",
      "metadata": {
        "id": "lVUX0raBmTEj"
      },
      "source": [
        "\r\n",
        "backtick ( ` ) ==> กด ~ ค้าง, กด Alt + 96 (กด Alt ค้างแล้ว กด 9 ปล่อย กด 6)\r\n",
        "\r\n",
        "tilde ( ~ )\r\n",
        "\r\n",
        "curly bracket ({ })\r\n",
        "\r\n",
        "square bracket ([ ])"
      ]
    },
    {
      "cell_type": "markdown",
      "metadata": {
        "id": "MT9cEt0ug4SJ"
      },
      "source": [
        "##Function template"
      ]
    },
    {
      "cell_type": "markdown",
      "metadata": {
        "id": "bJ66X3OEg996"
      },
      "source": [
        "ทำหน้าที่รับ intput มาประมวลผลออกมาเป็น output เช่น f(x) = y"
      ]
    },
    {
      "cell_type": "markdown",
      "metadata": {
        "id": "mlG7g9YThQLa"
      },
      "source": [
        "def คือ การกำหนดฟังก์ชัน"
      ]
    },
    {
      "cell_type": "markdown",
      "metadata": {
        "id": "apdRlTOmhy4E"
      },
      "source": [
        "```python\r\n",
        "    def function_name(_input_) :\r\n",
        "      do_someting with _input_to_get_output_\r\n",
        "      return _output_\r\n",
        "```\r\n",
        "\r\n",
        "function มีส่วนทั้งหมด 4 ส่วน\r\n",
        "\r\n",
        "1.   บอก python ว่าเราจะเขียนฟังก์ชันอะไร `def function_name()` (ขาดไม่ได้)\r\n",
        "2.   กำหนดตัวแปรที่จะเป็น input `_Input` (ขาดได้ ไม่ได้สำคัญมาก)\r\n",
        "3.ส่วนประมวลผล `do_sometime_thing_wint_Input_to_get_Output` (ขาดไม่ได้)\r\n",
        "4. ส่วนของ output `return_Output` (ขาดไม่ได้)\r\n",
        "\r\n",
        "\r\n",
        "\r\n",
        "เราใช้เว้นวรรค(indent) เพื่อบอกขอบเขตของโปรแกรม"
      ]
    },
    {
      "cell_type": "markdown",
      "metadata": {
        "id": "zatnG-w0jk9b"
      },
      "source": [
        "**ตัวอย่างการเขียน**"
      ]
    },
    {
      "cell_type": "markdown",
      "metadata": {
        "id": "EUlRHN7wlu1l"
      },
      "source": [
        "####EX.1"
      ]
    },
    {
      "cell_type": "markdown",
      "metadata": {
        "id": "tlTI3GBfqKv4"
      },
      "source": [
        "normal function"
      ]
    },
    {
      "cell_type": "code",
      "metadata": {
        "id": "ESr-xMNVltzb"
      },
      "source": [
        "def p_name(name,surname,ID):\r\n",
        "  st = f'ชื่อ {name} นามสกุล {surname} รหัส {ID}'\r\n",
        "  return st"
      ],
      "execution_count": null,
      "outputs": []
    },
    {
      "cell_type": "code",
      "metadata": {
        "colab": {
          "base_uri": "https://localhost:8080/",
          "height": 35
        },
        "id": "bdDm5DmBl__y",
        "outputId": "2aa08c8f-b989-4d9c-ffb9-6436dc56c1df"
      },
      "source": [
        "p_name('ธิติวุฒิ','ชูเสน','613020552-6')"
      ],
      "execution_count": null,
      "outputs": [
        {
          "output_type": "execute_result",
          "data": {
            "application/vnd.google.colaboratory.intrinsic+json": {
              "type": "string"
            },
            "text/plain": [
              "'ชื่อ ธิติวุฒิ นามสกุล ชูเสน รหัส 613020552-6'"
            ]
          },
          "metadata": {
            "tags": []
          },
          "execution_count": 9
        }
      ]
    },
    {
      "cell_type": "markdown",
      "metadata": {
        "id": "O4QG-Eo_mHmp"
      },
      "source": [
        "####EX.2"
      ]
    },
    {
      "cell_type": "markdown",
      "metadata": {
        "id": "Im9_2UbCp96F"
      },
      "source": [
        "สามารถบอกชื่อของ Input ได้"
      ]
    },
    {
      "cell_type": "code",
      "metadata": {
        "id": "NquRh1ZTjpQr"
      },
      "source": [
        "def print_name(surname,ID,name):\r\n",
        "  st = f'ชื่อ {name} นามสกุล {surname} รหัส {ID}'\r\n",
        "  return st"
      ],
      "execution_count": null,
      "outputs": []
    },
    {
      "cell_type": "code",
      "metadata": {
        "colab": {
          "base_uri": "https://localhost:8080/",
          "height": 35
        },
        "id": "Hi9XgUlClmke",
        "outputId": "bdd2d171-17f1-48a8-cbb7-b2b435dd0dec"
      },
      "source": [
        "print_name('ชูเสน','ธิติวุฒิ','613020552-6')"
      ],
      "execution_count": null,
      "outputs": [
        {
          "output_type": "execute_result",
          "data": {
            "application/vnd.google.colaboratory.intrinsic+json": {
              "type": "string"
            },
            "text/plain": [
              "'ชื่อ 613020552-6 นามสกุล ชูเสน รหัส ธิติวุฒิ'"
            ]
          },
          "metadata": {
            "tags": []
          },
          "execution_count": 6
        }
      ]
    },
    {
      "cell_type": "code",
      "metadata": {
        "colab": {
          "base_uri": "https://localhost:8080/",
          "height": 35
        },
        "id": "oILdJSYPkvNy",
        "outputId": "2857ecdc-8013-4821-c8f0-8d22b044a922"
      },
      "source": [
        "print_name(surname = 'ชูเสน',name = 'ธิติวุฒิ',ID = '613020552-6')"
      ],
      "execution_count": null,
      "outputs": [
        {
          "output_type": "execute_result",
          "data": {
            "application/vnd.google.colaboratory.intrinsic+json": {
              "type": "string"
            },
            "text/plain": [
              "'ชื่อ ธิติวุฒิ นามสกุล ชูเสน รหัส 613020552-6'"
            ]
          },
          "metadata": {
            "tags": []
          },
          "execution_count": 5
        }
      ]
    },
    {
      "cell_type": "markdown",
      "metadata": {
        "id": "1YslT8DKo857"
      },
      "source": [
        "####EX.3"
      ]
    },
    {
      "cell_type": "markdown",
      "metadata": {
        "id": "33zTZyJyp1oO"
      },
      "source": [
        "ฟังก์ชั่นไม่จำเป็นต้องมี Output"
      ]
    },
    {
      "cell_type": "code",
      "metadata": {
        "id": "y5slVkT3o-Bz"
      },
      "source": [
        "def print_name2(surname,ID,name):\r\n",
        "  st = f'ชื่อ {name} นามสกุล {surname} รหัส {ID}'\r\n",
        "  print(st)"
      ],
      "execution_count": null,
      "outputs": []
    },
    {
      "cell_type": "code",
      "metadata": {
        "colab": {
          "base_uri": "https://localhost:8080/"
        },
        "id": "FrlgBjYWpHWi",
        "outputId": "6ca0ddf9-fdfa-435c-e634-7d817a977e7c"
      },
      "source": [
        "print_name2(surname = 'ชูเสน',name = 'ธิติวุฒิ',ID = '613020552-6')"
      ],
      "execution_count": null,
      "outputs": [
        {
          "output_type": "stream",
          "text": [
            "ชื่อ ธิติวุฒิ นามสกุล ชูเสน รหัส 613020552-6\n"
          ],
          "name": "stdout"
        }
      ]
    },
    {
      "cell_type": "markdown",
      "metadata": {
        "id": "xCAWsVtrqVFM"
      },
      "source": [
        "####EX.4"
      ]
    },
    {
      "cell_type": "markdown",
      "metadata": {
        "id": "kbgRdMG6qYqH"
      },
      "source": [
        "ฟังก์ชั่นไม่จำเป็นต้องมี Input"
      ]
    },
    {
      "cell_type": "code",
      "metadata": {
        "id": "nm_K1PYapxqc"
      },
      "source": [
        "def Pi():\r\n",
        "  return 3.14159265359"
      ],
      "execution_count": null,
      "outputs": []
    },
    {
      "cell_type": "code",
      "metadata": {
        "colab": {
          "base_uri": "https://localhost:8080/"
        },
        "id": "WoTKupHkq9Zl",
        "outputId": "391a632c-90b5-4355-cac1-8f665196b058"
      },
      "source": [
        "Pi()*(2**2) #หาพื้นที่ของวงกลม เมื่อค่า r = 2"
      ],
      "execution_count": null,
      "outputs": [
        {
          "output_type": "execute_result",
          "data": {
            "text/plain": [
              "12.56637061436"
            ]
          },
          "metadata": {
            "tags": []
          },
          "execution_count": 16
        }
      ]
    },
    {
      "cell_type": "markdown",
      "metadata": {
        "id": "OWkLf1UGrYmQ"
      },
      "source": [
        "####EX.5"
      ]
    },
    {
      "cell_type": "markdown",
      "metadata": {
        "id": "codAc_vurafp"
      },
      "source": [
        "เราสามารถกำหนดค่า default ให้กับฟังก์ชั่นได้\r\n",
        "\r\n",
        "input  ของ function ใน python มีสองแบบ input ที่จำเป็นต้องใส่ กับ input ที่ไม่จำเป็นต้องใส่ (default) ต้องเรียง input ที่จำเป็นต้องใส่ขึ้นก่อน ถ้าใส่ input ในฟังก์ชั่นที่ไม่จำเป็นต้องใส่จะ run ไม่ได้"
      ]
    },
    {
      "cell_type": "code",
      "metadata": {
        "id": "xgbinAuhrExc"
      },
      "source": [
        "def Print_2line_default(name,surname,ID,grade = 'F'):\r\n",
        "  st = f'ชื่อ {name} นามสกุล {surname} รหัส {ID}'\r\n",
        "  print(st)\r\n",
        "  st2 = f'เกรดวิชา Data Viz >>> {grade}'\r\n",
        "  print(st2)"
      ],
      "execution_count": null,
      "outputs": []
    },
    {
      "cell_type": "code",
      "metadata": {
        "colab": {
          "base_uri": "https://localhost:8080/"
        },
        "id": "2fXEBRXZsue-",
        "outputId": "c7ce46ac-edec-4ea7-ff67-1fef738424f0"
      },
      "source": [
        "Print_2line_default('ธิติวุฒิ','ชูเสน','613020552-6')"
      ],
      "execution_count": null,
      "outputs": [
        {
          "output_type": "stream",
          "text": [
            "ชื่อ ธิติวุฒิ นามสกุล ชูเสน รหัส 613020552-6\n",
            "เกรดวิชา Data Viz >>> F\n"
          ],
          "name": "stdout"
        }
      ]
    },
    {
      "cell_type": "code",
      "metadata": {
        "colab": {
          "base_uri": "https://localhost:8080/"
        },
        "id": "SzYBj0CJs6GZ",
        "outputId": "0352fbd6-8ab0-4409-aeab-64d5816e8360"
      },
      "source": [
        "Print_2line_default('ธิติวุฒิ','ชูเสน','613020552-6','A')"
      ],
      "execution_count": null,
      "outputs": [
        {
          "output_type": "stream",
          "text": [
            "ชื่อ ธิติวุฒิ นามสกุล ชูเสน รหัส 613020552-6\n",
            "เกรดวิชา Data Viz >>> A\n"
          ],
          "name": "stdout"
        }
      ]
    },
    {
      "cell_type": "markdown",
      "metadata": {
        "id": "82Xggegw0rw5"
      },
      "source": [
        "##Loop"
      ]
    },
    {
      "cell_type": "markdown",
      "metadata": {
        "id": "I5eGtFTRfXow"
      },
      "source": [
        "####**for**"
      ]
    },
    {
      "cell_type": "markdown",
      "metadata": {
        "id": "_Kut44Mz0yrM"
      },
      "source": [
        "การวนซ้ำ ใช้ for เป็นคำที่ใช้บอก python ว่าเรากำลังเขียน loop โดย for จะวนดึงสมาชิกจาก listA มาทำ process do_something เป็นคำสั่งวนซ้ำที่ใช้ควบคุมการทำงานซ้ำๆ ในจำนวนรอบที่แน่นอน "
      ]
    },
    {
      "cell_type": "code",
      "metadata": {
        "colab": {
          "base_uri": "https://localhost:8080/"
        },
        "id": "MqZDhsO20u6D",
        "outputId": "64e07584-4c59-428b-f5eb-a9c871d79215"
      },
      "source": [
        "for i in [1,2,3]:\r\n",
        "  o = i**2\r\n",
        "  print(f'This member = {i} after process = {o}')"
      ],
      "execution_count": null,
      "outputs": [
        {
          "output_type": "stream",
          "text": [
            "This member = 1 after process = 1\n",
            "This member = 2 after process = 4\n",
            "This member = 3 after process = 9\n"
          ],
          "name": "stdout"
        }
      ]
    },
    {
      "cell_type": "markdown",
      "metadata": {
        "id": "CqBNy_mgV2we"
      },
      "source": [
        "ตัวอย่างการใช้คำสั่ง gor ในการวนซ้ำของ i เมื่อ i คือ 'Thitiwut' "
      ]
    },
    {
      "cell_type": "code",
      "metadata": {
        "id": "U-_klaAh1UkZ",
        "colab": {
          "base_uri": "https://localhost:8080/"
        },
        "outputId": "31943433-58c9-4ad8-dff5-e9c127f6011b"
      },
      "source": [
        "for i in 'Thitiwut':\r\n",
        "  print(f'{i} -> /') # ปกติ print แล้วจะขึ้นบรรทัดใหม่ ตามค่า default"
      ],
      "execution_count": 2,
      "outputs": [
        {
          "output_type": "stream",
          "text": [
            "T -> /\n",
            "h -> /\n",
            "i -> /\n",
            "t -> /\n",
            "i -> /\n",
            "w -> /\n",
            "u -> /\n",
            "t -> /\n"
          ],
          "name": "stdout"
        }
      ]
    },
    {
      "cell_type": "code",
      "metadata": {
        "colab": {
          "base_uri": "https://localhost:8080/"
        },
        "id": "31iBT5dnVrhw",
        "outputId": "6a02574b-942d-4580-fac6-8a842fc2d4f0"
      },
      "source": [
        "for i in 'Thitiwut':\r\n",
        "  print(f'{i} -> /', end = '') #สั่งให้ print ไม่เว้นบรรทัด"
      ],
      "execution_count": 3,
      "outputs": [
        {
          "output_type": "stream",
          "text": [
            "T -> /h -> /i -> /t -> /i -> /w -> /u -> /t -> /"
          ],
          "name": "stdout"
        }
      ]
    },
    {
      "cell_type": "code",
      "metadata": {
        "colab": {
          "base_uri": "https://localhost:8080/"
        },
        "id": "zX2sknG1W6NW",
        "outputId": "a7f83981-2ff7-41eb-db5a-6a61a81bb401"
      },
      "source": [
        "for i in 'Thitiwut':\r\n",
        "  print(f'{i} -> /', end = ',') #สั่งให้ print มี , "
      ],
      "execution_count": 4,
      "outputs": [
        {
          "output_type": "stream",
          "text": [
            "T -> /,h -> /,i -> /,t -> /,i -> /,w -> /,u -> /,t -> /,"
          ],
          "name": "stdout"
        }
      ]
    },
    {
      "cell_type": "markdown",
      "metadata": {
        "id": "LIF--yjRfTu1"
      },
      "source": [
        "#### **List**"
      ]
    },
    {
      "cell_type": "markdown",
      "metadata": {
        "id": "LkKFHDN5XRId"
      },
      "source": [
        "\r\n",
        "\r\n",
        " สร้าง list ตัวเลขแบบอัตโนมัติ range() นำมาใช้ใน for ได้"
      ]
    },
    {
      "cell_type": "code",
      "metadata": {
        "colab": {
          "base_uri": "https://localhost:8080/"
        },
        "id": "GbW4VnAzXW4r",
        "outputId": "73f180ae-2e37-45c5-a176-944d08c1ccc3"
      },
      "source": [
        "range5_output = range(5)\r\n",
        "print(range5_output)\r\n",
        "print(list(range5_output))"
      ],
      "execution_count": 8,
      "outputs": [
        {
          "output_type": "stream",
          "text": [
            "range(0, 5)\n",
            "[0, 1, 2, 3, 4]\n"
          ],
          "name": "stdout"
        }
      ]
    },
    {
      "cell_type": "code",
      "metadata": {
        "colab": {
          "base_uri": "https://localhost:8080/"
        },
        "id": "94Uee8P2Y3UN",
        "outputId": "9743a20a-4acc-4240-9334-2dc81bb1695b"
      },
      "source": [
        "list1_10 = range(1,11) #สร้าง list เลขตั้งเเต่ 1-10\r\n",
        "print(list((list1_10)))"
      ],
      "execution_count": 14,
      "outputs": [
        {
          "output_type": "stream",
          "text": [
            "[1, 2, 3, 4, 5, 6, 7, 8, 9, 10]\n"
          ],
          "name": "stdout"
        }
      ]
    },
    {
      "cell_type": "markdown",
      "metadata": {
        "id": "w-db83icYR61"
      },
      "source": [
        "Ex."
      ]
    },
    {
      "cell_type": "code",
      "metadata": {
        "colab": {
          "base_uri": "https://localhost:8080/"
        },
        "id": "ImeKyWxGYDxk",
        "outputId": "3356a8ab-cbfd-49fe-e8ef-f4c0e66d8c33"
      },
      "source": [
        "for i in range(100):\r\n",
        "  print('5',end = '')"
      ],
      "execution_count": 10,
      "outputs": [
        {
          "output_type": "stream",
          "text": [
            "5555555555555555555555555555555555555555555555555555555555555555555555555555555555555555555555555555"
          ],
          "name": "stdout"
        }
      ]
    },
    {
      "cell_type": "code",
      "metadata": {
        "colab": {
          "base_uri": "https://localhost:8080/"
        },
        "id": "42KfgWs3YrXQ",
        "outputId": "ce8bd7ef-f8c8-4eca-f477-8a467463c155"
      },
      "source": [
        "for i in range(10):\r\n",
        "  print('ha',end = ' ')"
      ],
      "execution_count": 11,
      "outputs": [
        {
          "output_type": "stream",
          "text": [
            "ha ha ha ha ha ha ha ha ha ha "
          ],
          "name": "stdout"
        }
      ]
    },
    {
      "cell_type": "code",
      "metadata": {
        "colab": {
          "base_uri": "https://localhost:8080/"
        },
        "id": "cvbOAedsYff8",
        "outputId": "1801a168-bd94-47b2-f1ab-900aea8b5830"
      },
      "source": [
        "list(range(-3,20,4)) # เริ่มตั้งเเต่ -3 ไปถึง 20 โดย step ไปครั้งละ 4"
      ],
      "execution_count": 17,
      "outputs": [
        {
          "output_type": "execute_result",
          "data": {
            "text/plain": [
              "[-3, 1, 5, 9, 13, 17]"
            ]
          },
          "metadata": {
            "tags": []
          },
          "execution_count": 17
        }
      ]
    },
    {
      "cell_type": "markdown",
      "metadata": {
        "id": "NhideTilfO8G"
      },
      "source": [
        "####**loop in loop**"
      ]
    },
    {
      "cell_type": "markdown",
      "metadata": {
        "id": "xHfO5tftc_Zz"
      },
      "source": [
        "\r\n",
        "\r\n",
        "สามารถใช้ for loop ซ้อนกันสองรอบได้"
      ]
    },
    {
      "cell_type": "code",
      "metadata": {
        "colab": {
          "base_uri": "https://localhost:8080/"
        },
        "id": "hUYhqHRlcnck",
        "outputId": "97a8bf78-8d79-4759-c36d-cec8eaf11e34"
      },
      "source": [
        "for i in range(2,5): #(2,3,4)\r\n",
        "  for j in range(1,13):\r\n",
        "    print(i,'*',j,'=',i*j) # print อีกแบบคือ print(f'{i}*{j}={i*j}')"
      ],
      "execution_count": 19,
      "outputs": [
        {
          "output_type": "stream",
          "text": [
            "2 * 1 = 2\n",
            "2 * 2 = 4\n",
            "2 * 3 = 6\n",
            "2 * 4 = 8\n",
            "2 * 5 = 10\n",
            "2 * 6 = 12\n",
            "2 * 7 = 14\n",
            "2 * 8 = 16\n",
            "2 * 9 = 18\n",
            "2 * 10 = 20\n",
            "2 * 11 = 22\n",
            "2 * 12 = 24\n",
            "3 * 1 = 3\n",
            "3 * 2 = 6\n",
            "3 * 3 = 9\n",
            "3 * 4 = 12\n",
            "3 * 5 = 15\n",
            "3 * 6 = 18\n",
            "3 * 7 = 21\n",
            "3 * 8 = 24\n",
            "3 * 9 = 27\n",
            "3 * 10 = 30\n",
            "3 * 11 = 33\n",
            "3 * 12 = 36\n",
            "4 * 1 = 4\n",
            "4 * 2 = 8\n",
            "4 * 3 = 12\n",
            "4 * 4 = 16\n",
            "4 * 5 = 20\n",
            "4 * 6 = 24\n",
            "4 * 7 = 28\n",
            "4 * 8 = 32\n",
            "4 * 9 = 36\n",
            "4 * 10 = 40\n",
            "4 * 11 = 44\n",
            "4 * 12 = 48\n"
          ],
          "name": "stdout"
        }
      ]
    },
    {
      "cell_type": "code",
      "metadata": {
        "colab": {
          "base_uri": "https://localhost:8080/"
        },
        "id": "X_PVLwMCdwg7",
        "outputId": "776fb2b6-672d-4632-d085-1d3f6bdab211"
      },
      "source": [
        "for i in range(2,5): #(2,3,4)\r\n",
        "  print(f'\\nNow i = {i}')\r\n",
        "  for j in range(1,13):\r\n",
        "    print(f'{i}*{j}={i*j}')\r\n",
        "  print(f'the inner loop is end')"
      ],
      "execution_count": 23,
      "outputs": [
        {
          "output_type": "stream",
          "text": [
            "\n",
            "Now i = 2\n",
            "2*1=2\n",
            "2*2=4\n",
            "2*3=6\n",
            "2*4=8\n",
            "2*5=10\n",
            "2*6=12\n",
            "2*7=14\n",
            "2*8=16\n",
            "2*9=18\n",
            "2*10=20\n",
            "2*11=22\n",
            "2*12=24\n",
            "the inner loop is end\n",
            "\n",
            "Now i = 3\n",
            "3*1=3\n",
            "3*2=6\n",
            "3*3=9\n",
            "3*4=12\n",
            "3*5=15\n",
            "3*6=18\n",
            "3*7=21\n",
            "3*8=24\n",
            "3*9=27\n",
            "3*10=30\n",
            "3*11=33\n",
            "3*12=36\n",
            "the inner loop is end\n",
            "\n",
            "Now i = 4\n",
            "4*1=4\n",
            "4*2=8\n",
            "4*3=12\n",
            "4*4=16\n",
            "4*5=20\n",
            "4*6=24\n",
            "4*7=28\n",
            "4*8=32\n",
            "4*9=36\n",
            "4*10=40\n",
            "4*11=44\n",
            "4*12=48\n",
            "the inner loop is end\n"
          ],
          "name": "stdout"
        }
      ]
    },
    {
      "cell_type": "markdown",
      "metadata": {
        "id": "q9M3nSaPfdNS"
      },
      "source": [
        "#### **loop in function**"
      ]
    },
    {
      "cell_type": "code",
      "metadata": {
        "id": "zul7hyQCfgZ2"
      },
      "source": [
        "list_number = range(1,13)"
      ],
      "execution_count": 33,
      "outputs": []
    },
    {
      "cell_type": "code",
      "metadata": {
        "id": "hPWlTI6Kf5uV"
      },
      "source": [
        "def mul_table(i,range,):\r\n",
        "  for j in range:\r\n",
        "    print(f'{i}*{j} = {i*j}')"
      ],
      "execution_count": 37,
      "outputs": []
    },
    {
      "cell_type": "code",
      "metadata": {
        "colab": {
          "base_uri": "https://localhost:8080/"
        },
        "id": "ciuKf2xThZVh",
        "outputId": "aa5fc247-e0f4-434a-c9af-0e8ee0c30b2e"
      },
      "source": [
        "mul_table(2,list_number)"
      ],
      "execution_count": 38,
      "outputs": [
        {
          "output_type": "stream",
          "text": [
            "2*1 = 2\n",
            "2*2 = 4\n",
            "2*3 = 6\n",
            "2*4 = 8\n",
            "2*5 = 10\n",
            "2*6 = 12\n",
            "2*7 = 14\n",
            "2*8 = 16\n",
            "2*9 = 18\n",
            "2*10 = 20\n",
            "2*11 = 22\n",
            "2*12 = 24\n"
          ],
          "name": "stdout"
        }
      ]
    },
    {
      "cell_type": "code",
      "metadata": {
        "colab": {
          "base_uri": "https://localhost:8080/"
        },
        "id": "OaspwJm9hgvu",
        "outputId": "14733f7b-8b44-4b23-c514-4fa273750a0d"
      },
      "source": [
        "mul_table(12,list_number)"
      ],
      "execution_count": 39,
      "outputs": [
        {
          "output_type": "stream",
          "text": [
            "12*1 = 12\n",
            "12*2 = 24\n",
            "12*3 = 36\n",
            "12*4 = 48\n",
            "12*5 = 60\n",
            "12*6 = 72\n",
            "12*7 = 84\n",
            "12*8 = 96\n",
            "12*9 = 108\n",
            "12*10 = 120\n",
            "12*11 = 132\n",
            "12*12 = 144\n"
          ],
          "name": "stdout"
        }
      ]
    },
    {
      "cell_type": "markdown",
      "metadata": {
        "id": "mg1LTOybj99D"
      },
      "source": [
        "#Conditional"
      ]
    },
    {
      "cell_type": "markdown",
      "metadata": {
        "id": "dpRA37IskIgj"
      },
      "source": [
        "conditional คือ เงือนไข/ประโยคเือนไข"
      ]
    },
    {
      "cell_type": "markdown",
      "metadata": {
        "id": "kWqwSXqPkUTW"
      },
      "source": [
        "#### True / False"
      ]
    },
    {
      "cell_type": "markdown",
      "metadata": {
        "id": "2waK1uevkexK"
      },
      "source": [
        "การวนลูปโดยมีเงื่อนไขต่างๆมาเกี่ยวข้อง โดยมี pattern ดังนี้\r\n",
        "``` \r\n",
        "if condition1 :\r\n",
        "    do something\r\n",
        "elif condition2 :  #elif คือ else if\r\n",
        "    do another thing\r\n",
        "else:\r\n",
        "    do ...\r\n",
        "```"
      ]
    },
    {
      "cell_type": "code",
      "metadata": {
        "id": "cdsQyWSrkFHw"
      },
      "source": [
        "list_name = ['A','B','C','D']"
      ],
      "execution_count": 41,
      "outputs": []
    },
    {
      "cell_type": "code",
      "metadata": {
        "colab": {
          "base_uri": "https://localhost:8080/"
        },
        "id": "s6Ve6CTKlmZ7",
        "outputId": "edf48d3a-99da-4728-9444-7a13bd9009e9"
      },
      "source": [
        "for name1 in list_name:\r\n",
        "  for name2 in list_name:\r\n",
        "    print(name1,'KILL',name2)"
      ],
      "execution_count": 42,
      "outputs": [
        {
          "output_type": "stream",
          "text": [
            "A KILL A\n",
            "A KILL B\n",
            "A KILL C\n",
            "A KILL D\n",
            "B KILL A\n",
            "B KILL B\n",
            "B KILL C\n",
            "B KILL D\n",
            "C KILL A\n",
            "C KILL B\n",
            "C KILL C\n",
            "C KILL D\n",
            "D KILL A\n",
            "D KILL B\n",
            "D KILL C\n",
            "D KILL D\n"
          ],
          "name": "stdout"
        }
      ]
    },
    {
      "cell_type": "code",
      "metadata": {
        "colab": {
          "base_uri": "https://localhost:8080/"
        },
        "id": "WZJOIqEMmE5T",
        "outputId": "93f8f7fb-2860-494e-80f8-336c274de5e1"
      },
      "source": [
        "for name1 in list_name:\r\n",
        "  for name2 in list_name:\r\n",
        "    if name1 != name2 : #ไม่ print ชื่อคนซ้ำ\r\n",
        "       print(name1,'KILL',name2)\r\n"
      ],
      "execution_count": 44,
      "outputs": [
        {
          "output_type": "stream",
          "text": [
            "A KILL B\n",
            "A KILL C\n",
            "A KILL D\n",
            "B KILL A\n",
            "B KILL C\n",
            "B KILL D\n",
            "C KILL A\n",
            "C KILL B\n",
            "C KILL D\n",
            "D KILL A\n",
            "D KILL B\n",
            "D KILL C\n"
          ],
          "name": "stdout"
        }
      ]
    },
    {
      "cell_type": "code",
      "metadata": {
        "colab": {
          "base_uri": "https://localhost:8080/"
        },
        "id": "OAl8frllmNbP",
        "outputId": "436cbd25-3f71-4499-ad61-2e861998b3a5"
      },
      "source": [
        "for name1 in list_name:\r\n",
        "  for name2 in list_name:\r\n",
        "    if name1 == name2 : # print ชื่อคนซ้ำ\r\n",
        "       print(name1,'KILL',name2)"
      ],
      "execution_count": 45,
      "outputs": [
        {
          "output_type": "stream",
          "text": [
            "A KILL A\n",
            "B KILL B\n",
            "C KILL C\n",
            "D KILL D\n"
          ],
          "name": "stdout"
        }
      ]
    },
    {
      "cell_type": "code",
      "metadata": {
        "colab": {
          "base_uri": "https://localhost:8080/"
        },
        "id": "4Ff45fHnmYZZ",
        "outputId": "02751326-da51-40cb-c30f-371edc3b72ab"
      },
      "source": [
        "for name1 in list_name:\r\n",
        "  for name2 in list_name:\r\n",
        "    if name1 == name2 : \r\n",
        "       'do nothing'\r\n",
        "    else:  \r\n",
        "       print(name1,'KILL',name2)"
      ],
      "execution_count": 47,
      "outputs": [
        {
          "output_type": "stream",
          "text": [
            "A KILL B\n",
            "A KILL C\n",
            "A KILL D\n",
            "B KILL A\n",
            "B KILL C\n",
            "B KILL D\n",
            "C KILL A\n",
            "C KILL B\n",
            "C KILL D\n",
            "D KILL A\n",
            "D KILL B\n",
            "D KILL C\n"
          ],
          "name": "stdout"
        }
      ]
    },
    {
      "cell_type": "markdown",
      "metadata": {
        "id": "CBxeA6KBnB7u"
      },
      "source": [
        "==,!=,>=,<=,>,<"
      ]
    },
    {
      "cell_type": "code",
      "metadata": {
        "colab": {
          "base_uri": "https://localhost:8080/"
        },
        "id": "VvrOY8HymfEY",
        "outputId": "279f9519-cbf6-4b45-b43d-532fbf30ddf3"
      },
      "source": [
        "'A' == 'B'"
      ],
      "execution_count": 49,
      "outputs": [
        {
          "output_type": "execute_result",
          "data": {
            "text/plain": [
              "False"
            ]
          },
          "metadata": {
            "tags": []
          },
          "execution_count": 49
        }
      ]
    },
    {
      "cell_type": "code",
      "metadata": {
        "colab": {
          "base_uri": "https://localhost:8080/"
        },
        "id": "oQHEw6pnnOXx",
        "outputId": "a963067b-b0fb-46d3-ee52-04ee57a97b1d"
      },
      "source": [
        "'A' != 'B'"
      ],
      "execution_count": 50,
      "outputs": [
        {
          "output_type": "execute_result",
          "data": {
            "text/plain": [
              "True"
            ]
          },
          "metadata": {
            "tags": []
          },
          "execution_count": 50
        }
      ]
    },
    {
      "cell_type": "markdown",
      "metadata": {
        "id": "hRg82BgmnXmY"
      },
      "source": [
        "หากหลังเงื่อนไข True ถูกต้องจะทำการ print ข้อความออกมาว่า Yes"
      ]
    },
    {
      "cell_type": "code",
      "metadata": {
        "colab": {
          "base_uri": "https://localhost:8080/"
        },
        "id": "Rk4EZEmSnV07",
        "outputId": "2e13640d-42ac-4e74-a434-80b0cbffdec3"
      },
      "source": [
        "if True:\r\n",
        "  print('Yes')"
      ],
      "execution_count": 54,
      "outputs": [
        {
          "output_type": "stream",
          "text": [
            "Yes\n"
          ],
          "name": "stdout"
        }
      ]
    },
    {
      "cell_type": "code",
      "metadata": {
        "id": "fEtijjUJp_9B"
      },
      "source": [
        "if False:\r\n",
        "  print('No')"
      ],
      "execution_count": 55,
      "outputs": []
    },
    {
      "cell_type": "markdown",
      "metadata": {
        "id": "mVD0U419qGkt"
      },
      "source": [
        "หากหลังเงื่อนไข False ไม่ถูกต้องจะไม่ปริ้นข้อความใดๆออกมา\r\n",
        "\r\n",
        "ซึ่งจะต้องใช้เงื่อนไขนี้ จึงจะได้ปริ้นค่าเงื่อนไขนั้นออกมา ดังนี้"
      ]
    },
    {
      "cell_type": "code",
      "metadata": {
        "colab": {
          "base_uri": "https://localhost:8080/"
        },
        "id": "R7LSD8JqqH09",
        "outputId": "1d098f7b-68cf-4b13-d120-adff747b071d"
      },
      "source": [
        "if False:\r\n",
        "    print('Yes')\r\n",
        "else:\r\n",
        "    print('No')"
      ],
      "execution_count": 56,
      "outputs": [
        {
          "output_type": "stream",
          "text": [
            "No\n"
          ],
          "name": "stdout"
        }
      ]
    },
    {
      "cell_type": "markdown",
      "metadata": {
        "id": "-RPczBWOqMvw"
      },
      "source": [
        "#HW"
      ]
    },
    {
      "cell_type": "markdown",
      "metadata": {
        "id": "aQ6cnSo9uwEG"
      },
      "source": [
        "การบ้านที่ 4"
      ]
    },
    {
      "cell_type": "markdown",
      "metadata": {
        "id": "HvHc1WYLuCOv"
      },
      "source": [
        "####โจทย์"
      ]
    },
    {
      "cell_type": "markdown",
      "metadata": {
        "id": "lu6LiFCPqTot"
      },
      "source": [
        "เขียน function ตัดเกรด โดยที่ input เป็นคะแนน(0-100) , output เป็นเกรด (F-A)\r\n",
        "\r\n",
        "วนลูปตัดเกรด input = [1,50,65,90,101,-5,49]\r\n",
        "\r\n",
        "\r\n",
        "**กำหนด**\r\n",
        "```\r\n",
        "  ถ้าคะแนนอยู่ระหว่างมากกว่าหรือเท่ากับ  0  แต่น้อยกว่า 50 จะได้เกรด F\r\n",
        "\r\n",
        "  ถ้าคะแนนอยู่ระหว่างมากกว่าหรือเท่ากับ 50 แต่น้อยกว่า 55 จะได้เกรด D\r\n",
        "\r\n",
        "  ถ้าคะแนนอยู่ระหว่างมากกว่าหรือเท่ากับ 55 แต่น้อยกว่า 60 จะได้เกรด D+\r\n",
        "\r\n",
        "  ถ้าคะแนนอยู่ระหว่างมากกว่าหรือเท่ากับ 60 แต่น้อยกว่า 65 จะได้เกรด C\r\n",
        "\r\n",
        "  ถ้าคะแนนอยู่ระหว่างมากกว่าหรือเท่ากับ 65 แต่น้อยกว่า 70 จะได้เกรด C+\r\n",
        "\r\n",
        "  ถ้าคะแนนอยู่ระหว่างมากกว่าหรือเท่ากับ 70 แต่น้อยกว่า 75 จะได้เกรด B\r\n",
        "\r\n",
        "  ถ้าคะแนนอยู่ระหว่างมากกว่าหรือเท่ากับ 75 แต่น้อยกว่า 80 จะได้เกรด B+\r\n",
        "\r\n",
        "  ถ้าคะแนนอยู่ระหว่างมากกว่าหรือเท่ากับ 80  จะได้เกรด A\r\n",
        "\r\n",
        "  แต่ว่าค่าคะแนนจะต้องไม่ต่ำกว่า 0 และมากกว่า 100 ไม่งั้นจะเกิด error\r\n",
        "  ```"
      ]
    },
    {
      "cell_type": "markdown",
      "metadata": {
        "id": "uqku5H_muHuS"
      },
      "source": [
        "####ฟังก์ชั่นคำนวณเกรด"
      ]
    },
    {
      "cell_type": "code",
      "metadata": {
        "id": "TuG9oe5-rnNr"
      },
      "source": [
        "def cal_grade(score):\r\n",
        "  if score < 0 :\r\n",
        "    print(f'error: กรอกคะแนนผิด')\r\n",
        "  if score >= 0 and score < 50:\r\n",
        "    print(f'นักศึกษาคนนี้มีคะแนน {score} จะได้เกรด F')\r\n",
        "  if score >= 50 and score < 55:\r\n",
        "    print(f'นักศึกษาคนนี้มีคะแนน {score} จะได้เกรด D')\r\n",
        "  if score >= 55 and score < 60:\r\n",
        "    print(f'นักศึกษาคนนี้มีคะแนน {score} จะได้เกรด D+')\r\n",
        "  if score >= 60 and score < 65:\r\n",
        "    print(f'นักศึกษาคนนี้มีคะแนน {score} จะได้เกรด C')\r\n",
        "  if score >= 65 and score < 70:\r\n",
        "    print(f'นักศึกษาคนนี้มีคะแนน {score} จะได้เกรด C+')\r\n",
        "  if score >= 70 and score < 75:\r\n",
        "    print(f'นักศึกษาคนนี้มีคะแนน {score} จะได้เกรด B')\r\n",
        "  if score >= 75 and score < 80:\r\n",
        "    print(f'นักศึกษาคนนี้มีคะแนน {score} จะได้เกรด B+')\r\n",
        "  if score >= 80 and score < 100:\r\n",
        "    print(f'นักศึกษาคนนี้มีคะแนน {score} จะได้เกรด A')\r\n",
        "  if score >= 100 :\r\n",
        "    print(f'error: กรอกคะแนนผิด')\r\n",
        "\r\n"
      ],
      "execution_count": 59,
      "outputs": []
    },
    {
      "cell_type": "markdown",
      "metadata": {
        "id": "KWcrCjpQuQD-"
      },
      "source": [
        "####คำนวณเกรด"
      ]
    },
    {
      "cell_type": "code",
      "metadata": {
        "id": "MD3hXcdouZvo"
      },
      "source": [
        "input = [1,50,65,90,101,-5,49]"
      ],
      "execution_count": 61,
      "outputs": []
    },
    {
      "cell_type": "code",
      "metadata": {
        "colab": {
          "base_uri": "https://localhost:8080/"
        },
        "id": "Gc9Zqr7NtuUq",
        "outputId": "94b77547-a285-41bc-a10a-ad052c81ba31"
      },
      "source": [
        "for score in input:\r\n",
        "  cal_grade(score)"
      ],
      "execution_count": 62,
      "outputs": [
        {
          "output_type": "stream",
          "text": [
            "นักศึกษาคนนี้มีคะแนน 1 จะได้เกรด F\n",
            "นักศึกษาคนนี้มีคะแนน 50 จะได้เกรด D\n",
            "นักศึกษาคนนี้มีคะแนน 65 จะได้เกรด C+\n",
            "นักศึกษาคนนี้มีคะแนน 90 จะได้เกรด A\n",
            "error: กรอกคะแนนผิด\n",
            "error: กรอกคะแนนผิด\n",
            "นักศึกษาคนนี้มีคะแนน 49 จะได้เกรด F\n"
          ],
          "name": "stdout"
        }
      ]
    }
  ]
}